{
  "nbformat": 4,
  "nbformat_minor": 0,
  "metadata": {
    "colab": {
      "name": "NCF_bundle.ipynb",
      "provenance": [],
      "collapsed_sections": [],
      "machine_shape": "hm"
    },
    "kernelspec": {
      "name": "python3",
      "display_name": "Python 3"
    },
    "accelerator": "GPU"
  },
  "cells": [
    {
      "cell_type": "code",
      "metadata": {
        "id": "NI4SXizOFfAc",
        "colab_type": "code",
        "colab": {
          "base_uri": "https://localhost:8080/",
          "height": 122
        },
        "outputId": "455f35ce-f6ff-4348-c0bf-93c29a1c9afb"
      },
      "source": [
        "from google.colab import drive\n",
        "drive.mount('/content/gdrive/')"
      ],
      "execution_count": 1,
      "outputs": [
        {
          "output_type": "stream",
          "text": [
            "Go to this URL in a browser: https://accounts.google.com/o/oauth2/auth?client_id=947318989803-6bn6qk8qdgf4n4g3pfee6491hc0brc4i.apps.googleusercontent.com&redirect_uri=urn%3aietf%3awg%3aoauth%3a2.0%3aoob&response_type=code&scope=email%20https%3a%2f%2fwww.googleapis.com%2fauth%2fdocs.test%20https%3a%2f%2fwww.googleapis.com%2fauth%2fdrive%20https%3a%2f%2fwww.googleapis.com%2fauth%2fdrive.photos.readonly%20https%3a%2f%2fwww.googleapis.com%2fauth%2fpeopleapi.readonly\n",
            "\n",
            "Enter your authorization code:\n",
            "··········\n",
            "Mounted at /content/gdrive/\n"
          ],
          "name": "stdout"
        }
      ]
    },
    {
      "cell_type": "code",
      "metadata": {
        "id": "W7zUjH2QGS9J",
        "colab_type": "code",
        "colab": {
          "base_uri": "https://localhost:8080/",
          "height": 51
        },
        "outputId": "b86f9576-6982-453c-da3f-4e7f1b7782aa"
      },
      "source": [
        "import numpy as np\n",
        "import scipy.sparse as sp\n",
        "import tensorflow as tf\n",
        "from tensorflow import keras\n",
        "from keras import backend as K\n",
        "from keras import initializers\n",
        "from keras.models import Sequential, Model, load_model, save_model\n",
        "from keras.layers.core import Dense, Lambda, Activation\n",
        "from keras.layers import Embedding, Input, Dense, Multiply, Reshape, Flatten, Concatenate\n",
        "from keras.optimizers import Adam\n",
        "from keras.regularizers import l2\n",
        "import pandas as pd\n",
        "\n",
        "import json, sys, random, os, datetime, math\n",
        "print(tf.__version__)\n",
        "print(keras.__version__)\n",
        "\n"
      ],
      "execution_count": 2,
      "outputs": [
        {
          "output_type": "stream",
          "text": [
            "2.3.0\n",
            "2.4.0\n"
          ],
          "name": "stdout"
        }
      ]
    },
    {
      "cell_type": "markdown",
      "metadata": {
        "id": "JIBFWQDCvkfc",
        "colab_type": "text"
      },
      "source": [
        "#Data Pre-processing\n"
      ]
    },
    {
      "cell_type": "code",
      "metadata": {
        "id": "Vs7GNwODJlJG",
        "colab_type": "code",
        "colab": {}
      },
      "source": [
        "from_json_df = pd.read_json('/content/gdrive/My Drive/cmpe256-homework2/video_bundle_data2.json')"
      ],
      "execution_count": 3,
      "outputs": []
    },
    {
      "cell_type": "code",
      "metadata": {
        "id": "z4Yq4dgrJyL1",
        "colab_type": "code",
        "colab": {
          "base_uri": "https://localhost:8080/",
          "height": 513
        },
        "outputId": "f3cc26bb-1346-4a83-b880-93343780b6dd"
      },
      "source": [
        "from_json_df.head(5)"
      ],
      "execution_count": 4,
      "outputs": [
        {
          "output_type": "execute_result",
          "data": {
            "text/html": [
              "<div>\n",
              "<style scoped>\n",
              "    .dataframe tbody tr th:only-of-type {\n",
              "        vertical-align: middle;\n",
              "    }\n",
              "\n",
              "    .dataframe tbody tr th {\n",
              "        vertical-align: top;\n",
              "    }\n",
              "\n",
              "    .dataframe thead th {\n",
              "        text-align: right;\n",
              "    }\n",
              "</style>\n",
              "<table border=\"1\" class=\"dataframe\">\n",
              "  <thead>\n",
              "    <tr style=\"text-align: right;\">\n",
              "      <th></th>\n",
              "      <th>bundle_final_price</th>\n",
              "      <th>bundle_url</th>\n",
              "      <th>bundle_price</th>\n",
              "      <th>bundle_name</th>\n",
              "      <th>bundle_id</th>\n",
              "      <th>items</th>\n",
              "      <th>bundle_discount</th>\n",
              "    </tr>\n",
              "  </thead>\n",
              "  <tbody>\n",
              "    <tr>\n",
              "      <th>0</th>\n",
              "      <td>$66.46</td>\n",
              "      <td>http://store.steampowered.com/bundle/450/?utm_...</td>\n",
              "      <td>$73.86</td>\n",
              "      <td>Dharker Studio 2015 Complete</td>\n",
              "      <td>450</td>\n",
              "      <td>[{'genre': 'Adventure, Indie, RPG', 'item_id':...</td>\n",
              "      <td>10%</td>\n",
              "    </tr>\n",
              "    <tr>\n",
              "      <th>1</th>\n",
              "      <td>$20.15</td>\n",
              "      <td>http://store.steampowered.com/bundle/1473/?utm...</td>\n",
              "      <td>$25.87</td>\n",
              "      <td>Naruto Shippuden Uncut Season 4, Vol. 3</td>\n",
              "      <td>1473</td>\n",
              "      <td>[{'genre': '', 'item_id': '528360', 'discounte...</td>\n",
              "      <td>22%</td>\n",
              "    </tr>\n",
              "    <tr>\n",
              "      <th>2</th>\n",
              "      <td>$20.15</td>\n",
              "      <td>http://store.steampowered.com/bundle/1474/?utm...</td>\n",
              "      <td>$25.87</td>\n",
              "      <td>Naruto Shippuden Uncut Season 4, Vol. 4</td>\n",
              "      <td>1474</td>\n",
              "      <td>[{'genre': '', 'item_id': '528380', 'discounte...</td>\n",
              "      <td>22%</td>\n",
              "    </tr>\n",
              "    <tr>\n",
              "      <th>3</th>\n",
              "      <td>$15.17</td>\n",
              "      <td>http://store.steampowered.com/bundle/1437/?utm...</td>\n",
              "      <td>$25.35</td>\n",
              "      <td>Pixel Puzzles Ultimate: Starter Kit</td>\n",
              "      <td>1437</td>\n",
              "      <td>[{'genre': 'Casual, Free to Play, Indie, Simul...</td>\n",
              "      <td>40%</td>\n",
              "    </tr>\n",
              "    <tr>\n",
              "      <th>4</th>\n",
              "      <td>$20.15</td>\n",
              "      <td>http://store.steampowered.com/bundle/1466/?utm...</td>\n",
              "      <td>$25.87</td>\n",
              "      <td>Naruto Shippuden Uncut Season 4, Vol. 1</td>\n",
              "      <td>1466</td>\n",
              "      <td>[{'genre': '', 'item_id': '527830', 'discounte...</td>\n",
              "      <td>22%</td>\n",
              "    </tr>\n",
              "  </tbody>\n",
              "</table>\n",
              "</div>"
            ],
            "text/plain": [
              "  bundle_final_price  ... bundle_discount\n",
              "0             $66.46  ...             10%\n",
              "1             $20.15  ...             22%\n",
              "2             $20.15  ...             22%\n",
              "3             $15.17  ...             40%\n",
              "4             $20.15  ...             22%\n",
              "\n",
              "[5 rows x 7 columns]"
            ]
          },
          "metadata": {
            "tags": []
          },
          "execution_count": 4
        }
      ]
    },
    {
      "cell_type": "code",
      "metadata": {
        "id": "eI3l8rMPGYL1",
        "colab_type": "code",
        "colab": {}
      },
      "source": [
        "data = from_json_df[['bundle_name','bundle_id','items']]"
      ],
      "execution_count": 5,
      "outputs": []
    },
    {
      "cell_type": "code",
      "metadata": {
        "id": "PFXC1EOTKHpp",
        "colab_type": "code",
        "colab": {
          "base_uri": "https://localhost:8080/",
          "height": 204
        },
        "outputId": "b90eb75e-7b10-4bd6-b583-ea60dde94001"
      },
      "source": [
        "data.head()"
      ],
      "execution_count": 6,
      "outputs": [
        {
          "output_type": "execute_result",
          "data": {
            "text/html": [
              "<div>\n",
              "<style scoped>\n",
              "    .dataframe tbody tr th:only-of-type {\n",
              "        vertical-align: middle;\n",
              "    }\n",
              "\n",
              "    .dataframe tbody tr th {\n",
              "        vertical-align: top;\n",
              "    }\n",
              "\n",
              "    .dataframe thead th {\n",
              "        text-align: right;\n",
              "    }\n",
              "</style>\n",
              "<table border=\"1\" class=\"dataframe\">\n",
              "  <thead>\n",
              "    <tr style=\"text-align: right;\">\n",
              "      <th></th>\n",
              "      <th>bundle_name</th>\n",
              "      <th>bundle_id</th>\n",
              "      <th>items</th>\n",
              "    </tr>\n",
              "  </thead>\n",
              "  <tbody>\n",
              "    <tr>\n",
              "      <th>0</th>\n",
              "      <td>Dharker Studio 2015 Complete</td>\n",
              "      <td>450</td>\n",
              "      <td>[{'genre': 'Adventure, Indie, RPG', 'item_id':...</td>\n",
              "    </tr>\n",
              "    <tr>\n",
              "      <th>1</th>\n",
              "      <td>Naruto Shippuden Uncut Season 4, Vol. 3</td>\n",
              "      <td>1473</td>\n",
              "      <td>[{'genre': '', 'item_id': '528360', 'discounte...</td>\n",
              "    </tr>\n",
              "    <tr>\n",
              "      <th>2</th>\n",
              "      <td>Naruto Shippuden Uncut Season 4, Vol. 4</td>\n",
              "      <td>1474</td>\n",
              "      <td>[{'genre': '', 'item_id': '528380', 'discounte...</td>\n",
              "    </tr>\n",
              "    <tr>\n",
              "      <th>3</th>\n",
              "      <td>Pixel Puzzles Ultimate: Starter Kit</td>\n",
              "      <td>1437</td>\n",
              "      <td>[{'genre': 'Casual, Free to Play, Indie, Simul...</td>\n",
              "    </tr>\n",
              "    <tr>\n",
              "      <th>4</th>\n",
              "      <td>Naruto Shippuden Uncut Season 4, Vol. 1</td>\n",
              "      <td>1466</td>\n",
              "      <td>[{'genre': '', 'item_id': '527830', 'discounte...</td>\n",
              "    </tr>\n",
              "  </tbody>\n",
              "</table>\n",
              "</div>"
            ],
            "text/plain": [
              "                               bundle_name  ...                                              items\n",
              "0             Dharker Studio 2015 Complete  ...  [{'genre': 'Adventure, Indie, RPG', 'item_id':...\n",
              "1  Naruto Shippuden Uncut Season 4, Vol. 3  ...  [{'genre': '', 'item_id': '528360', 'discounte...\n",
              "2  Naruto Shippuden Uncut Season 4, Vol. 4  ...  [{'genre': '', 'item_id': '528380', 'discounte...\n",
              "3      Pixel Puzzles Ultimate: Starter Kit  ...  [{'genre': 'Casual, Free to Play, Indie, Simul...\n",
              "4  Naruto Shippuden Uncut Season 4, Vol. 1  ...  [{'genre': '', 'item_id': '527830', 'discounte...\n",
              "\n",
              "[5 rows x 3 columns]"
            ]
          },
          "metadata": {
            "tags": []
          },
          "execution_count": 6
        }
      ]
    },
    {
      "cell_type": "code",
      "metadata": {
        "id": "GosOt4xT9urQ",
        "colab_type": "code",
        "colab": {
          "base_uri": "https://localhost:8080/",
          "height": 221
        },
        "outputId": "8f64e2c0-16cd-4dfa-9b2c-9e466b3e78ab"
      },
      "source": [
        "items_split_array = []\n",
        "for index, row in data.iterrows():\n",
        "  for item in row['items']:\n",
        "    items_split_array.append([item['item_id'], item['item_name'], item['genre'], row['bundle_id']])\n",
        "df = pd.DataFrame(items_split_array, columns=['item_id', 'item_name', 'genre', 'bundle_id'])\n",
        "print(df.shape)\n",
        "df.head()"
      ],
      "execution_count": 7,
      "outputs": [
        {
          "output_type": "stream",
          "text": [
            "(3525, 4)\n"
          ],
          "name": "stdout"
        },
        {
          "output_type": "execute_result",
          "data": {
            "text/html": [
              "<div>\n",
              "<style scoped>\n",
              "    .dataframe tbody tr th:only-of-type {\n",
              "        vertical-align: middle;\n",
              "    }\n",
              "\n",
              "    .dataframe tbody tr th {\n",
              "        vertical-align: top;\n",
              "    }\n",
              "\n",
              "    .dataframe thead th {\n",
              "        text-align: right;\n",
              "    }\n",
              "</style>\n",
              "<table border=\"1\" class=\"dataframe\">\n",
              "  <thead>\n",
              "    <tr style=\"text-align: right;\">\n",
              "      <th></th>\n",
              "      <th>item_id</th>\n",
              "      <th>item_name</th>\n",
              "      <th>genre</th>\n",
              "      <th>bundle_id</th>\n",
              "    </tr>\n",
              "  </thead>\n",
              "  <tbody>\n",
              "    <tr>\n",
              "      <th>0</th>\n",
              "      <td>326950</td>\n",
              "      <td>Sword of Asumi</td>\n",
              "      <td>Adventure, Indie, RPG</td>\n",
              "      <td>450</td>\n",
              "    </tr>\n",
              "    <tr>\n",
              "      <th>1</th>\n",
              "      <td>331490</td>\n",
              "      <td>Sword of Asumi - Soundtrack</td>\n",
              "      <td>Adventure, Indie, RPG</td>\n",
              "      <td>450</td>\n",
              "    </tr>\n",
              "    <tr>\n",
              "      <th>2</th>\n",
              "      <td>331491</td>\n",
              "      <td>Sword of Asumi - Graphic Novel</td>\n",
              "      <td>Adventure, Indie, RPG</td>\n",
              "      <td>450</td>\n",
              "    </tr>\n",
              "    <tr>\n",
              "      <th>3</th>\n",
              "      <td>331492</td>\n",
              "      <td>Sword of Asumi - Character Creator</td>\n",
              "      <td>Adventure, Indie, RPG</td>\n",
              "      <td>450</td>\n",
              "    </tr>\n",
              "    <tr>\n",
              "      <th>4</th>\n",
              "      <td>348540</td>\n",
              "      <td>Divine Slice of Life</td>\n",
              "      <td>Adventure, Casual, Indie</td>\n",
              "      <td>450</td>\n",
              "    </tr>\n",
              "  </tbody>\n",
              "</table>\n",
              "</div>"
            ],
            "text/plain": [
              "  item_id  ... bundle_id\n",
              "0  326950  ...       450\n",
              "1  331490  ...       450\n",
              "2  331491  ...       450\n",
              "3  331492  ...       450\n",
              "4  348540  ...       450\n",
              "\n",
              "[5 rows x 4 columns]"
            ]
          },
          "metadata": {
            "tags": []
          },
          "execution_count": 7
        }
      ]
    },
    {
      "cell_type": "code",
      "metadata": {
        "id": "QKoCHKxD74-S",
        "colab_type": "code",
        "colab": {
          "base_uri": "https://localhost:8080/",
          "height": 204
        },
        "outputId": "95564a3a-f5fd-4044-9427-1fad225c1223"
      },
      "source": [
        "df.info()"
      ],
      "execution_count": 8,
      "outputs": [
        {
          "output_type": "stream",
          "text": [
            "<class 'pandas.core.frame.DataFrame'>\n",
            "RangeIndex: 3525 entries, 0 to 3524\n",
            "Data columns (total 4 columns):\n",
            " #   Column     Non-Null Count  Dtype \n",
            "---  ------     --------------  ----- \n",
            " 0   item_id    3525 non-null   object\n",
            " 1   item_name  3525 non-null   object\n",
            " 2   genre      3525 non-null   object\n",
            " 3   bundle_id  3525 non-null   int64 \n",
            "dtypes: int64(1), object(3)\n",
            "memory usage: 110.3+ KB\n"
          ],
          "name": "stdout"
        }
      ]
    },
    {
      "cell_type": "code",
      "metadata": {
        "id": "jZbETRoX_ICh",
        "colab_type": "code",
        "colab": {
          "base_uri": "https://localhost:8080/",
          "height": 297
        },
        "outputId": "6a2776e4-ff9a-4b62-bfba-41db71ce5015"
      },
      "source": [
        "df.describe()"
      ],
      "execution_count": 9,
      "outputs": [
        {
          "output_type": "execute_result",
          "data": {
            "text/html": [
              "<div>\n",
              "<style scoped>\n",
              "    .dataframe tbody tr th:only-of-type {\n",
              "        vertical-align: middle;\n",
              "    }\n",
              "\n",
              "    .dataframe tbody tr th {\n",
              "        vertical-align: top;\n",
              "    }\n",
              "\n",
              "    .dataframe thead th {\n",
              "        text-align: right;\n",
              "    }\n",
              "</style>\n",
              "<table border=\"1\" class=\"dataframe\">\n",
              "  <thead>\n",
              "    <tr style=\"text-align: right;\">\n",
              "      <th></th>\n",
              "      <th>bundle_id</th>\n",
              "    </tr>\n",
              "  </thead>\n",
              "  <tbody>\n",
              "    <tr>\n",
              "      <th>count</th>\n",
              "      <td>3525.000000</td>\n",
              "    </tr>\n",
              "    <tr>\n",
              "      <th>mean</th>\n",
              "      <td>715.415603</td>\n",
              "    </tr>\n",
              "    <tr>\n",
              "      <th>std</th>\n",
              "      <td>396.726058</td>\n",
              "    </tr>\n",
              "    <tr>\n",
              "      <th>min</th>\n",
              "      <td>15.000000</td>\n",
              "    </tr>\n",
              "    <tr>\n",
              "      <th>25%</th>\n",
              "      <td>362.000000</td>\n",
              "    </tr>\n",
              "    <tr>\n",
              "      <th>50%</th>\n",
              "      <td>634.000000</td>\n",
              "    </tr>\n",
              "    <tr>\n",
              "      <th>75%</th>\n",
              "      <td>1028.000000</td>\n",
              "    </tr>\n",
              "    <tr>\n",
              "      <th>max</th>\n",
              "      <td>1482.000000</td>\n",
              "    </tr>\n",
              "  </tbody>\n",
              "</table>\n",
              "</div>"
            ],
            "text/plain": [
              "         bundle_id\n",
              "count  3525.000000\n",
              "mean    715.415603\n",
              "std     396.726058\n",
              "min      15.000000\n",
              "25%     362.000000\n",
              "50%     634.000000\n",
              "75%    1028.000000\n",
              "max    1482.000000"
            ]
          },
          "metadata": {
            "tags": []
          },
          "execution_count": 9
        }
      ]
    },
    {
      "cell_type": "code",
      "metadata": {
        "id": "XP-7PR8y8JiF",
        "colab_type": "code",
        "colab": {
          "base_uri": "https://localhost:8080/",
          "height": 34
        },
        "outputId": "7cd2de74-dc58-4045-fd03-2c0b1a39962e"
      },
      "source": [
        "df[df.genre == ''].shape[0]"
      ],
      "execution_count": null,
      "outputs": [
        {
          "output_type": "execute_result",
          "data": {
            "text/plain": [
              "345"
            ]
          },
          "metadata": {
            "tags": []
          },
          "execution_count": 9
        }
      ]
    },
    {
      "cell_type": "code",
      "metadata": {
        "id": "bzUFTqw2-XHJ",
        "colab_type": "code",
        "colab": {
          "base_uri": "https://localhost:8080/",
          "height": 34
        },
        "outputId": "5e43a5e8-7c20-4bf4-9a19-3b2f4b648f5b"
      },
      "source": [
        "df['genre'].isin(['Action']).sum(axis=0)"
      ],
      "execution_count": null,
      "outputs": [
        {
          "output_type": "execute_result",
          "data": {
            "text/plain": [
              "261"
            ]
          },
          "metadata": {
            "tags": []
          },
          "execution_count": 10
        }
      ]
    },
    {
      "cell_type": "code",
      "metadata": {
        "id": "xJJ730p9-EJx",
        "colab_type": "code",
        "colab": {
          "base_uri": "https://localhost:8080/",
          "height": 221
        },
        "outputId": "a49e04dd-e295-48f8-a3c0-79a1a210c803"
      },
      "source": [
        "df.genre.value_counts()"
      ],
      "execution_count": 10,
      "outputs": [
        {
          "output_type": "execute_result",
          "data": {
            "text/plain": [
              "                                                         345\n",
              "Action                                                   261\n",
              "Action, Adventure                                        192\n",
              "Action, Indie                                            134\n",
              "Strategy                                                 121\n",
              "                                                        ... \n",
              "Action, Indie, Massively Multiplayer                       1\n",
              "Action, Adventure, Casual, Racing, Simulation, Sports      1\n",
              "Casual, Racing                                             1\n",
              "Action, Casual, Indie, Simulation, Early Access            1\n",
              "Action, Casual, Indie, RPG                                 1\n",
              "Name: genre, Length: 197, dtype: int64"
            ]
          },
          "metadata": {
            "tags": []
          },
          "execution_count": 10
        }
      ]
    },
    {
      "cell_type": "code",
      "metadata": {
        "id": "UtRWeocqBsVW",
        "colab_type": "code",
        "colab": {}
      },
      "source": [
        "df[\"genre\"].replace([\"\"], \"Others\", inplace=True)"
      ],
      "execution_count": 11,
      "outputs": []
    },
    {
      "cell_type": "code",
      "metadata": {
        "id": "hpq4sOkfLW-l",
        "colab_type": "code",
        "colab": {
          "base_uri": "https://localhost:8080/",
          "height": 221
        },
        "outputId": "3ec12a1f-b531-4519-9ba0-fa3694c3d20f"
      },
      "source": [
        "df.genre.value_counts()"
      ],
      "execution_count": 12,
      "outputs": [
        {
          "output_type": "execute_result",
          "data": {
            "text/plain": [
              "Others                                                          345\n",
              "Action                                                          261\n",
              "Action, Adventure                                               192\n",
              "Action, Indie                                                   134\n",
              "Strategy                                                        121\n",
              "                                                               ... \n",
              "Action, Casual, Indie, Simulation, Early Access                   1\n",
              "Adventure, Casual, Indie, Simulation, Strategy, Early Access      1\n",
              "Strategy, Indie, Action                                           1\n",
              "Casual, Indie, Early Access                                       1\n",
              "Adventure, Indie, RPG, Simulation, Strategy, Early Access         1\n",
              "Name: genre, Length: 197, dtype: int64"
            ]
          },
          "metadata": {
            "tags": []
          },
          "execution_count": 12
        }
      ]
    },
    {
      "cell_type": "code",
      "metadata": {
        "id": "PADltShWN7CR",
        "colab_type": "code",
        "colab": {
          "base_uri": "https://localhost:8080/",
          "height": 204
        },
        "outputId": "4bc39fbd-6d97-41c5-fef2-cdd1dda6d134"
      },
      "source": [
        "item_ids = df[\"item_id\"].unique().tolist()\n",
        "len(item_ids)\n",
        "item2item_encoded = {x: i for i, x in enumerate(item_ids)}\n",
        "item_encoded2item = {i: x for i, x in enumerate(item_ids)}\n",
        "df['itemId'] = df[\"item_id\"].map(item2item_encoded)\n",
        "\n",
        "df.head()"
      ],
      "execution_count": 13,
      "outputs": [
        {
          "output_type": "execute_result",
          "data": {
            "text/html": [
              "<div>\n",
              "<style scoped>\n",
              "    .dataframe tbody tr th:only-of-type {\n",
              "        vertical-align: middle;\n",
              "    }\n",
              "\n",
              "    .dataframe tbody tr th {\n",
              "        vertical-align: top;\n",
              "    }\n",
              "\n",
              "    .dataframe thead th {\n",
              "        text-align: right;\n",
              "    }\n",
              "</style>\n",
              "<table border=\"1\" class=\"dataframe\">\n",
              "  <thead>\n",
              "    <tr style=\"text-align: right;\">\n",
              "      <th></th>\n",
              "      <th>item_id</th>\n",
              "      <th>item_name</th>\n",
              "      <th>genre</th>\n",
              "      <th>bundle_id</th>\n",
              "      <th>itemId</th>\n",
              "    </tr>\n",
              "  </thead>\n",
              "  <tbody>\n",
              "    <tr>\n",
              "      <th>0</th>\n",
              "      <td>326950</td>\n",
              "      <td>Sword of Asumi</td>\n",
              "      <td>Adventure, Indie, RPG</td>\n",
              "      <td>450</td>\n",
              "      <td>0</td>\n",
              "    </tr>\n",
              "    <tr>\n",
              "      <th>1</th>\n",
              "      <td>331490</td>\n",
              "      <td>Sword of Asumi - Soundtrack</td>\n",
              "      <td>Adventure, Indie, RPG</td>\n",
              "      <td>450</td>\n",
              "      <td>1</td>\n",
              "    </tr>\n",
              "    <tr>\n",
              "      <th>2</th>\n",
              "      <td>331491</td>\n",
              "      <td>Sword of Asumi - Graphic Novel</td>\n",
              "      <td>Adventure, Indie, RPG</td>\n",
              "      <td>450</td>\n",
              "      <td>2</td>\n",
              "    </tr>\n",
              "    <tr>\n",
              "      <th>3</th>\n",
              "      <td>331492</td>\n",
              "      <td>Sword of Asumi - Character Creator</td>\n",
              "      <td>Adventure, Indie, RPG</td>\n",
              "      <td>450</td>\n",
              "      <td>3</td>\n",
              "    </tr>\n",
              "    <tr>\n",
              "      <th>4</th>\n",
              "      <td>348540</td>\n",
              "      <td>Divine Slice of Life</td>\n",
              "      <td>Adventure, Casual, Indie</td>\n",
              "      <td>450</td>\n",
              "      <td>4</td>\n",
              "    </tr>\n",
              "  </tbody>\n",
              "</table>\n",
              "</div>"
            ],
            "text/plain": [
              "  item_id                           item_name  ... bundle_id  itemId\n",
              "0  326950                      Sword of Asumi  ...       450       0\n",
              "1  331490         Sword of Asumi - Soundtrack  ...       450       1\n",
              "2  331491      Sword of Asumi - Graphic Novel  ...       450       2\n",
              "3  331492  Sword of Asumi - Character Creator  ...       450       3\n",
              "4  348540                Divine Slice of Life  ...       450       4\n",
              "\n",
              "[5 rows x 5 columns]"
            ]
          },
          "metadata": {
            "tags": []
          },
          "execution_count": 13
        }
      ]
    },
    {
      "cell_type": "code",
      "metadata": {
        "id": "3jJwL4pqPYeI",
        "colab_type": "code",
        "colab": {
          "base_uri": "https://localhost:8080/",
          "height": 204
        },
        "outputId": "ede55879-c791-4b4d-be7f-073769c3a5b0"
      },
      "source": [
        "bundle_ids = df[\"bundle_id\"].unique().tolist()\n",
        "bundle2bundle_encoded = {x: i for i, x in enumerate(bundle_ids)}\n",
        "bundle_encoded2bundle = {i: x for i, x in enumerate(bundle_ids)}\n",
        "df[\"bundleId\"] = df[\"bundle_id\"].map(bundle2bundle_encoded)\n",
        "df.head()"
      ],
      "execution_count": 14,
      "outputs": [
        {
          "output_type": "execute_result",
          "data": {
            "text/html": [
              "<div>\n",
              "<style scoped>\n",
              "    .dataframe tbody tr th:only-of-type {\n",
              "        vertical-align: middle;\n",
              "    }\n",
              "\n",
              "    .dataframe tbody tr th {\n",
              "        vertical-align: top;\n",
              "    }\n",
              "\n",
              "    .dataframe thead th {\n",
              "        text-align: right;\n",
              "    }\n",
              "</style>\n",
              "<table border=\"1\" class=\"dataframe\">\n",
              "  <thead>\n",
              "    <tr style=\"text-align: right;\">\n",
              "      <th></th>\n",
              "      <th>item_id</th>\n",
              "      <th>item_name</th>\n",
              "      <th>genre</th>\n",
              "      <th>bundle_id</th>\n",
              "      <th>itemId</th>\n",
              "      <th>bundleId</th>\n",
              "    </tr>\n",
              "  </thead>\n",
              "  <tbody>\n",
              "    <tr>\n",
              "      <th>0</th>\n",
              "      <td>326950</td>\n",
              "      <td>Sword of Asumi</td>\n",
              "      <td>Adventure, Indie, RPG</td>\n",
              "      <td>450</td>\n",
              "      <td>0</td>\n",
              "      <td>0</td>\n",
              "    </tr>\n",
              "    <tr>\n",
              "      <th>1</th>\n",
              "      <td>331490</td>\n",
              "      <td>Sword of Asumi - Soundtrack</td>\n",
              "      <td>Adventure, Indie, RPG</td>\n",
              "      <td>450</td>\n",
              "      <td>1</td>\n",
              "      <td>0</td>\n",
              "    </tr>\n",
              "    <tr>\n",
              "      <th>2</th>\n",
              "      <td>331491</td>\n",
              "      <td>Sword of Asumi - Graphic Novel</td>\n",
              "      <td>Adventure, Indie, RPG</td>\n",
              "      <td>450</td>\n",
              "      <td>2</td>\n",
              "      <td>0</td>\n",
              "    </tr>\n",
              "    <tr>\n",
              "      <th>3</th>\n",
              "      <td>331492</td>\n",
              "      <td>Sword of Asumi - Character Creator</td>\n",
              "      <td>Adventure, Indie, RPG</td>\n",
              "      <td>450</td>\n",
              "      <td>3</td>\n",
              "      <td>0</td>\n",
              "    </tr>\n",
              "    <tr>\n",
              "      <th>4</th>\n",
              "      <td>348540</td>\n",
              "      <td>Divine Slice of Life</td>\n",
              "      <td>Adventure, Casual, Indie</td>\n",
              "      <td>450</td>\n",
              "      <td>4</td>\n",
              "      <td>0</td>\n",
              "    </tr>\n",
              "  </tbody>\n",
              "</table>\n",
              "</div>"
            ],
            "text/plain": [
              "  item_id                           item_name  ... itemId  bundleId\n",
              "0  326950                      Sword of Asumi  ...      0         0\n",
              "1  331490         Sword of Asumi - Soundtrack  ...      1         0\n",
              "2  331491      Sword of Asumi - Graphic Novel  ...      2         0\n",
              "3  331492  Sword of Asumi - Character Creator  ...      3         0\n",
              "4  348540                Divine Slice of Life  ...      4         0\n",
              "\n",
              "[5 rows x 6 columns]"
            ]
          },
          "metadata": {
            "tags": []
          },
          "execution_count": 14
        }
      ]
    },
    {
      "cell_type": "code",
      "metadata": {
        "id": "-9s5mkriCma4",
        "colab_type": "code",
        "colab": {
          "base_uri": "https://localhost:8080/",
          "height": 34
        },
        "outputId": "2f9c0b8c-f779-4aef-d309-2b4f9082f023"
      },
      "source": [
        "df.bundleId.min()"
      ],
      "execution_count": 15,
      "outputs": [
        {
          "output_type": "execute_result",
          "data": {
            "text/plain": [
              "0"
            ]
          },
          "metadata": {
            "tags": []
          },
          "execution_count": 15
        }
      ]
    },
    {
      "cell_type": "code",
      "metadata": {
        "id": "ceUv-J4ECok-",
        "colab_type": "code",
        "colab": {
          "base_uri": "https://localhost:8080/",
          "height": 34
        },
        "outputId": "28def121-1234-43f6-b993-ce889e3688ef"
      },
      "source": [
        "df.bundleId.max()"
      ],
      "execution_count": 16,
      "outputs": [
        {
          "output_type": "execute_result",
          "data": {
            "text/plain": [
              "614"
            ]
          },
          "metadata": {
            "tags": []
          },
          "execution_count": 16
        }
      ]
    },
    {
      "cell_type": "code",
      "metadata": {
        "id": "i2uYgDNfLrm2",
        "colab_type": "code",
        "colab": {
          "base_uri": "https://localhost:8080/",
          "height": 204
        },
        "outputId": "1e51bd88-fda4-403f-b66b-1f6b23575aaf"
      },
      "source": [
        "# split training and validation data\n",
        "split = np.random.rand(len(df)) < 0.8\n",
        "train = df[split]\n",
        "validate = df[~split]\n",
        "train.head()"
      ],
      "execution_count": 17,
      "outputs": [
        {
          "output_type": "execute_result",
          "data": {
            "text/html": [
              "<div>\n",
              "<style scoped>\n",
              "    .dataframe tbody tr th:only-of-type {\n",
              "        vertical-align: middle;\n",
              "    }\n",
              "\n",
              "    .dataframe tbody tr th {\n",
              "        vertical-align: top;\n",
              "    }\n",
              "\n",
              "    .dataframe thead th {\n",
              "        text-align: right;\n",
              "    }\n",
              "</style>\n",
              "<table border=\"1\" class=\"dataframe\">\n",
              "  <thead>\n",
              "    <tr style=\"text-align: right;\">\n",
              "      <th></th>\n",
              "      <th>item_id</th>\n",
              "      <th>item_name</th>\n",
              "      <th>genre</th>\n",
              "      <th>bundle_id</th>\n",
              "      <th>itemId</th>\n",
              "      <th>bundleId</th>\n",
              "    </tr>\n",
              "  </thead>\n",
              "  <tbody>\n",
              "    <tr>\n",
              "      <th>0</th>\n",
              "      <td>326950</td>\n",
              "      <td>Sword of Asumi</td>\n",
              "      <td>Adventure, Indie, RPG</td>\n",
              "      <td>450</td>\n",
              "      <td>0</td>\n",
              "      <td>0</td>\n",
              "    </tr>\n",
              "    <tr>\n",
              "      <th>2</th>\n",
              "      <td>331491</td>\n",
              "      <td>Sword of Asumi - Graphic Novel</td>\n",
              "      <td>Adventure, Indie, RPG</td>\n",
              "      <td>450</td>\n",
              "      <td>2</td>\n",
              "      <td>0</td>\n",
              "    </tr>\n",
              "    <tr>\n",
              "      <th>5</th>\n",
              "      <td>352010</td>\n",
              "      <td>Beach Bounce</td>\n",
              "      <td>Adventure, Casual, Indie</td>\n",
              "      <td>450</td>\n",
              "      <td>5</td>\n",
              "      <td>0</td>\n",
              "    </tr>\n",
              "    <tr>\n",
              "      <th>6</th>\n",
              "      <td>390470</td>\n",
              "      <td>Divine Slice of Life - Soundtrack</td>\n",
              "      <td>Adventure, Casual, Indie</td>\n",
              "      <td>450</td>\n",
              "      <td>6</td>\n",
              "      <td>0</td>\n",
              "    </tr>\n",
              "    <tr>\n",
              "      <th>7</th>\n",
              "      <td>394050</td>\n",
              "      <td>Beach Bounce - Soundtrack</td>\n",
              "      <td>Adventure, Casual, Indie</td>\n",
              "      <td>450</td>\n",
              "      <td>7</td>\n",
              "      <td>0</td>\n",
              "    </tr>\n",
              "  </tbody>\n",
              "</table>\n",
              "</div>"
            ],
            "text/plain": [
              "  item_id                          item_name  ... itemId  bundleId\n",
              "0  326950                     Sword of Asumi  ...      0         0\n",
              "2  331491     Sword of Asumi - Graphic Novel  ...      2         0\n",
              "5  352010                       Beach Bounce  ...      5         0\n",
              "6  390470  Divine Slice of Life - Soundtrack  ...      6         0\n",
              "7  394050          Beach Bounce - Soundtrack  ...      7         0\n",
              "\n",
              "[5 rows x 6 columns]"
            ]
          },
          "metadata": {
            "tags": []
          },
          "execution_count": 17
        }
      ]
    },
    {
      "cell_type": "code",
      "metadata": {
        "id": "0UKiaG5TMBiz",
        "colab_type": "code",
        "colab": {
          "base_uri": "https://localhost:8080/",
          "height": 204
        },
        "outputId": "345d57f5-5775-4671-9f65-b209b870efc1"
      },
      "source": [
        "validate.head()"
      ],
      "execution_count": 18,
      "outputs": [
        {
          "output_type": "execute_result",
          "data": {
            "text/html": [
              "<div>\n",
              "<style scoped>\n",
              "    .dataframe tbody tr th:only-of-type {\n",
              "        vertical-align: middle;\n",
              "    }\n",
              "\n",
              "    .dataframe tbody tr th {\n",
              "        vertical-align: top;\n",
              "    }\n",
              "\n",
              "    .dataframe thead th {\n",
              "        text-align: right;\n",
              "    }\n",
              "</style>\n",
              "<table border=\"1\" class=\"dataframe\">\n",
              "  <thead>\n",
              "    <tr style=\"text-align: right;\">\n",
              "      <th></th>\n",
              "      <th>item_id</th>\n",
              "      <th>item_name</th>\n",
              "      <th>genre</th>\n",
              "      <th>bundle_id</th>\n",
              "      <th>itemId</th>\n",
              "      <th>bundleId</th>\n",
              "    </tr>\n",
              "  </thead>\n",
              "  <tbody>\n",
              "    <tr>\n",
              "      <th>1</th>\n",
              "      <td>331490</td>\n",
              "      <td>Sword of Asumi - Soundtrack</td>\n",
              "      <td>Adventure, Indie, RPG</td>\n",
              "      <td>450</td>\n",
              "      <td>1</td>\n",
              "      <td>0</td>\n",
              "    </tr>\n",
              "    <tr>\n",
              "      <th>3</th>\n",
              "      <td>331492</td>\n",
              "      <td>Sword of Asumi - Character Creator</td>\n",
              "      <td>Adventure, Indie, RPG</td>\n",
              "      <td>450</td>\n",
              "      <td>3</td>\n",
              "      <td>0</td>\n",
              "    </tr>\n",
              "    <tr>\n",
              "      <th>4</th>\n",
              "      <td>348540</td>\n",
              "      <td>Divine Slice of Life</td>\n",
              "      <td>Adventure, Casual, Indie</td>\n",
              "      <td>450</td>\n",
              "      <td>4</td>\n",
              "      <td>0</td>\n",
              "    </tr>\n",
              "    <tr>\n",
              "      <th>19</th>\n",
              "      <td>528365</td>\n",
              "      <td>Naruto Shippuden Uncut: The Eve of the Five Ka...</td>\n",
              "      <td>Others</td>\n",
              "      <td>1473</td>\n",
              "      <td>19</td>\n",
              "      <td>1</td>\n",
              "    </tr>\n",
              "    <tr>\n",
              "      <th>26</th>\n",
              "      <td>528372</td>\n",
              "      <td>Naruto Shippuden Uncut: Declaration of War</td>\n",
              "      <td>Others</td>\n",
              "      <td>1473</td>\n",
              "      <td>26</td>\n",
              "      <td>1</td>\n",
              "    </tr>\n",
              "  </tbody>\n",
              "</table>\n",
              "</div>"
            ],
            "text/plain": [
              "   item_id                                          item_name  ... itemId  bundleId\n",
              "1   331490                        Sword of Asumi - Soundtrack  ...      1         0\n",
              "3   331492                 Sword of Asumi - Character Creator  ...      3         0\n",
              "4   348540                               Divine Slice of Life  ...      4         0\n",
              "19  528365  Naruto Shippuden Uncut: The Eve of the Five Ka...  ...     19         1\n",
              "26  528372         Naruto Shippuden Uncut: Declaration of War  ...     26         1\n",
              "\n",
              "[5 rows x 6 columns]"
            ]
          },
          "metadata": {
            "tags": []
          },
          "execution_count": 18
        }
      ]
    },
    {
      "cell_type": "code",
      "metadata": {
        "id": "NHTRdA_wMHGZ",
        "colab_type": "code",
        "colab": {}
      },
      "source": [
        "#creating dot matrix which is a sparse matrix which specifies if a bundle has an item\n",
        "# if a BundleId i has item j, mat[i,j]=1\n",
        "mat = sp.dok_matrix((train.shape[0], len(df['itemId'].unique())), dtype=np.float32)\n",
        "for bundle_id, item_id in zip(train['bundleId'], train['itemId']):\n",
        "    mat[bundle_id, item_id] = 1.0"
      ],
      "execution_count": 19,
      "outputs": []
    },
    {
      "cell_type": "markdown",
      "metadata": {
        "id": "JKJmZB3Nv7hi",
        "colab_type": "text"
      },
      "source": [
        "# Defining Model \n"
      ]
    },
    {
      "cell_type": "code",
      "metadata": {
        "id": "gbGa0vA3P6RQ",
        "colab_type": "code",
        "colab": {
          "base_uri": "https://localhost:8080/",
          "height": 34
        },
        "outputId": "ae487d93-00f5-4ad8-f501-9f550a8d561e"
      },
      "source": [
        "def get_NCF_model(num_bunldes, num_items, latent_dim=8, dense_layers=[64, 32, 16, 8],\n",
        "              reg_layers=[0, 0, 0, 0], reg_mf=0):\n",
        "\n",
        "    # input layer\n",
        "    input_bundle = Input(shape=(1,), dtype='int32', name='bundle_input')\n",
        "    input_item = Input(shape=(1,), dtype='int32', name='item_input')\n",
        "\n",
        "    print(reg_mf)\n",
        "    \n",
        "    # embedding layer\n",
        "    mf_bundle_embedding = Embedding(input_dim=num_bundles, output_dim=latent_dim,\n",
        "                        name='mf_bundle_embedding',\n",
        "                        embeddings_initializer='RandomNormal',\n",
        "                        embeddings_regularizer=l2(reg_mf), input_length=1)\n",
        "    mf_item_embedding = Embedding(input_dim=num_items, output_dim=latent_dim,\n",
        "                        name='mf_item_embedding',\n",
        "                        embeddings_initializer='RandomNormal',\n",
        "                        embeddings_regularizer=l2(reg_mf), input_length=1)\n",
        "    mlp_bundle_embedding = Embedding(input_dim=num_bundles, output_dim=int(dense_layers[0]/2),\n",
        "                         name='mlp_bundle_embedding',\n",
        "                         embeddings_initializer='RandomNormal',\n",
        "                         embeddings_regularizer=l2(reg_layers[0]), \n",
        "                         input_length=1)\n",
        "    mlp_item_embedding = Embedding(input_dim=num_items, output_dim=int(dense_layers[0]/2),\n",
        "                         name='mlp_item_embedding',\n",
        "                         embeddings_initializer='RandomNormal',\n",
        "                         embeddings_regularizer=l2(reg_layers[0]), \n",
        "                         input_length=1)\n",
        "\n",
        "    # MF latent vector\n",
        "    mf_bundle_latent = Flatten()(mf_bundle_embedding(input_bundle))\n",
        "    mf_item_latent = Flatten()(mf_item_embedding(input_item))\n",
        "    mf_cat_latent = Multiply()([mf_bundle_latent, mf_item_latent])\n",
        "\n",
        "    # MLP latent vector\n",
        "    mlp_bundle_latent = Flatten()(mlp_bundle_embedding(input_bundle))\n",
        "    mlp_item_latent = Flatten()(mlp_item_embedding(input_item))\n",
        "    mlp_cat_latent = Concatenate()([mlp_bundle_latent, mlp_item_latent])\n",
        "    \n",
        "    mlp_vector = mlp_cat_latent\n",
        "    \n",
        "    # build dense layer for model\n",
        "    for i in range(1,len(dense_layers)):\n",
        "        layer = Dense(dense_layers[i],\n",
        "                      activity_regularizer=l2(reg_layers[i]),\n",
        "                      activation='relu',\n",
        "                      name='layer%d' % i)\n",
        "        mlp_vector = layer(mlp_vector)\n",
        "\n",
        "    predict_layer = Concatenate()([mf_cat_latent, mlp_vector])\n",
        "    result = Dense(1, activation='sigmoid', \n",
        "                   kernel_initializer='lecun_uniform',name='result')\n",
        "\n",
        "    model = Model(inputs=[input_bundle,input_item], outputs=result(predict_layer))\n",
        "\n",
        "    return model\n",
        "\n",
        "# get the training samples\n",
        "def get_train_samples(train_mat, num_negatives):\n",
        "    bundle_input, item_input, labels = [], [], []\n",
        "    num_bundle, num_item = train_mat.shape\n",
        "    for (u, i) in train_mat.keys():\n",
        "        bundle_input.append(u)\n",
        "        item_input.append(i)\n",
        "        labels.append(1)\n",
        "        # negative instances\n",
        "        for t in range(num_negatives):\n",
        "            j = np.random.randint(num_item)\n",
        "            while (u, j) in train_mat.keys():\n",
        "                j = np.random.randint(num_item)\n",
        "            bundle_input.append(u)\n",
        "            item_input.append(j)\n",
        "            labels.append(0)\n",
        "    return bundle_input, item_input, labels\n",
        "\n",
        "# hyperparameters\n",
        "\n",
        "verbose = 1\n",
        "epochs = 15   \n",
        "batch_size = 256\n",
        "latent_dim = 8\n",
        "dense_layers = [64, 32, 16, 8]\n",
        "reg_layers = [0, 0, 0, 0]\n",
        "reg_mf = [0]\n",
        "num_negatives = 4\n",
        "learning_rate = 0.001\n",
        "learner = 'adam'\n",
        "dataset = 'steam_video'\n",
        "\n",
        "# loading data\n",
        "train_mat = mat\n",
        "    \n",
        "num_bundles, num_items = train_mat.shape\n",
        "print('Done loading data!')"
      ],
      "execution_count": 20,
      "outputs": [
        {
          "output_type": "stream",
          "text": [
            "Done loading data!\n"
          ],
          "name": "stdout"
        }
      ]
    },
    {
      "cell_type": "code",
      "metadata": {
        "id": "Tp5eYsQGQU4e",
        "colab_type": "code",
        "colab": {
          "base_uri": "https://localhost:8080/",
          "height": 816
        },
        "outputId": "18a6ef47-26a3-41f4-8e70-6ce42505583a"
      },
      "source": [
        "model = get_NCF_model(num_bundles, num_items, latent_dim, dense_layers, reg_layers)\n",
        "model.compile(optimizer=Adam(lr=learning_rate), loss='binary_crossentropy', metrics=['accuracy'])\n",
        "print(model.summary())\n",
        "    \n"
      ],
      "execution_count": 21,
      "outputs": [
        {
          "output_type": "stream",
          "text": [
            "0\n",
            "Model: \"functional_1\"\n",
            "__________________________________________________________________________________________________\n",
            "Layer (type)                    Output Shape         Param #     Connected to                     \n",
            "==================================================================================================\n",
            "bundle_input (InputLayer)       [(None, 1)]          0                                            \n",
            "__________________________________________________________________________________________________\n",
            "item_input (InputLayer)         [(None, 1)]          0                                            \n",
            "__________________________________________________________________________________________________\n",
            "mlp_bundle_embedding (Embedding (None, 1, 32)        89408       bundle_input[0][0]               \n",
            "__________________________________________________________________________________________________\n",
            "mlp_item_embedding (Embedding)  (None, 1, 32)        89536       item_input[0][0]                 \n",
            "__________________________________________________________________________________________________\n",
            "flatten_2 (Flatten)             (None, 32)           0           mlp_bundle_embedding[0][0]       \n",
            "__________________________________________________________________________________________________\n",
            "flatten_3 (Flatten)             (None, 32)           0           mlp_item_embedding[0][0]         \n",
            "__________________________________________________________________________________________________\n",
            "concatenate (Concatenate)       (None, 64)           0           flatten_2[0][0]                  \n",
            "                                                                 flatten_3[0][0]                  \n",
            "__________________________________________________________________________________________________\n",
            "mf_bundle_embedding (Embedding) (None, 1, 8)         22352       bundle_input[0][0]               \n",
            "__________________________________________________________________________________________________\n",
            "mf_item_embedding (Embedding)   (None, 1, 8)         22384       item_input[0][0]                 \n",
            "__________________________________________________________________________________________________\n",
            "layer1 (Dense)                  (None, 32)           2080        concatenate[0][0]                \n",
            "__________________________________________________________________________________________________\n",
            "flatten (Flatten)               (None, 8)            0           mf_bundle_embedding[0][0]        \n",
            "__________________________________________________________________________________________________\n",
            "flatten_1 (Flatten)             (None, 8)            0           mf_item_embedding[0][0]          \n",
            "__________________________________________________________________________________________________\n",
            "layer2 (Dense)                  (None, 16)           528         layer1[0][0]                     \n",
            "__________________________________________________________________________________________________\n",
            "multiply (Multiply)             (None, 8)            0           flatten[0][0]                    \n",
            "                                                                 flatten_1[0][0]                  \n",
            "__________________________________________________________________________________________________\n",
            "layer3 (Dense)                  (None, 8)            136         layer2[0][0]                     \n",
            "__________________________________________________________________________________________________\n",
            "concatenate_1 (Concatenate)     (None, 16)           0           multiply[0][0]                   \n",
            "                                                                 layer3[0][0]                     \n",
            "__________________________________________________________________________________________________\n",
            "result (Dense)                  (None, 1)            17          concatenate_1[0][0]              \n",
            "==================================================================================================\n",
            "Total params: 226,441\n",
            "Trainable params: 226,441\n",
            "Non-trainable params: 0\n",
            "__________________________________________________________________________________________________\n",
            "None\n"
          ],
          "name": "stdout"
        }
      ]
    },
    {
      "cell_type": "markdown",
      "metadata": {
        "id": "73gz273vwHuy",
        "colab_type": "text"
      },
      "source": [
        "#Training"
      ]
    },
    {
      "cell_type": "code",
      "metadata": {
        "id": "h8jPJnSBwDzJ",
        "colab_type": "code",
        "colab": {
          "base_uri": "https://localhost:8080/",
          "height": 581
        },
        "outputId": "2640d8c9-87a4-42e2-fb26-49d959f34f8f"
      },
      "source": [
        "\n",
        "bundle_input, item_input, labels = get_train_samples(train_mat, num_negatives)\n",
        "\n",
        "# training\n",
        "hist = model.fit([np.array(bundle_input), np.array(item_input)], np.array(labels), \n",
        "                 batch_size=batch_size, epochs=epochs, verbose=verbose, shuffle=True)"
      ],
      "execution_count": 22,
      "outputs": [
        {
          "output_type": "stream",
          "text": [
            "Epoch 1/15\n"
          ],
          "name": "stdout"
        },
        {
          "output_type": "stream",
          "text": [
            "/usr/local/lib/python3.6/dist-packages/tensorflow/python/framework/indexed_slices.py:432: UserWarning: Converting sparse IndexedSlices to a dense Tensor of unknown shape. This may consume a large amount of memory.\n",
            "  \"Converting sparse IndexedSlices to a dense Tensor of unknown shape. \"\n"
          ],
          "name": "stderr"
        },
        {
          "output_type": "stream",
          "text": [
            "55/55 [==============================] - 0s 4ms/step - loss: 0.6282 - accuracy: 0.7967\n",
            "Epoch 2/15\n",
            "55/55 [==============================] - 0s 4ms/step - loss: 0.5104 - accuracy: 0.8000\n",
            "Epoch 3/15\n",
            "55/55 [==============================] - 0s 4ms/step - loss: 0.4889 - accuracy: 0.8000\n",
            "Epoch 4/15\n",
            "55/55 [==============================] - 0s 4ms/step - loss: 0.4743 - accuracy: 0.8000\n",
            "Epoch 5/15\n",
            "55/55 [==============================] - 0s 4ms/step - loss: 0.4622 - accuracy: 0.8000\n",
            "Epoch 6/15\n",
            "55/55 [==============================] - 0s 4ms/step - loss: 0.4513 - accuracy: 0.8000\n",
            "Epoch 7/15\n",
            "55/55 [==============================] - 0s 4ms/step - loss: 0.4402 - accuracy: 0.8000\n",
            "Epoch 8/15\n",
            "55/55 [==============================] - 0s 4ms/step - loss: 0.4261 - accuracy: 0.8013\n",
            "Epoch 9/15\n",
            "55/55 [==============================] - 0s 4ms/step - loss: 0.4032 - accuracy: 0.8181\n",
            "Epoch 10/15\n",
            "55/55 [==============================] - 0s 4ms/step - loss: 0.3626 - accuracy: 0.8350\n",
            "Epoch 11/15\n",
            "55/55 [==============================] - 0s 4ms/step - loss: 0.3003 - accuracy: 0.8663\n",
            "Epoch 12/15\n",
            "55/55 [==============================] - 0s 4ms/step - loss: 0.2217 - accuracy: 0.9167\n",
            "Epoch 13/15\n",
            "55/55 [==============================] - 0s 4ms/step - loss: 0.1448 - accuracy: 0.9559\n",
            "Epoch 14/15\n",
            "55/55 [==============================] - 0s 4ms/step - loss: 0.0840 - accuracy: 0.9796\n",
            "Epoch 15/15\n",
            "55/55 [==============================] - 0s 4ms/step - loss: 0.0446 - accuracy: 0.9912\n"
          ],
          "name": "stdout"
        }
      ]
    },
    {
      "cell_type": "code",
      "metadata": {
        "id": "SVtiyPYrQjhz",
        "colab_type": "code",
        "colab": {}
      },
      "source": [
        "model_file = '%s_NCF_%d_%s.h5' % (dataset, latent_dim, str(dense_layers))\n",
        "model.save(model_file, overwrite=True)"
      ],
      "execution_count": 23,
      "outputs": []
    },
    {
      "cell_type": "markdown",
      "metadata": {
        "id": "QVl_QisPxnjk",
        "colab_type": "text"
      },
      "source": [
        "#Evaluation\n"
      ]
    },
    {
      "cell_type": "code",
      "metadata": {
        "id": "p5nrzYA-QoFB",
        "colab_type": "code",
        "colab": {
          "base_uri": "https://localhost:8080/",
          "height": 1000
        },
        "outputId": "659a965e-688f-4150-a0f9-bb02e3757e3b"
      },
      "source": [
        "from keras.models import load_model\n",
        "from sklearn.cluster import KMeans\n",
        "from sklearn.cluster import MiniBatchKMeans\n",
        "\n",
        "# this is a sample bundleid to predict\n",
        "desired_bundle_id = 300\n",
        "model_path = 'steam_video_NCF_8_[64, 32, 16, 8].h5'\n",
        "print('using model: %s' % model_path)\n",
        "model = load_model(model_path)\n",
        "print('Loaded model!')\n",
        "\n",
        "mlp_bundle_embedding_weights = (next(iter(filter(lambda x: x.name == 'mlp_bundle_embedding', model.layers))).get_weights())\n",
        "\n",
        "# get the latent embedding for your desired bundle\n",
        "bundle_latent_matrix = mlp_bundle_embedding_weights[0]\n",
        "one_bundle_vector = bundle_latent_matrix[desired_bundle_id,:]\n",
        "one_bundle_vector = np.reshape(one_bundle_vector, (1,32))\n",
        "\n",
        "print('\\nPerforming kmeans to find the nearest bundles...')\n",
        "# get 50 similar bundles\n",
        "kmeans = MiniBatchKMeans(n_clusters=50, random_state=0, verbose=1).fit(bundle_latent_matrix)\n",
        "desired_bundle_label = kmeans.predict(one_bundle_vector)\n",
        "bundle_label = kmeans.labels_\n",
        "neighbors = []\n",
        "for bundle_id, bundle_label in enumerate(bundle_label):\n",
        "    if bundle_label == desired_bundle_label:\n",
        "        neighbors.append(bundle_id)\n",
        "print('Found {0} neighbor bundles/games.'.format(len(neighbors))) "
      ],
      "execution_count": 44,
      "outputs": [
        {
          "output_type": "stream",
          "text": [
            "using model: steam_video_NCF_8_[64, 32, 16, 8].h5\n",
            "Loaded model!\n",
            "\n",
            "Performing kmeans to find the nearest bundles...\n",
            "Init 1/3 with method: k-means++\n",
            "Inertia for init 1/3: 20.822716\n",
            "Init 2/3 with method: k-means++\n",
            "Inertia for init 2/3: 20.318680\n",
            "Init 3/3 with method: k-means++\n",
            "Inertia for init 3/3: 20.248512\n",
            "Minibatch iteration 1/2800: mean batch inertia: 0.089012, ewa inertia: 0.089012 \n",
            "Minibatch iteration 2/2800: mean batch inertia: 0.082096, ewa inertia: 0.088517 \n",
            "Minibatch iteration 3/2800: mean batch inertia: 0.086896, ewa inertia: 0.088401 \n",
            "Minibatch iteration 4/2800: mean batch inertia: 0.084992, ewa inertia: 0.088157 \n",
            "Minibatch iteration 5/2800: mean batch inertia: 0.080194, ewa inertia: 0.087587 \n",
            "Minibatch iteration 6/2800: mean batch inertia: 0.082738, ewa inertia: 0.087240 \n",
            "Minibatch iteration 7/2800: mean batch inertia: 0.089807, ewa inertia: 0.087424 \n",
            "Minibatch iteration 8/2800: mean batch inertia: 0.077271, ewa inertia: 0.086697 \n",
            "Minibatch iteration 9/2800: mean batch inertia: 0.085833, ewa inertia: 0.086635 \n",
            "[MiniBatchKMeans] Reassigning 11 cluster centers.\n",
            "Minibatch iteration 10/2800: mean batch inertia: 0.079748, ewa inertia: 0.086143 \n",
            "Minibatch iteration 11/2800: mean batch inertia: 0.082295, ewa inertia: 0.085867 \n",
            "Minibatch iteration 12/2800: mean batch inertia: 0.083202, ewa inertia: 0.085677 \n",
            "Minibatch iteration 13/2800: mean batch inertia: 0.077932, ewa inertia: 0.085122 \n",
            "Minibatch iteration 14/2800: mean batch inertia: 0.077094, ewa inertia: 0.084548 \n",
            "Minibatch iteration 15/2800: mean batch inertia: 0.078424, ewa inertia: 0.084110 \n",
            "Minibatch iteration 16/2800: mean batch inertia: 0.076999, ewa inertia: 0.083601 \n",
            "Minibatch iteration 17/2800: mean batch inertia: 0.081913, ewa inertia: 0.083480 \n",
            "Minibatch iteration 18/2800: mean batch inertia: 0.082971, ewa inertia: 0.083444 \n",
            "Minibatch iteration 19/2800: mean batch inertia: 0.075362, ewa inertia: 0.082865 \n",
            "Minibatch iteration 20/2800: mean batch inertia: 0.081983, ewa inertia: 0.082802 \n",
            "Minibatch iteration 21/2800: mean batch inertia: 0.075696, ewa inertia: 0.082294 \n",
            "Minibatch iteration 22/2800: mean batch inertia: 0.072724, ewa inertia: 0.081609 \n",
            "Minibatch iteration 23/2800: mean batch inertia: 0.081278, ewa inertia: 0.081585 \n",
            "Minibatch iteration 24/2800: mean batch inertia: 0.080616, ewa inertia: 0.081516 \n",
            "Minibatch iteration 25/2800: mean batch inertia: 0.073428, ewa inertia: 0.080937 \n",
            "Minibatch iteration 26/2800: mean batch inertia: 0.083459, ewa inertia: 0.081118 \n",
            "Minibatch iteration 27/2800: mean batch inertia: 0.081329, ewa inertia: 0.081133 \n",
            "Minibatch iteration 28/2800: mean batch inertia: 0.081520, ewa inertia: 0.081160 \n",
            "Minibatch iteration 29/2800: mean batch inertia: 0.080738, ewa inertia: 0.081130 \n",
            "Minibatch iteration 30/2800: mean batch inertia: 0.076995, ewa inertia: 0.080834 \n",
            "Minibatch iteration 31/2800: mean batch inertia: 0.073155, ewa inertia: 0.080285 \n",
            "Minibatch iteration 32/2800: mean batch inertia: 0.080961, ewa inertia: 0.080333 \n",
            "Minibatch iteration 33/2800: mean batch inertia: 0.078750, ewa inertia: 0.080220 \n",
            "Minibatch iteration 34/2800: mean batch inertia: 0.081358, ewa inertia: 0.080301 \n",
            "Minibatch iteration 35/2800: mean batch inertia: 0.078179, ewa inertia: 0.080149 \n",
            "[MiniBatchKMeans] Reassigning 1 cluster centers.\n",
            "Minibatch iteration 36/2800: mean batch inertia: 0.075928, ewa inertia: 0.079847 \n",
            "Minibatch iteration 37/2800: mean batch inertia: 0.075251, ewa inertia: 0.079519 \n",
            "Minibatch iteration 38/2800: mean batch inertia: 0.076288, ewa inertia: 0.079287 \n",
            "Minibatch iteration 39/2800: mean batch inertia: 0.079142, ewa inertia: 0.079277 \n",
            "Minibatch iteration 40/2800: mean batch inertia: 0.075735, ewa inertia: 0.079024 \n",
            "Minibatch iteration 41/2800: mean batch inertia: 0.076679, ewa inertia: 0.078856 \n",
            "Minibatch iteration 42/2800: mean batch inertia: 0.082279, ewa inertia: 0.079101 \n",
            "Minibatch iteration 43/2800: mean batch inertia: 0.077622, ewa inertia: 0.078995 \n",
            "Minibatch iteration 44/2800: mean batch inertia: 0.074206, ewa inertia: 0.078652 \n",
            "Minibatch iteration 45/2800: mean batch inertia: 0.077210, ewa inertia: 0.078549 \n",
            "Minibatch iteration 46/2800: mean batch inertia: 0.080843, ewa inertia: 0.078713 \n",
            "Minibatch iteration 47/2800: mean batch inertia: 0.076036, ewa inertia: 0.078522 \n",
            "Minibatch iteration 48/2800: mean batch inertia: 0.079698, ewa inertia: 0.078606 \n",
            "Minibatch iteration 49/2800: mean batch inertia: 0.079344, ewa inertia: 0.078659 \n",
            "Minibatch iteration 50/2800: mean batch inertia: 0.076472, ewa inertia: 0.078502 \n",
            "Minibatch iteration 51/2800: mean batch inertia: 0.073948, ewa inertia: 0.078176 \n",
            "[MiniBatchKMeans] Reassigning 1 cluster centers.\n",
            "Minibatch iteration 52/2800: mean batch inertia: 0.074854, ewa inertia: 0.077938 \n",
            "Minibatch iteration 53/2800: mean batch inertia: 0.083053, ewa inertia: 0.078304 \n",
            "Minibatch iteration 54/2800: mean batch inertia: 0.076332, ewa inertia: 0.078163 \n",
            "Minibatch iteration 55/2800: mean batch inertia: 0.077413, ewa inertia: 0.078110 \n",
            "Minibatch iteration 56/2800: mean batch inertia: 0.077467, ewa inertia: 0.078064 \n",
            "Minibatch iteration 57/2800: mean batch inertia: 0.072494, ewa inertia: 0.077665 \n",
            "Minibatch iteration 58/2800: mean batch inertia: 0.078749, ewa inertia: 0.077743 \n",
            "Minibatch iteration 59/2800: mean batch inertia: 0.073520, ewa inertia: 0.077441 \n",
            "Minibatch iteration 60/2800: mean batch inertia: 0.077220, ewa inertia: 0.077425 \n",
            "Minibatch iteration 61/2800: mean batch inertia: 0.078278, ewa inertia: 0.077486 \n",
            "Minibatch iteration 62/2800: mean batch inertia: 0.078787, ewa inertia: 0.077579 \n",
            "Minibatch iteration 63/2800: mean batch inertia: 0.076752, ewa inertia: 0.077520 \n",
            "Minibatch iteration 64/2800: mean batch inertia: 0.078182, ewa inertia: 0.077567 \n",
            "Minibatch iteration 65/2800: mean batch inertia: 0.072495, ewa inertia: 0.077204 \n",
            "Minibatch iteration 66/2800: mean batch inertia: 0.078435, ewa inertia: 0.077292 \n",
            "Minibatch iteration 67/2800: mean batch inertia: 0.073846, ewa inertia: 0.077046 \n",
            "Minibatch iteration 68/2800: mean batch inertia: 0.082561, ewa inertia: 0.077440 \n",
            "Minibatch iteration 69/2800: mean batch inertia: 0.081225, ewa inertia: 0.077711 \n",
            "Minibatch iteration 70/2800: mean batch inertia: 0.079688, ewa inertia: 0.077853 \n",
            "Minibatch iteration 71/2800: mean batch inertia: 0.075490, ewa inertia: 0.077684 \n",
            "Minibatch iteration 72/2800: mean batch inertia: 0.076560, ewa inertia: 0.077603 \n",
            "Minibatch iteration 73/2800: mean batch inertia: 0.077878, ewa inertia: 0.077623 \n",
            "Minibatch iteration 74/2800: mean batch inertia: 0.075091, ewa inertia: 0.077442 \n",
            "Minibatch iteration 75/2800: mean batch inertia: 0.081921, ewa inertia: 0.077762 \n",
            "Minibatch iteration 76/2800: mean batch inertia: 0.077637, ewa inertia: 0.077753 \n",
            "Minibatch iteration 77/2800: mean batch inertia: 0.083326, ewa inertia: 0.078152 \n",
            "Converged (lack of improvement in inertia) at iteration 77/2800\n",
            "Computing label assignment and total inertia\n",
            "Computing label assignment and total inertia\n",
            "Found 58 neighbor bundles/games.\n"
          ],
          "name": "stdout"
        }
      ]
    },
    {
      "cell_type": "code",
      "metadata": {
        "id": "HWmB1X-aQvao",
        "colab_type": "code",
        "colab": {
          "base_uri": "https://localhost:8080/",
          "height": 122
        },
        "outputId": "5d96633f-4139-4efa-a807-3882d472736e"
      },
      "source": [
        "# get the games in similar bundles' items\n",
        "games = []\n",
        "for bundle_id in neighbors:\n",
        "    games += list(df[df['bundleId'] == int(bundle_id)]['itemId'])\n",
        "print('Found {0} neighbor items from these games.'.format(len(games))) \n",
        "\n",
        "games_arr = np.full(len(games), desired_bundle_id, dtype='int32')\n",
        "bundles = np.array(games, dtype='int32')\n",
        "\n",
        "print('\\nRanking most likely games using the NeuMF model...')\n",
        "# and predict games for bundle\n",
        "results = model.predict([games_arr,bundles],batch_size=100, verbose=0) \n",
        "results = results.tolist()\n",
        "print('Ranked the games!')"
      ],
      "execution_count": 45,
      "outputs": [
        {
          "output_type": "stream",
          "text": [
            "Found 280 neighbor items from these games.\n",
            "\n",
            "Ranking most likely games using the NeuMF model...\n",
            "WARNING:tensorflow:5 out of the last 11 calls to <function Model.make_predict_function.<locals>.predict_function at 0x7faf54e93c80> triggered tf.function retracing. Tracing is expensive and the excessive number of tracings could be due to (1) creating @tf.function repeatedly in a loop, (2) passing tensors with different shapes, (3) passing Python objects instead of tensors. For (1), please define your @tf.function outside of the loop. For (2), @tf.function has experimental_relax_shapes=True option that relaxes argument shapes that can avoid unnecessary retracing. For (3), please refer to https://www.tensorflow.org/tutorials/customization/performance#python_or_tensor_args and https://www.tensorflow.org/api_docs/python/tf/function for  more details.\n",
            "Ranked the games!\n"
          ],
          "name": "stdout"
        }
      ]
    },
    {
      "cell_type": "code",
      "metadata": {
        "id": "a4z5g5EsRUTP",
        "colab_type": "code",
        "colab": {
          "base_uri": "https://localhost:8080/",
          "height": 159
        },
        "outputId": "45a40e20-f0fa-4999-ee33-5f001d50e40c"
      },
      "source": [
        "results_df = pd.DataFrame(np.nan, index=range(len(results)), columns=['probability','item_name', 'genre'])\n",
        "print(results_df.shape)\n",
        "\n",
        "# loop through and get the probability (of being in the bundle according to my model), the game, and the genre  \n",
        "for i, prob in enumerate(results):\n",
        "    # print('i: {0} prob: {1}'.format(i,prob))\n",
        "    results_df.loc[i] = [prob[0], df[df['itemId'] == i].iloc[0]['item_name'], df[df['itemId'] == i].iloc[0]['genre']]\n",
        "results_df = results_df.sort_values(by=['probability'], ascending=False)\n",
        "\n",
        "results_df.head(3)"
      ],
      "execution_count": 46,
      "outputs": [
        {
          "output_type": "stream",
          "text": [
            "(280, 3)\n"
          ],
          "name": "stdout"
        },
        {
          "output_type": "execute_result",
          "data": {
            "text/html": [
              "<div>\n",
              "<style scoped>\n",
              "    .dataframe tbody tr th:only-of-type {\n",
              "        vertical-align: middle;\n",
              "    }\n",
              "\n",
              "    .dataframe tbody tr th {\n",
              "        vertical-align: top;\n",
              "    }\n",
              "\n",
              "    .dataframe thead th {\n",
              "        text-align: right;\n",
              "    }\n",
              "</style>\n",
              "<table border=\"1\" class=\"dataframe\">\n",
              "  <thead>\n",
              "    <tr style=\"text-align: right;\">\n",
              "      <th></th>\n",
              "      <th>probability</th>\n",
              "      <th>item_name</th>\n",
              "      <th>genre</th>\n",
              "    </tr>\n",
              "  </thead>\n",
              "  <tbody>\n",
              "    <tr>\n",
              "      <th>100</th>\n",
              "      <td>0.994631</td>\n",
              "      <td>Black Sand Drift Collector's Edition Content</td>\n",
              "      <td>Casual, Indie</td>\n",
              "    </tr>\n",
              "    <tr>\n",
              "      <th>172</th>\n",
              "      <td>0.994204</td>\n",
              "      <td>Naruto Shippuden Uncut: S10E09</td>\n",
              "      <td>Others</td>\n",
              "    </tr>\n",
              "    <tr>\n",
              "      <th>156</th>\n",
              "      <td>0.994204</td>\n",
              "      <td>Overlord: Fellowship of Evil</td>\n",
              "      <td>Action, Adventure</td>\n",
              "    </tr>\n",
              "  </tbody>\n",
              "</table>\n",
              "</div>"
            ],
            "text/plain": [
              "     probability  ...              genre\n",
              "100     0.994631  ...      Casual, Indie\n",
              "172     0.994204  ...             Others\n",
              "156     0.994204  ...  Action, Adventure\n",
              "\n",
              "[3 rows x 3 columns]"
            ]
          },
          "metadata": {
            "tags": []
          },
          "execution_count": 46
        }
      ]
    },
    {
      "cell_type": "code",
      "metadata": {
        "id": "XAZRD09ZRq0K",
        "colab_type": "code",
        "colab": {
          "base_uri": "https://localhost:8080/",
          "height": 204
        },
        "outputId": "404c4012-1183-4862-daa6-0e53e42bb149"
      },
      "source": [
        "df[df['bundleId'] == 300].head(5)"
      ],
      "execution_count": 47,
      "outputs": [
        {
          "output_type": "execute_result",
          "data": {
            "text/html": [
              "<div>\n",
              "<style scoped>\n",
              "    .dataframe tbody tr th:only-of-type {\n",
              "        vertical-align: middle;\n",
              "    }\n",
              "\n",
              "    .dataframe tbody tr th {\n",
              "        vertical-align: top;\n",
              "    }\n",
              "\n",
              "    .dataframe thead th {\n",
              "        text-align: right;\n",
              "    }\n",
              "</style>\n",
              "<table border=\"1\" class=\"dataframe\">\n",
              "  <thead>\n",
              "    <tr style=\"text-align: right;\">\n",
              "      <th></th>\n",
              "      <th>item_id</th>\n",
              "      <th>item_name</th>\n",
              "      <th>genre</th>\n",
              "      <th>bundle_id</th>\n",
              "      <th>itemId</th>\n",
              "      <th>bundleId</th>\n",
              "    </tr>\n",
              "  </thead>\n",
              "  <tbody>\n",
              "    <tr>\n",
              "      <th>1474</th>\n",
              "      <td>438010</td>\n",
              "      <td>PulseCharge</td>\n",
              "      <td>Action, Adventure, Indie</td>\n",
              "      <td>480</td>\n",
              "      <td>1301</td>\n",
              "      <td>300</td>\n",
              "    </tr>\n",
              "    <tr>\n",
              "      <th>1475</th>\n",
              "      <td>438030</td>\n",
              "      <td>Dead6hot</td>\n",
              "      <td>Action, Casual</td>\n",
              "      <td>480</td>\n",
              "      <td>1302</td>\n",
              "      <td>300</td>\n",
              "    </tr>\n",
              "    <tr>\n",
              "      <th>1476</th>\n",
              "      <td>444480</td>\n",
              "      <td>Broken Dreams</td>\n",
              "      <td>Casual, Indie</td>\n",
              "      <td>480</td>\n",
              "      <td>1303</td>\n",
              "      <td>300</td>\n",
              "    </tr>\n",
              "    <tr>\n",
              "      <th>1477</th>\n",
              "      <td>463220</td>\n",
              "      <td>Dungeon of Zolthan</td>\n",
              "      <td>Action, Adventure, Indie</td>\n",
              "      <td>480</td>\n",
              "      <td>1304</td>\n",
              "      <td>300</td>\n",
              "    </tr>\n",
              "    <tr>\n",
              "      <th>1478</th>\n",
              "      <td>491650</td>\n",
              "      <td>Reset 1-1</td>\n",
              "      <td>Indie</td>\n",
              "      <td>480</td>\n",
              "      <td>1305</td>\n",
              "      <td>300</td>\n",
              "    </tr>\n",
              "  </tbody>\n",
              "</table>\n",
              "</div>"
            ],
            "text/plain": [
              "     item_id           item_name  ... itemId  bundleId\n",
              "1474  438010         PulseCharge  ...   1301       300\n",
              "1475  438030            Dead6hot  ...   1302       300\n",
              "1476  444480       Broken Dreams  ...   1303       300\n",
              "1477  463220  Dungeon of Zolthan  ...   1304       300\n",
              "1478  491650           Reset 1-1  ...   1305       300\n",
              "\n",
              "[5 rows x 6 columns]"
            ]
          },
          "metadata": {
            "tags": []
          },
          "execution_count": 47
        }
      ]
    },
    {
      "cell_type": "code",
      "metadata": {
        "id": "wmL3nn3yS1AC",
        "colab_type": "code",
        "colab": {}
      },
      "source": [
        "#save df to json for inference\n",
        "df.to_json(r'/content/origin_steam_video_df.json')"
      ],
      "execution_count": null,
      "outputs": []
    },
    {
      "cell_type": "code",
      "metadata": {
        "id": "V5am_Oq2WDsA",
        "colab_type": "code",
        "colab": {}
      },
      "source": [
        "load_df = pd.read_json('/content/origin_steam_video_df.json')\n",
        "load_df.head()"
      ],
      "execution_count": null,
      "outputs": []
    },
    {
      "cell_type": "code",
      "metadata": {
        "id": "UMKKCsakZXrJ",
        "colab_type": "code",
        "colab": {
          "base_uri": "https://localhost:8080/",
          "height": 17
        },
        "outputId": "3d4b931a-b870-46e9-81ce-19a2f95a00c6"
      },
      "source": [
        "from google.colab import files\n",
        "files.download('/content/steam_video_NCF_8_[64, 32, 16, 8].h5') "
      ],
      "execution_count": 48,
      "outputs": [
        {
          "output_type": "display_data",
          "data": {
            "application/javascript": [
              "\n",
              "    async function download(id, filename, size) {\n",
              "      if (!google.colab.kernel.accessAllowed) {\n",
              "        return;\n",
              "      }\n",
              "      const div = document.createElement('div');\n",
              "      const label = document.createElement('label');\n",
              "      label.textContent = `Downloading \"${filename}\": `;\n",
              "      div.appendChild(label);\n",
              "      const progress = document.createElement('progress');\n",
              "      progress.max = size;\n",
              "      div.appendChild(progress);\n",
              "      document.body.appendChild(div);\n",
              "\n",
              "      const buffers = [];\n",
              "      let downloaded = 0;\n",
              "\n",
              "      const channel = await google.colab.kernel.comms.open(id);\n",
              "      // Send a message to notify the kernel that we're ready.\n",
              "      channel.send({})\n",
              "\n",
              "      for await (const message of channel.messages) {\n",
              "        // Send a message to notify the kernel that we're ready.\n",
              "        channel.send({})\n",
              "        if (message.buffers) {\n",
              "          for (const buffer of message.buffers) {\n",
              "            buffers.push(buffer);\n",
              "            downloaded += buffer.byteLength;\n",
              "            progress.value = downloaded;\n",
              "          }\n",
              "        }\n",
              "      }\n",
              "      const blob = new Blob(buffers, {type: 'application/binary'});\n",
              "      const a = document.createElement('a');\n",
              "      a.href = window.URL.createObjectURL(blob);\n",
              "      a.download = filename;\n",
              "      div.appendChild(a);\n",
              "      a.click();\n",
              "      div.remove();\n",
              "    }\n",
              "  "
            ],
            "text/plain": [
              "<IPython.core.display.Javascript object>"
            ]
          },
          "metadata": {
            "tags": []
          }
        },
        {
          "output_type": "display_data",
          "data": {
            "application/javascript": [
              "download(\"download_e8d93e22-15f3-4865-b108-af2927e6f6ea\", \"steam_video_NCF_8_[64, 32, 16, 8].h5\", 2790704)"
            ],
            "text/plain": [
              "<IPython.core.display.Javascript object>"
            ]
          },
          "metadata": {
            "tags": []
          }
        }
      ]
    },
    {
      "cell_type": "code",
      "metadata": {
        "id": "3_Tav_y8SN1P",
        "colab_type": "code",
        "colab": {
          "base_uri": "https://localhost:8080/",
          "height": 17
        },
        "outputId": "7a23f9da-75b2-4583-a692-6c5a7c758ffd"
      },
      "source": [
        "files.download('/content/origin_steam_video_df.json')"
      ],
      "execution_count": null,
      "outputs": [
        {
          "output_type": "display_data",
          "data": {
            "application/javascript": [
              "\n",
              "    async function download(id, filename, size) {\n",
              "      if (!google.colab.kernel.accessAllowed) {\n",
              "        return;\n",
              "      }\n",
              "      const div = document.createElement('div');\n",
              "      const label = document.createElement('label');\n",
              "      label.textContent = `Downloading \"${filename}\": `;\n",
              "      div.appendChild(label);\n",
              "      const progress = document.createElement('progress');\n",
              "      progress.max = size;\n",
              "      div.appendChild(progress);\n",
              "      document.body.appendChild(div);\n",
              "\n",
              "      const buffers = [];\n",
              "      let downloaded = 0;\n",
              "\n",
              "      const channel = await google.colab.kernel.comms.open(id);\n",
              "      // Send a message to notify the kernel that we're ready.\n",
              "      channel.send({})\n",
              "\n",
              "      for await (const message of channel.messages) {\n",
              "        // Send a message to notify the kernel that we're ready.\n",
              "        channel.send({})\n",
              "        if (message.buffers) {\n",
              "          for (const buffer of message.buffers) {\n",
              "            buffers.push(buffer);\n",
              "            downloaded += buffer.byteLength;\n",
              "            progress.value = downloaded;\n",
              "          }\n",
              "        }\n",
              "      }\n",
              "      const blob = new Blob(buffers, {type: 'application/binary'});\n",
              "      const a = document.createElement('a');\n",
              "      a.href = window.URL.createObjectURL(blob);\n",
              "      a.download = filename;\n",
              "      div.appendChild(a);\n",
              "      a.click();\n",
              "      div.remove();\n",
              "    }\n",
              "  "
            ],
            "text/plain": [
              "<IPython.core.display.Javascript object>"
            ]
          },
          "metadata": {
            "tags": []
          }
        },
        {
          "output_type": "display_data",
          "data": {
            "application/javascript": [
              "download(\"download_e86ec458-e670-4700-a5ea-fcd162e52adf\", \"origin_steam_video_df.json\", 406271)"
            ],
            "text/plain": [
              "<IPython.core.display.Javascript object>"
            ]
          },
          "metadata": {
            "tags": []
          }
        }
      ]
    }
  ]
}