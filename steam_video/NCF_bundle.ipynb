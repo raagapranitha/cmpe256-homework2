{
  "nbformat": 4,
  "nbformat_minor": 0,
  "metadata": {
    "colab": {
      "name": "NCF_bundle.ipynb",
      "provenance": [],
      "collapsed_sections": [],
      "machine_shape": "hm"
    },
    "kernelspec": {
      "name": "python3",
      "display_name": "Python 3"
    },
    "accelerator": "GPU"
  },
  "cells": [
    {
      "cell_type": "code",
      "metadata": {
        "id": "NI4SXizOFfAc",
        "colab_type": "code",
        "colab": {
          "base_uri": "https://localhost:8080/",
          "height": 122
        },
        "outputId": "5bd987e9-b41e-4731-c63e-e193d191d68e"
      },
      "source": [
        "from google.colab import drive\n",
        "drive.mount('/content/gdrive/')"
      ],
      "execution_count": 1,
      "outputs": [
        {
          "output_type": "stream",
          "text": [
            "Go to this URL in a browser: https://accounts.google.com/o/oauth2/auth?client_id=947318989803-6bn6qk8qdgf4n4g3pfee6491hc0brc4i.apps.googleusercontent.com&redirect_uri=urn%3aietf%3awg%3aoauth%3a2.0%3aoob&response_type=code&scope=email%20https%3a%2f%2fwww.googleapis.com%2fauth%2fdocs.test%20https%3a%2f%2fwww.googleapis.com%2fauth%2fdrive%20https%3a%2f%2fwww.googleapis.com%2fauth%2fdrive.photos.readonly%20https%3a%2f%2fwww.googleapis.com%2fauth%2fpeopleapi.readonly\n",
            "\n",
            "Enter your authorization code:\n",
            "··········\n",
            "Mounted at /content/gdrive/\n"
          ],
          "name": "stdout"
        }
      ]
    },
    {
      "cell_type": "code",
      "metadata": {
        "id": "W7zUjH2QGS9J",
        "colab_type": "code",
        "colab": {
          "base_uri": "https://localhost:8080/",
          "height": 105
        },
        "outputId": "0dd6321c-34b4-4bfa-84bc-0ed22ecd2058"
      },
      "source": [
        "import numpy as np\n",
        "import scipy.sparse as sp\n",
        "import tensorflow as tf\n",
        "from tensorflow import keras\n",
        "from keras import backend as K\n",
        "from keras import initializers\n",
        "from keras.models import Sequential, Model, load_model, save_model\n",
        "from keras.layers.core import Dense, Lambda, Activation\n",
        "from keras.layers import Embedding, Input, Dense, Multiply, Reshape, Flatten, Concatenate\n",
        "from keras.optimizers import Adam\n",
        "from keras.regularizers import l2\n",
        "import pandas as pd\n",
        "import seaborn as sns\n",
        "import matplotlib.pyplot as plt\n",
        "\n",
        "import json, sys, random, os, datetime, math\n",
        "print(tf.__version__)\n",
        "print(keras.__version__)\n",
        "\n"
      ],
      "execution_count": 2,
      "outputs": [
        {
          "output_type": "stream",
          "text": [
            "2.3.0\n",
            "2.4.0\n"
          ],
          "name": "stdout"
        },
        {
          "output_type": "stream",
          "text": [
            "/usr/local/lib/python3.6/dist-packages/statsmodels/tools/_testing.py:19: FutureWarning: pandas.util.testing is deprecated. Use the functions in the public API at pandas.testing instead.\n",
            "  import pandas.util.testing as tm\n"
          ],
          "name": "stderr"
        }
      ]
    },
    {
      "cell_type": "markdown",
      "metadata": {
        "id": "JIBFWQDCvkfc",
        "colab_type": "text"
      },
      "source": [
        "#Data Pre-processing\n"
      ]
    },
    {
      "cell_type": "code",
      "metadata": {
        "id": "Vs7GNwODJlJG",
        "colab_type": "code",
        "colab": {}
      },
      "source": [
        "from_json_df = pd.read_json('/content/gdrive/My Drive/cmpe256-homework2/video_bundle_data2.json')"
      ],
      "execution_count": 3,
      "outputs": []
    },
    {
      "cell_type": "code",
      "metadata": {
        "id": "z4Yq4dgrJyL1",
        "colab_type": "code",
        "colab": {
          "base_uri": "https://localhost:8080/",
          "height": 513
        },
        "outputId": "53c1adfb-f21d-4f77-c5d0-18be573a62df"
      },
      "source": [
        "from_json_df.head(5)"
      ],
      "execution_count": 4,
      "outputs": [
        {
          "output_type": "execute_result",
          "data": {
            "text/html": [
              "<div>\n",
              "<style scoped>\n",
              "    .dataframe tbody tr th:only-of-type {\n",
              "        vertical-align: middle;\n",
              "    }\n",
              "\n",
              "    .dataframe tbody tr th {\n",
              "        vertical-align: top;\n",
              "    }\n",
              "\n",
              "    .dataframe thead th {\n",
              "        text-align: right;\n",
              "    }\n",
              "</style>\n",
              "<table border=\"1\" class=\"dataframe\">\n",
              "  <thead>\n",
              "    <tr style=\"text-align: right;\">\n",
              "      <th></th>\n",
              "      <th>bundle_final_price</th>\n",
              "      <th>bundle_url</th>\n",
              "      <th>bundle_price</th>\n",
              "      <th>bundle_name</th>\n",
              "      <th>bundle_id</th>\n",
              "      <th>items</th>\n",
              "      <th>bundle_discount</th>\n",
              "    </tr>\n",
              "  </thead>\n",
              "  <tbody>\n",
              "    <tr>\n",
              "      <th>0</th>\n",
              "      <td>$66.46</td>\n",
              "      <td>http://store.steampowered.com/bundle/450/?utm_...</td>\n",
              "      <td>$73.86</td>\n",
              "      <td>Dharker Studio 2015 Complete</td>\n",
              "      <td>450</td>\n",
              "      <td>[{'genre': 'Adventure, Indie, RPG', 'item_id':...</td>\n",
              "      <td>10%</td>\n",
              "    </tr>\n",
              "    <tr>\n",
              "      <th>1</th>\n",
              "      <td>$20.15</td>\n",
              "      <td>http://store.steampowered.com/bundle/1473/?utm...</td>\n",
              "      <td>$25.87</td>\n",
              "      <td>Naruto Shippuden Uncut Season 4, Vol. 3</td>\n",
              "      <td>1473</td>\n",
              "      <td>[{'genre': '', 'item_id': '528360', 'discounte...</td>\n",
              "      <td>22%</td>\n",
              "    </tr>\n",
              "    <tr>\n",
              "      <th>2</th>\n",
              "      <td>$20.15</td>\n",
              "      <td>http://store.steampowered.com/bundle/1474/?utm...</td>\n",
              "      <td>$25.87</td>\n",
              "      <td>Naruto Shippuden Uncut Season 4, Vol. 4</td>\n",
              "      <td>1474</td>\n",
              "      <td>[{'genre': '', 'item_id': '528380', 'discounte...</td>\n",
              "      <td>22%</td>\n",
              "    </tr>\n",
              "    <tr>\n",
              "      <th>3</th>\n",
              "      <td>$15.17</td>\n",
              "      <td>http://store.steampowered.com/bundle/1437/?utm...</td>\n",
              "      <td>$25.35</td>\n",
              "      <td>Pixel Puzzles Ultimate: Starter Kit</td>\n",
              "      <td>1437</td>\n",
              "      <td>[{'genre': 'Casual, Free to Play, Indie, Simul...</td>\n",
              "      <td>40%</td>\n",
              "    </tr>\n",
              "    <tr>\n",
              "      <th>4</th>\n",
              "      <td>$20.15</td>\n",
              "      <td>http://store.steampowered.com/bundle/1466/?utm...</td>\n",
              "      <td>$25.87</td>\n",
              "      <td>Naruto Shippuden Uncut Season 4, Vol. 1</td>\n",
              "      <td>1466</td>\n",
              "      <td>[{'genre': '', 'item_id': '527830', 'discounte...</td>\n",
              "      <td>22%</td>\n",
              "    </tr>\n",
              "  </tbody>\n",
              "</table>\n",
              "</div>"
            ],
            "text/plain": [
              "  bundle_final_price  ... bundle_discount\n",
              "0             $66.46  ...             10%\n",
              "1             $20.15  ...             22%\n",
              "2             $20.15  ...             22%\n",
              "3             $15.17  ...             40%\n",
              "4             $20.15  ...             22%\n",
              "\n",
              "[5 rows x 7 columns]"
            ]
          },
          "metadata": {
            "tags": []
          },
          "execution_count": 4
        }
      ]
    },
    {
      "cell_type": "code",
      "metadata": {
        "id": "eI3l8rMPGYL1",
        "colab_type": "code",
        "colab": {}
      },
      "source": [
        "data = from_json_df[['bundle_name','bundle_id','items']]"
      ],
      "execution_count": 5,
      "outputs": []
    },
    {
      "cell_type": "code",
      "metadata": {
        "id": "PFXC1EOTKHpp",
        "colab_type": "code",
        "colab": {
          "base_uri": "https://localhost:8080/",
          "height": 204
        },
        "outputId": "c29c8a36-17f3-42ca-91ef-fc6d6bf440b8"
      },
      "source": [
        "data.head()"
      ],
      "execution_count": 6,
      "outputs": [
        {
          "output_type": "execute_result",
          "data": {
            "text/html": [
              "<div>\n",
              "<style scoped>\n",
              "    .dataframe tbody tr th:only-of-type {\n",
              "        vertical-align: middle;\n",
              "    }\n",
              "\n",
              "    .dataframe tbody tr th {\n",
              "        vertical-align: top;\n",
              "    }\n",
              "\n",
              "    .dataframe thead th {\n",
              "        text-align: right;\n",
              "    }\n",
              "</style>\n",
              "<table border=\"1\" class=\"dataframe\">\n",
              "  <thead>\n",
              "    <tr style=\"text-align: right;\">\n",
              "      <th></th>\n",
              "      <th>bundle_name</th>\n",
              "      <th>bundle_id</th>\n",
              "      <th>items</th>\n",
              "    </tr>\n",
              "  </thead>\n",
              "  <tbody>\n",
              "    <tr>\n",
              "      <th>0</th>\n",
              "      <td>Dharker Studio 2015 Complete</td>\n",
              "      <td>450</td>\n",
              "      <td>[{'genre': 'Adventure, Indie, RPG', 'item_id':...</td>\n",
              "    </tr>\n",
              "    <tr>\n",
              "      <th>1</th>\n",
              "      <td>Naruto Shippuden Uncut Season 4, Vol. 3</td>\n",
              "      <td>1473</td>\n",
              "      <td>[{'genre': '', 'item_id': '528360', 'discounte...</td>\n",
              "    </tr>\n",
              "    <tr>\n",
              "      <th>2</th>\n",
              "      <td>Naruto Shippuden Uncut Season 4, Vol. 4</td>\n",
              "      <td>1474</td>\n",
              "      <td>[{'genre': '', 'item_id': '528380', 'discounte...</td>\n",
              "    </tr>\n",
              "    <tr>\n",
              "      <th>3</th>\n",
              "      <td>Pixel Puzzles Ultimate: Starter Kit</td>\n",
              "      <td>1437</td>\n",
              "      <td>[{'genre': 'Casual, Free to Play, Indie, Simul...</td>\n",
              "    </tr>\n",
              "    <tr>\n",
              "      <th>4</th>\n",
              "      <td>Naruto Shippuden Uncut Season 4, Vol. 1</td>\n",
              "      <td>1466</td>\n",
              "      <td>[{'genre': '', 'item_id': '527830', 'discounte...</td>\n",
              "    </tr>\n",
              "  </tbody>\n",
              "</table>\n",
              "</div>"
            ],
            "text/plain": [
              "                               bundle_name  ...                                              items\n",
              "0             Dharker Studio 2015 Complete  ...  [{'genre': 'Adventure, Indie, RPG', 'item_id':...\n",
              "1  Naruto Shippuden Uncut Season 4, Vol. 3  ...  [{'genre': '', 'item_id': '528360', 'discounte...\n",
              "2  Naruto Shippuden Uncut Season 4, Vol. 4  ...  [{'genre': '', 'item_id': '528380', 'discounte...\n",
              "3      Pixel Puzzles Ultimate: Starter Kit  ...  [{'genre': 'Casual, Free to Play, Indie, Simul...\n",
              "4  Naruto Shippuden Uncut Season 4, Vol. 1  ...  [{'genre': '', 'item_id': '527830', 'discounte...\n",
              "\n",
              "[5 rows x 3 columns]"
            ]
          },
          "metadata": {
            "tags": []
          },
          "execution_count": 6
        }
      ]
    },
    {
      "cell_type": "code",
      "metadata": {
        "id": "GosOt4xT9urQ",
        "colab_type": "code",
        "colab": {
          "base_uri": "https://localhost:8080/",
          "height": 221
        },
        "outputId": "110721a2-bee5-4938-ef12-7015d34677bc"
      },
      "source": [
        "items_split_array = []\n",
        "for index, row in data.iterrows():\n",
        "  for item in row['items']:\n",
        "    items_split_array.append([item['item_id'], item['item_name'], item['genre'], row['bundle_id']])\n",
        "df = pd.DataFrame(items_split_array, columns=['item_id', 'item_name', 'genre', 'bundle_id'])\n",
        "print(df.shape)\n",
        "df.head()"
      ],
      "execution_count": 7,
      "outputs": [
        {
          "output_type": "stream",
          "text": [
            "(3525, 4)\n"
          ],
          "name": "stdout"
        },
        {
          "output_type": "execute_result",
          "data": {
            "text/html": [
              "<div>\n",
              "<style scoped>\n",
              "    .dataframe tbody tr th:only-of-type {\n",
              "        vertical-align: middle;\n",
              "    }\n",
              "\n",
              "    .dataframe tbody tr th {\n",
              "        vertical-align: top;\n",
              "    }\n",
              "\n",
              "    .dataframe thead th {\n",
              "        text-align: right;\n",
              "    }\n",
              "</style>\n",
              "<table border=\"1\" class=\"dataframe\">\n",
              "  <thead>\n",
              "    <tr style=\"text-align: right;\">\n",
              "      <th></th>\n",
              "      <th>item_id</th>\n",
              "      <th>item_name</th>\n",
              "      <th>genre</th>\n",
              "      <th>bundle_id</th>\n",
              "    </tr>\n",
              "  </thead>\n",
              "  <tbody>\n",
              "    <tr>\n",
              "      <th>0</th>\n",
              "      <td>326950</td>\n",
              "      <td>Sword of Asumi</td>\n",
              "      <td>Adventure, Indie, RPG</td>\n",
              "      <td>450</td>\n",
              "    </tr>\n",
              "    <tr>\n",
              "      <th>1</th>\n",
              "      <td>331490</td>\n",
              "      <td>Sword of Asumi - Soundtrack</td>\n",
              "      <td>Adventure, Indie, RPG</td>\n",
              "      <td>450</td>\n",
              "    </tr>\n",
              "    <tr>\n",
              "      <th>2</th>\n",
              "      <td>331491</td>\n",
              "      <td>Sword of Asumi - Graphic Novel</td>\n",
              "      <td>Adventure, Indie, RPG</td>\n",
              "      <td>450</td>\n",
              "    </tr>\n",
              "    <tr>\n",
              "      <th>3</th>\n",
              "      <td>331492</td>\n",
              "      <td>Sword of Asumi - Character Creator</td>\n",
              "      <td>Adventure, Indie, RPG</td>\n",
              "      <td>450</td>\n",
              "    </tr>\n",
              "    <tr>\n",
              "      <th>4</th>\n",
              "      <td>348540</td>\n",
              "      <td>Divine Slice of Life</td>\n",
              "      <td>Adventure, Casual, Indie</td>\n",
              "      <td>450</td>\n",
              "    </tr>\n",
              "  </tbody>\n",
              "</table>\n",
              "</div>"
            ],
            "text/plain": [
              "  item_id  ... bundle_id\n",
              "0  326950  ...       450\n",
              "1  331490  ...       450\n",
              "2  331491  ...       450\n",
              "3  331492  ...       450\n",
              "4  348540  ...       450\n",
              "\n",
              "[5 rows x 4 columns]"
            ]
          },
          "metadata": {
            "tags": []
          },
          "execution_count": 7
        }
      ]
    },
    {
      "cell_type": "code",
      "metadata": {
        "id": "QKoCHKxD74-S",
        "colab_type": "code",
        "colab": {
          "base_uri": "https://localhost:8080/",
          "height": 204
        },
        "outputId": "59db9ae3-0668-4422-efe4-37361c7c65b3"
      },
      "source": [
        "df.info()"
      ],
      "execution_count": 8,
      "outputs": [
        {
          "output_type": "stream",
          "text": [
            "<class 'pandas.core.frame.DataFrame'>\n",
            "RangeIndex: 3525 entries, 0 to 3524\n",
            "Data columns (total 4 columns):\n",
            " #   Column     Non-Null Count  Dtype \n",
            "---  ------     --------------  ----- \n",
            " 0   item_id    3525 non-null   object\n",
            " 1   item_name  3525 non-null   object\n",
            " 2   genre      3525 non-null   object\n",
            " 3   bundle_id  3525 non-null   int64 \n",
            "dtypes: int64(1), object(3)\n",
            "memory usage: 110.3+ KB\n"
          ],
          "name": "stdout"
        }
      ]
    },
    {
      "cell_type": "code",
      "metadata": {
        "id": "jZbETRoX_ICh",
        "colab_type": "code",
        "colab": {
          "base_uri": "https://localhost:8080/",
          "height": 297
        },
        "outputId": "a305d5ed-7935-417d-d8f3-3f76e3b03449"
      },
      "source": [
        "df.describe()"
      ],
      "execution_count": 9,
      "outputs": [
        {
          "output_type": "execute_result",
          "data": {
            "text/html": [
              "<div>\n",
              "<style scoped>\n",
              "    .dataframe tbody tr th:only-of-type {\n",
              "        vertical-align: middle;\n",
              "    }\n",
              "\n",
              "    .dataframe tbody tr th {\n",
              "        vertical-align: top;\n",
              "    }\n",
              "\n",
              "    .dataframe thead th {\n",
              "        text-align: right;\n",
              "    }\n",
              "</style>\n",
              "<table border=\"1\" class=\"dataframe\">\n",
              "  <thead>\n",
              "    <tr style=\"text-align: right;\">\n",
              "      <th></th>\n",
              "      <th>bundle_id</th>\n",
              "    </tr>\n",
              "  </thead>\n",
              "  <tbody>\n",
              "    <tr>\n",
              "      <th>count</th>\n",
              "      <td>3525.000000</td>\n",
              "    </tr>\n",
              "    <tr>\n",
              "      <th>mean</th>\n",
              "      <td>715.415603</td>\n",
              "    </tr>\n",
              "    <tr>\n",
              "      <th>std</th>\n",
              "      <td>396.726058</td>\n",
              "    </tr>\n",
              "    <tr>\n",
              "      <th>min</th>\n",
              "      <td>15.000000</td>\n",
              "    </tr>\n",
              "    <tr>\n",
              "      <th>25%</th>\n",
              "      <td>362.000000</td>\n",
              "    </tr>\n",
              "    <tr>\n",
              "      <th>50%</th>\n",
              "      <td>634.000000</td>\n",
              "    </tr>\n",
              "    <tr>\n",
              "      <th>75%</th>\n",
              "      <td>1028.000000</td>\n",
              "    </tr>\n",
              "    <tr>\n",
              "      <th>max</th>\n",
              "      <td>1482.000000</td>\n",
              "    </tr>\n",
              "  </tbody>\n",
              "</table>\n",
              "</div>"
            ],
            "text/plain": [
              "         bundle_id\n",
              "count  3525.000000\n",
              "mean    715.415603\n",
              "std     396.726058\n",
              "min      15.000000\n",
              "25%     362.000000\n",
              "50%     634.000000\n",
              "75%    1028.000000\n",
              "max    1482.000000"
            ]
          },
          "metadata": {
            "tags": []
          },
          "execution_count": 9
        }
      ]
    },
    {
      "cell_type": "code",
      "metadata": {
        "id": "XP-7PR8y8JiF",
        "colab_type": "code",
        "colab": {
          "base_uri": "https://localhost:8080/",
          "height": 34
        },
        "outputId": "69a696b6-0981-466b-9f6f-90830ae0317e"
      },
      "source": [
        "df[df.genre == ''].shape[0]"
      ],
      "execution_count": 10,
      "outputs": [
        {
          "output_type": "execute_result",
          "data": {
            "text/plain": [
              "345"
            ]
          },
          "metadata": {
            "tags": []
          },
          "execution_count": 10
        }
      ]
    },
    {
      "cell_type": "code",
      "metadata": {
        "id": "bzUFTqw2-XHJ",
        "colab_type": "code",
        "colab": {
          "base_uri": "https://localhost:8080/",
          "height": 34
        },
        "outputId": "318dbf47-34f8-4502-fd6c-7d461b1e25f7"
      },
      "source": [
        "df['genre'].isin(['Action']).sum(axis=0)"
      ],
      "execution_count": 11,
      "outputs": [
        {
          "output_type": "execute_result",
          "data": {
            "text/plain": [
              "261"
            ]
          },
          "metadata": {
            "tags": []
          },
          "execution_count": 11
        }
      ]
    },
    {
      "cell_type": "code",
      "metadata": {
        "id": "xJJ730p9-EJx",
        "colab_type": "code",
        "colab": {
          "base_uri": "https://localhost:8080/",
          "height": 221
        },
        "outputId": "659d5e69-fda6-4889-eabb-6b3dad209b80"
      },
      "source": [
        "df.genre.value_counts()"
      ],
      "execution_count": 12,
      "outputs": [
        {
          "output_type": "execute_result",
          "data": {
            "text/plain": [
              "                                                                          345\n",
              "Action                                                                    261\n",
              "Action, Adventure                                                         192\n",
              "Action, Indie                                                             134\n",
              "Strategy                                                                  121\n",
              "                                                                         ... \n",
              "Strategy, Indie, Action                                                     1\n",
              "Action, Adventure, Casual, Indie, Massively Multiplayer, RPG, Strategy      1\n",
              "Adventure, Casual, Indie, RPG, Simulation, Strategy                         1\n",
              "Action, Casual, Indie, Sports                                               1\n",
              "Action, Indie, Massively Multiplayer, Early Access                          1\n",
              "Name: genre, Length: 197, dtype: int64"
            ]
          },
          "metadata": {
            "tags": []
          },
          "execution_count": 12
        }
      ]
    },
    {
      "cell_type": "code",
      "metadata": {
        "id": "A3dvKixPioak",
        "colab_type": "code",
        "colab": {
          "base_uri": "https://localhost:8080/",
          "height": 34
        },
        "outputId": "e5630174-667c-4c16-c453-7f1fd1a78e67"
      },
      "source": [
        "df['genre'].nunique()"
      ],
      "execution_count": 13,
      "outputs": [
        {
          "output_type": "execute_result",
          "data": {
            "text/plain": [
              "197"
            ]
          },
          "metadata": {
            "tags": []
          },
          "execution_count": 13
        }
      ]
    },
    {
      "cell_type": "code",
      "metadata": {
        "id": "xCuTi-EYjOE9",
        "colab_type": "code",
        "colab": {}
      },
      "source": [
        "genres_list = df['genre'].tolist()"
      ],
      "execution_count": 14,
      "outputs": []
    },
    {
      "cell_type": "code",
      "metadata": {
        "id": "qkwiDG1ejX3R",
        "colab_type": "code",
        "colab": {
          "base_uri": "https://localhost:8080/",
          "height": 663
        },
        "outputId": "73631d73-4800-4daf-a60c-82b135cb7576"
      },
      "source": [
        "genre_set=set()\n",
        "for item in genres_list:\n",
        "  genres = (item.split(','))\n",
        "  for i in genres:\n",
        "    genre_set.add(i)\n",
        "genre_set"
      ],
      "execution_count": 15,
      "outputs": [
        {
          "output_type": "execute_result",
          "data": {
            "text/plain": [
              "{'',\n",
              " ' Action',\n",
              " ' Adventure',\n",
              " ' Casual',\n",
              " ' Design & Illustration',\n",
              " ' Early Access',\n",
              " ' Education',\n",
              " ' Free to Play',\n",
              " ' Indie',\n",
              " ' Massively Multiplayer',\n",
              " ' Photo Editing',\n",
              " ' RPG',\n",
              " ' Racing',\n",
              " ' Simulation',\n",
              " ' Software Training',\n",
              " ' Sports',\n",
              " ' Strategy',\n",
              " ' Utilities',\n",
              " ' Video Production',\n",
              " ' Web Publishing',\n",
              " 'Action',\n",
              " 'Adventure',\n",
              " 'Animation & Modeling',\n",
              " 'Audio Production',\n",
              " 'Casual',\n",
              " 'Design & Illustration',\n",
              " 'Education',\n",
              " 'Free to Play',\n",
              " 'Indie',\n",
              " 'Massively Multiplayer',\n",
              " 'RPG',\n",
              " 'Racing',\n",
              " 'Simulation',\n",
              " 'Software Training',\n",
              " 'Sports',\n",
              " 'Strategy',\n",
              " 'Utilities',\n",
              " 'Web Publishing'}"
            ]
          },
          "metadata": {
            "tags": []
          },
          "execution_count": 15
        }
      ]
    },
    {
      "cell_type": "code",
      "metadata": {
        "id": "Bq7edptLlhUp",
        "colab_type": "code",
        "colab": {
          "base_uri": "https://localhost:8080/",
          "height": 34
        },
        "outputId": "e0e71077-2101-4a4f-8d2f-74998b971586"
      },
      "source": [
        "len(genre_set)"
      ],
      "execution_count": 16,
      "outputs": [
        {
          "output_type": "execute_result",
          "data": {
            "text/plain": [
              "38"
            ]
          },
          "metadata": {
            "tags": []
          },
          "execution_count": 16
        }
      ]
    },
    {
      "cell_type": "code",
      "metadata": {
        "id": "54u1WZp5iSq7",
        "colab_type": "code",
        "colab": {
          "base_uri": "https://localhost:8080/",
          "height": 460
        },
        "outputId": "6a115dcb-1e02-4194-b08b-9bdcab6cc726"
      },
      "source": [
        "import seaborn as sns\n",
        "import matplotlib.pyplot as plt\n",
        "df['genre'].value_counts().head(30).plot(kind='barh', figsize=(20,10))"
      ],
      "execution_count": 17,
      "outputs": [
        {
          "output_type": "execute_result",
          "data": {
            "text/plain": [
              "<matplotlib.axes._subplots.AxesSubplot at 0x7f67dcc99ef0>"
            ]
          },
          "metadata": {
            "tags": []
          },
          "execution_count": 17
        },
        {
          "output_type": "display_data",
          "data": {
            "image/png": "[encoded data removed]",
            "text/plain": [
              "<Figure size 1440x720 with 1 Axes>"
            ]
          },
          "metadata": {
            "tags": [],
            "needs_background": "light"
          }
        }
      ]
    },
    {
      "cell_type": "code",
      "metadata": {
        "id": "UtRWeocqBsVW",
        "colab_type": "code",
        "colab": {}
      },
      "source": [
        "df[\"genre\"].replace([\"\"], \"Others\", inplace=True)"
      ],
      "execution_count": 18,
      "outputs": []
    },
    {
      "cell_type": "code",
      "metadata": {
        "id": "hpq4sOkfLW-l",
        "colab_type": "code",
        "colab": {
          "base_uri": "https://localhost:8080/",
          "height": 221
        },
        "outputId": "ebcf62e5-d7ee-4dc7-888b-897a8b0c3162"
      },
      "source": [
        "df.genre.value_counts()"
      ],
      "execution_count": 19,
      "outputs": [
        {
          "output_type": "execute_result",
          "data": {
            "text/plain": [
              "Others                                                                    345\n",
              "Action                                                                    261\n",
              "Action, Adventure                                                         192\n",
              "Action, Indie                                                             134\n",
              "Strategy                                                                  121\n",
              "                                                                         ... \n",
              "Action, Adventure, Casual, Indie, Massively Multiplayer, RPG, Strategy      1\n",
              "Strategy, Indie, Action                                                     1\n",
              "Action, Indie, Massively Multiplayer, Early Access                          1\n",
              "Massively Multiplayer, Strategy                                             1\n",
              "Adventure, Casual, Indie, Simulation, Strategy                              1\n",
              "Name: genre, Length: 197, dtype: int64"
            ]
          },
          "metadata": {
            "tags": []
          },
          "execution_count": 19
        }
      ]
    },
    {
      "cell_type": "code",
      "metadata": {
        "id": "PVS7GR-PpPi1",
        "colab_type": "code",
        "colab": {
          "base_uri": "https://localhost:8080/",
          "height": 34
        },
        "outputId": "a82f3dba-2d5b-4e27-e228-bda9d2fc9e6e"
      },
      "source": [
        "plt.figure"
      ],
      "execution_count": 20,
      "outputs": [
        {
          "output_type": "execute_result",
          "data": {
            "text/plain": [
              "<function matplotlib.pyplot.figure>"
            ]
          },
          "metadata": {
            "tags": []
          },
          "execution_count": 20
        }
      ]
    },
    {
      "cell_type": "code",
      "metadata": {
        "id": "PADltShWN7CR",
        "colab_type": "code",
        "colab": {
          "base_uri": "https://localhost:8080/",
          "height": 204
        },
        "outputId": "084d415b-1da7-4529-bf59-f9c2e77a635f"
      },
      "source": [
        "item_ids = df[\"item_id\"].unique().tolist()\n",
        "len(item_ids)\n",
        "item2item_encoded = {x: i for i, x in enumerate(item_ids)}\n",
        "item_encoded2item = {i: x for i, x in enumerate(item_ids)}\n",
        "df['itemId'] = df[\"item_id\"].map(item2item_encoded)\n",
        "\n",
        "df.head()"
      ],
      "execution_count": 21,
      "outputs": [
        {
          "output_type": "execute_result",
          "data": {
            "text/html": [
              "<div>\n",
              "<style scoped>\n",
              "    .dataframe tbody tr th:only-of-type {\n",
              "        vertical-align: middle;\n",
              "    }\n",
              "\n",
              "    .dataframe tbody tr th {\n",
              "        vertical-align: top;\n",
              "    }\n",
              "\n",
              "    .dataframe thead th {\n",
              "        text-align: right;\n",
              "    }\n",
              "</style>\n",
              "<table border=\"1\" class=\"dataframe\">\n",
              "  <thead>\n",
              "    <tr style=\"text-align: right;\">\n",
              "      <th></th>\n",
              "      <th>item_id</th>\n",
              "      <th>item_name</th>\n",
              "      <th>genre</th>\n",
              "      <th>bundle_id</th>\n",
              "      <th>itemId</th>\n",
              "    </tr>\n",
              "  </thead>\n",
              "  <tbody>\n",
              "    <tr>\n",
              "      <th>0</th>\n",
              "      <td>326950</td>\n",
              "      <td>Sword of Asumi</td>\n",
              "      <td>Adventure, Indie, RPG</td>\n",
              "      <td>450</td>\n",
              "      <td>0</td>\n",
              "    </tr>\n",
              "    <tr>\n",
              "      <th>1</th>\n",
              "      <td>331490</td>\n",
              "      <td>Sword of Asumi - Soundtrack</td>\n",
              "      <td>Adventure, Indie, RPG</td>\n",
              "      <td>450</td>\n",
              "      <td>1</td>\n",
              "    </tr>\n",
              "    <tr>\n",
              "      <th>2</th>\n",
              "      <td>331491</td>\n",
              "      <td>Sword of Asumi - Graphic Novel</td>\n",
              "      <td>Adventure, Indie, RPG</td>\n",
              "      <td>450</td>\n",
              "      <td>2</td>\n",
              "    </tr>\n",
              "    <tr>\n",
              "      <th>3</th>\n",
              "      <td>331492</td>\n",
              "      <td>Sword of Asumi - Character Creator</td>\n",
              "      <td>Adventure, Indie, RPG</td>\n",
              "      <td>450</td>\n",
              "      <td>3</td>\n",
              "    </tr>\n",
              "    <tr>\n",
              "      <th>4</th>\n",
              "      <td>348540</td>\n",
              "      <td>Divine Slice of Life</td>\n",
              "      <td>Adventure, Casual, Indie</td>\n",
              "      <td>450</td>\n",
              "      <td>4</td>\n",
              "    </tr>\n",
              "  </tbody>\n",
              "</table>\n",
              "</div>"
            ],
            "text/plain": [
              "  item_id                           item_name  ... bundle_id  itemId\n",
              "0  326950                      Sword of Asumi  ...       450       0\n",
              "1  331490         Sword of Asumi - Soundtrack  ...       450       1\n",
              "2  331491      Sword of Asumi - Graphic Novel  ...       450       2\n",
              "3  331492  Sword of Asumi - Character Creator  ...       450       3\n",
              "4  348540                Divine Slice of Life  ...       450       4\n",
              "\n",
              "[5 rows x 5 columns]"
            ]
          },
          "metadata": {
            "tags": []
          },
          "execution_count": 21
        }
      ]
    },
    {
      "cell_type": "code",
      "metadata": {
        "id": "3jJwL4pqPYeI",
        "colab_type": "code",
        "colab": {
          "base_uri": "https://localhost:8080/",
          "height": 204
        },
        "outputId": "8b5a8a6c-af55-4548-db2b-d088a74e19a9"
      },
      "source": [
        "bundle_ids = df[\"bundle_id\"].unique().tolist()\n",
        "bundle2bundle_encoded = {x: i for i, x in enumerate(bundle_ids)}\n",
        "bundle_encoded2bundle = {i: x for i, x in enumerate(bundle_ids)}\n",
        "df[\"bundleId\"] = df[\"bundle_id\"].map(bundle2bundle_encoded)\n",
        "df.head()"
      ],
      "execution_count": 22,
      "outputs": [
        {
          "output_type": "execute_result",
          "data": {
            "text/html": [
              "<div>\n",
              "<style scoped>\n",
              "    .dataframe tbody tr th:only-of-type {\n",
              "        vertical-align: middle;\n",
              "    }\n",
              "\n",
              "    .dataframe tbody tr th {\n",
              "        vertical-align: top;\n",
              "    }\n",
              "\n",
              "    .dataframe thead th {\n",
              "        text-align: right;\n",
              "    }\n",
              "</style>\n",
              "<table border=\"1\" class=\"dataframe\">\n",
              "  <thead>\n",
              "    <tr style=\"text-align: right;\">\n",
              "      <th></th>\n",
              "      <th>item_id</th>\n",
              "      <th>item_name</th>\n",
              "      <th>genre</th>\n",
              "      <th>bundle_id</th>\n",
              "      <th>itemId</th>\n",
              "      <th>bundleId</th>\n",
              "    </tr>\n",
              "  </thead>\n",
              "  <tbody>\n",
              "    <tr>\n",
              "      <th>0</th>\n",
              "      <td>326950</td>\n",
              "      <td>Sword of Asumi</td>\n",
              "      <td>Adventure, Indie, RPG</td>\n",
              "      <td>450</td>\n",
              "      <td>0</td>\n",
              "      <td>0</td>\n",
              "    </tr>\n",
              "    <tr>\n",
              "      <th>1</th>\n",
              "      <td>331490</td>\n",
              "      <td>Sword of Asumi - Soundtrack</td>\n",
              "      <td>Adventure, Indie, RPG</td>\n",
              "      <td>450</td>\n",
              "      <td>1</td>\n",
              "      <td>0</td>\n",
              "    </tr>\n",
              "    <tr>\n",
              "      <th>2</th>\n",
              "      <td>331491</td>\n",
              "      <td>Sword of Asumi - Graphic Novel</td>\n",
              "      <td>Adventure, Indie, RPG</td>\n",
              "      <td>450</td>\n",
              "      <td>2</td>\n",
              "      <td>0</td>\n",
              "    </tr>\n",
              "    <tr>\n",
              "      <th>3</th>\n",
              "      <td>331492</td>\n",
              "      <td>Sword of Asumi - Character Creator</td>\n",
              "      <td>Adventure, Indie, RPG</td>\n",
              "      <td>450</td>\n",
              "      <td>3</td>\n",
              "      <td>0</td>\n",
              "    </tr>\n",
              "    <tr>\n",
              "      <th>4</th>\n",
              "      <td>348540</td>\n",
              "      <td>Divine Slice of Life</td>\n",
              "      <td>Adventure, Casual, Indie</td>\n",
              "      <td>450</td>\n",
              "      <td>4</td>\n",
              "      <td>0</td>\n",
              "    </tr>\n",
              "  </tbody>\n",
              "</table>\n",
              "</div>"
            ],
            "text/plain": [
              "  item_id                           item_name  ... itemId  bundleId\n",
              "0  326950                      Sword of Asumi  ...      0         0\n",
              "1  331490         Sword of Asumi - Soundtrack  ...      1         0\n",
              "2  331491      Sword of Asumi - Graphic Novel  ...      2         0\n",
              "3  331492  Sword of Asumi - Character Creator  ...      3         0\n",
              "4  348540                Divine Slice of Life  ...      4         0\n",
              "\n",
              "[5 rows x 6 columns]"
            ]
          },
          "metadata": {
            "tags": []
          },
          "execution_count": 22
        }
      ]
    },
    {
      "cell_type": "code",
      "metadata": {
        "id": "-9s5mkriCma4",
        "colab_type": "code",
        "colab": {
          "base_uri": "https://localhost:8080/",
          "height": 34
        },
        "outputId": "2eb8b90c-7b2d-4cf3-ed8e-fbefe268e71b"
      },
      "source": [
        "df.bundleId.min()"
      ],
      "execution_count": 23,
      "outputs": [
        {
          "output_type": "execute_result",
          "data": {
            "text/plain": [
              "0"
            ]
          },
          "metadata": {
            "tags": []
          },
          "execution_count": 23
        }
      ]
    },
    {
      "cell_type": "code",
      "metadata": {
        "id": "ceUv-J4ECok-",
        "colab_type": "code",
        "colab": {
          "base_uri": "https://localhost:8080/",
          "height": 34
        },
        "outputId": "135777fe-6ad1-43c2-c8e5-36e95a4fc31e"
      },
      "source": [
        "df.bundleId.max()"
      ],
      "execution_count": 24,
      "outputs": [
        {
          "output_type": "execute_result",
          "data": {
            "text/plain": [
              "614"
            ]
          },
          "metadata": {
            "tags": []
          },
          "execution_count": 24
        }
      ]
    },
    {
      "cell_type": "code",
      "metadata": {
        "id": "i2uYgDNfLrm2",
        "colab_type": "code",
        "colab": {
          "base_uri": "https://localhost:8080/",
          "height": 204
        },
        "outputId": "6486e6d4-c64b-44f0-f773-145bf8212f17"
      },
      "source": [
        "# split training and validation data\n",
        "split = np.random.rand(len(df)) < 0.8\n",
        "train = df[split]\n",
        "validate = df[~split]\n",
        "train.head()"
      ],
      "execution_count": 25,
      "outputs": [
        {
          "output_type": "execute_result",
          "data": {
            "text/html": [
              "<div>\n",
              "<style scoped>\n",
              "    .dataframe tbody tr th:only-of-type {\n",
              "        vertical-align: middle;\n",
              "    }\n",
              "\n",
              "    .dataframe tbody tr th {\n",
              "        vertical-align: top;\n",
              "    }\n",
              "\n",
              "    .dataframe thead th {\n",
              "        text-align: right;\n",
              "    }\n",
              "</style>\n",
              "<table border=\"1\" class=\"dataframe\">\n",
              "  <thead>\n",
              "    <tr style=\"text-align: right;\">\n",
              "      <th></th>\n",
              "      <th>item_id</th>\n",
              "      <th>item_name</th>\n",
              "      <th>genre</th>\n",
              "      <th>bundle_id</th>\n",
              "      <th>itemId</th>\n",
              "      <th>bundleId</th>\n",
              "    </tr>\n",
              "  </thead>\n",
              "  <tbody>\n",
              "    <tr>\n",
              "      <th>1</th>\n",
              "      <td>331490</td>\n",
              "      <td>Sword of Asumi - Soundtrack</td>\n",
              "      <td>Adventure, Indie, RPG</td>\n",
              "      <td>450</td>\n",
              "      <td>1</td>\n",
              "      <td>0</td>\n",
              "    </tr>\n",
              "    <tr>\n",
              "      <th>2</th>\n",
              "      <td>331491</td>\n",
              "      <td>Sword of Asumi - Graphic Novel</td>\n",
              "      <td>Adventure, Indie, RPG</td>\n",
              "      <td>450</td>\n",
              "      <td>2</td>\n",
              "      <td>0</td>\n",
              "    </tr>\n",
              "    <tr>\n",
              "      <th>4</th>\n",
              "      <td>348540</td>\n",
              "      <td>Divine Slice of Life</td>\n",
              "      <td>Adventure, Casual, Indie</td>\n",
              "      <td>450</td>\n",
              "      <td>4</td>\n",
              "      <td>0</td>\n",
              "    </tr>\n",
              "    <tr>\n",
              "      <th>6</th>\n",
              "      <td>390470</td>\n",
              "      <td>Divine Slice of Life - Soundtrack</td>\n",
              "      <td>Adventure, Casual, Indie</td>\n",
              "      <td>450</td>\n",
              "      <td>6</td>\n",
              "      <td>0</td>\n",
              "    </tr>\n",
              "    <tr>\n",
              "      <th>8</th>\n",
              "      <td>398100</td>\n",
              "      <td>Highschool Romance</td>\n",
              "      <td>Casual, Indie</td>\n",
              "      <td>450</td>\n",
              "      <td>8</td>\n",
              "      <td>0</td>\n",
              "    </tr>\n",
              "  </tbody>\n",
              "</table>\n",
              "</div>"
            ],
            "text/plain": [
              "  item_id                          item_name  ... itemId  bundleId\n",
              "1  331490        Sword of Asumi - Soundtrack  ...      1         0\n",
              "2  331491     Sword of Asumi - Graphic Novel  ...      2         0\n",
              "4  348540               Divine Slice of Life  ...      4         0\n",
              "6  390470  Divine Slice of Life - Soundtrack  ...      6         0\n",
              "8  398100                 Highschool Romance  ...      8         0\n",
              "\n",
              "[5 rows x 6 columns]"
            ]
          },
          "metadata": {
            "tags": []
          },
          "execution_count": 25
        }
      ]
    },
    {
      "cell_type": "code",
      "metadata": {
        "id": "0UKiaG5TMBiz",
        "colab_type": "code",
        "colab": {
          "base_uri": "https://localhost:8080/",
          "height": 204
        },
        "outputId": "04e127be-88ce-4ac2-f5f5-e74f9de4179c"
      },
      "source": [
        "validate.head()"
      ],
      "execution_count": 26,
      "outputs": [
        {
          "output_type": "execute_result",
          "data": {
            "text/html": [
              "<div>\n",
              "<style scoped>\n",
              "    .dataframe tbody tr th:only-of-type {\n",
              "        vertical-align: middle;\n",
              "    }\n",
              "\n",
              "    .dataframe tbody tr th {\n",
              "        vertical-align: top;\n",
              "    }\n",
              "\n",
              "    .dataframe thead th {\n",
              "        text-align: right;\n",
              "    }\n",
              "</style>\n",
              "<table border=\"1\" class=\"dataframe\">\n",
              "  <thead>\n",
              "    <tr style=\"text-align: right;\">\n",
              "      <th></th>\n",
              "      <th>item_id</th>\n",
              "      <th>item_name</th>\n",
              "      <th>genre</th>\n",
              "      <th>bundle_id</th>\n",
              "      <th>itemId</th>\n",
              "      <th>bundleId</th>\n",
              "    </tr>\n",
              "  </thead>\n",
              "  <tbody>\n",
              "    <tr>\n",
              "      <th>0</th>\n",
              "      <td>326950</td>\n",
              "      <td>Sword of Asumi</td>\n",
              "      <td>Adventure, Indie, RPG</td>\n",
              "      <td>450</td>\n",
              "      <td>0</td>\n",
              "      <td>0</td>\n",
              "    </tr>\n",
              "    <tr>\n",
              "      <th>3</th>\n",
              "      <td>331492</td>\n",
              "      <td>Sword of Asumi - Character Creator</td>\n",
              "      <td>Adventure, Indie, RPG</td>\n",
              "      <td>450</td>\n",
              "      <td>3</td>\n",
              "      <td>0</td>\n",
              "    </tr>\n",
              "    <tr>\n",
              "      <th>5</th>\n",
              "      <td>352010</td>\n",
              "      <td>Beach Bounce</td>\n",
              "      <td>Adventure, Casual, Indie</td>\n",
              "      <td>450</td>\n",
              "      <td>5</td>\n",
              "      <td>0</td>\n",
              "    </tr>\n",
              "    <tr>\n",
              "      <th>7</th>\n",
              "      <td>394050</td>\n",
              "      <td>Beach Bounce - Soundtrack</td>\n",
              "      <td>Adventure, Casual, Indie</td>\n",
              "      <td>450</td>\n",
              "      <td>7</td>\n",
              "      <td>0</td>\n",
              "    </tr>\n",
              "    <tr>\n",
              "      <th>9</th>\n",
              "      <td>408770</td>\n",
              "      <td>Highschool Possession</td>\n",
              "      <td>Adventure, Indie</td>\n",
              "      <td>450</td>\n",
              "      <td>9</td>\n",
              "      <td>0</td>\n",
              "    </tr>\n",
              "  </tbody>\n",
              "</table>\n",
              "</div>"
            ],
            "text/plain": [
              "  item_id                           item_name  ... itemId  bundleId\n",
              "0  326950                      Sword of Asumi  ...      0         0\n",
              "3  331492  Sword of Asumi - Character Creator  ...      3         0\n",
              "5  352010                        Beach Bounce  ...      5         0\n",
              "7  394050           Beach Bounce - Soundtrack  ...      7         0\n",
              "9  408770               Highschool Possession  ...      9         0\n",
              "\n",
              "[5 rows x 6 columns]"
            ]
          },
          "metadata": {
            "tags": []
          },
          "execution_count": 26
        }
      ]
    },
    {
      "cell_type": "code",
      "metadata": {
        "id": "NHTRdA_wMHGZ",
        "colab_type": "code",
        "colab": {}
      },
      "source": [
        "#creating dot matrix which is a sparse matrix which specifies if a bundle has an item\n",
        "# if a BundleId i has item j, mat[i,j]=1\n",
        "mat = sp.dok_matrix((train.shape[0], len(df['itemId'].unique())), dtype=np.float32)\n",
        "for bundle_id, item_id in zip(train['bundleId'], train['itemId']):\n",
        "    mat[bundle_id, item_id] = 1.0"
      ],
      "execution_count": 27,
      "outputs": []
    },
    {
      "cell_type": "markdown",
      "metadata": {
        "id": "JKJmZB3Nv7hi",
        "colab_type": "text"
      },
      "source": [
        "# Defining Model \n"
      ]
    },
    {
      "cell_type": "code",
      "metadata": {
        "id": "gbGa0vA3P6RQ",
        "colab_type": "code",
        "colab": {
          "base_uri": "https://localhost:8080/",
          "height": 34
        },
        "outputId": "f163930a-2c02-4202-b9bb-a65a9223d58b"
      },
      "source": [
        "def get_NCF_model(num_bunldes, num_items, latent_dim=8, dense_layers=[64, 32, 16, 8],\n",
        "              reg_layers=[0, 0, 0, 0], reg_mf=0):\n",
        "\n",
        "    # input layer\n",
        "    input_bundle = Input(shape=(1,), dtype='int32', name='bundle_input')\n",
        "    input_item = Input(shape=(1,), dtype='int32', name='item_input')\n",
        "\n",
        "    print(reg_mf)\n",
        "    \n",
        "    # embedding layer\n",
        "    mf_bundle_embedding = Embedding(input_dim=num_bundles, output_dim=latent_dim,\n",
        "                        name='mf_bundle_embedding',\n",
        "                        embeddings_initializer='RandomNormal',\n",
        "                        embeddings_regularizer=l2(reg_mf), input_length=1)\n",
        "    mf_item_embedding = Embedding(input_dim=num_items, output_dim=latent_dim,\n",
        "                        name='mf_item_embedding',\n",
        "                        embeddings_initializer='RandomNormal',\n",
        "                        embeddings_regularizer=l2(reg_mf), input_length=1)\n",
        "    mlp_bundle_embedding = Embedding(input_dim=num_bundles, output_dim=int(dense_layers[0]/2),\n",
        "                         name='mlp_bundle_embedding',\n",
        "                         embeddings_initializer='RandomNormal',\n",
        "                         embeddings_regularizer=l2(reg_layers[0]), \n",
        "                         input_length=1)\n",
        "    mlp_item_embedding = Embedding(input_dim=num_items, output_dim=int(dense_layers[0]/2),\n",
        "                         name='mlp_item_embedding',\n",
        "                         embeddings_initializer='RandomNormal',\n",
        "                         embeddings_regularizer=l2(reg_layers[0]), \n",
        "                         input_length=1)\n",
        "\n",
        "    # MF latent vector\n",
        "    mf_bundle_latent = Flatten()(mf_bundle_embedding(input_bundle))\n",
        "    mf_item_latent = Flatten()(mf_item_embedding(input_item))\n",
        "    mf_cat_latent = Multiply()([mf_bundle_latent, mf_item_latent])\n",
        "\n",
        "    # MLP latent vector\n",
        "    mlp_bundle_latent = Flatten()(mlp_bundle_embedding(input_bundle))\n",
        "    mlp_item_latent = Flatten()(mlp_item_embedding(input_item))\n",
        "    mlp_cat_latent = Concatenate()([mlp_bundle_latent, mlp_item_latent])\n",
        "    \n",
        "    mlp_vector = mlp_cat_latent\n",
        "    \n",
        "    # build dense layer for model\n",
        "    for i in range(1,len(dense_layers)):\n",
        "        layer = Dense(dense_layers[i],\n",
        "                      activity_regularizer=l2(reg_layers[i]),\n",
        "                      activation='relu',\n",
        "                      name='layer%d' % i)\n",
        "        mlp_vector = layer(mlp_vector)\n",
        "\n",
        "    predict_layer = Concatenate()([mf_cat_latent, mlp_vector])\n",
        "    result = Dense(1, activation='sigmoid', \n",
        "                   kernel_initializer='lecun_uniform',name='result')\n",
        "\n",
        "    model = Model(inputs=[input_bundle,input_item], outputs=result(predict_layer))\n",
        "\n",
        "    return model\n",
        "\n",
        "# get the training samples\n",
        "def get_train_samples(train_mat, num_negatives):\n",
        "    bundle_input, item_input, labels = [], [], []\n",
        "    num_bundle, num_item = train_mat.shape\n",
        "    for (u, i) in train_mat.keys():\n",
        "        bundle_input.append(u)\n",
        "        item_input.append(i)\n",
        "        labels.append(1)\n",
        "        # negative instances\n",
        "        for t in range(num_negatives):\n",
        "            j = np.random.randint(num_item)\n",
        "            while (u, j) in train_mat.keys():\n",
        "                j = np.random.randint(num_item)\n",
        "            bundle_input.append(u)\n",
        "            item_input.append(j)\n",
        "            labels.append(0)\n",
        "    return bundle_input, item_input, labels\n",
        "\n",
        "# hyperparameters\n",
        "\n",
        "verbose = 1\n",
        "epochs = 15   \n",
        "batch_size = 256\n",
        "latent_dim = 8\n",
        "dense_layers = [64, 32, 16, 8]\n",
        "reg_layers = [0, 0, 0, 0]\n",
        "reg_mf = [0]\n",
        "num_negatives = 4\n",
        "learning_rate = 0.001\n",
        "learner = 'adam'\n",
        "dataset = 'steam_video'\n",
        "\n",
        "# loading data\n",
        "train_mat = mat\n",
        "    \n",
        "num_bundles, num_items = train_mat.shape\n",
        "print('Done loading data!')"
      ],
      "execution_count": 28,
      "outputs": [
        {
          "output_type": "stream",
          "text": [
            "Done loading data!\n"
          ],
          "name": "stdout"
        }
      ]
    },
    {
      "cell_type": "code",
      "metadata": {
        "id": "Tp5eYsQGQU4e",
        "colab_type": "code",
        "colab": {
          "base_uri": "https://localhost:8080/",
          "height": 816
        },
        "outputId": "bae35ca7-7d5a-48d8-b49c-4f6b4fef1376"
      },
      "source": [
        "model = get_NCF_model(num_bundles, num_items, latent_dim, dense_layers, reg_layers)\n",
        "model.compile(optimizer=Adam(lr=learning_rate), loss='binary_crossentropy', metrics=['accuracy'])\n",
        "print(model.summary())\n",
        "    \n"
      ],
      "execution_count": 29,
      "outputs": [
        {
          "output_type": "stream",
          "text": [
            "0\n",
            "Model: \"functional_1\"\n",
            "__________________________________________________________________________________________________\n",
            "Layer (type)                    Output Shape         Param #     Connected to                     \n",
            "==================================================================================================\n",
            "bundle_input (InputLayer)       [(None, 1)]          0                                            \n",
            "__________________________________________________________________________________________________\n",
            "item_input (InputLayer)         [(None, 1)]          0                                            \n",
            "__________________________________________________________________________________________________\n",
            "mlp_bundle_embedding (Embedding (None, 1, 32)        90880       bundle_input[0][0]               \n",
            "__________________________________________________________________________________________________\n",
            "mlp_item_embedding (Embedding)  (None, 1, 32)        89536       item_input[0][0]                 \n",
            "__________________________________________________________________________________________________\n",
            "flatten_2 (Flatten)             (None, 32)           0           mlp_bundle_embedding[0][0]       \n",
            "__________________________________________________________________________________________________\n",
            "flatten_3 (Flatten)             (None, 32)           0           mlp_item_embedding[0][0]         \n",
            "__________________________________________________________________________________________________\n",
            "concatenate (Concatenate)       (None, 64)           0           flatten_2[0][0]                  \n",
            "                                                                 flatten_3[0][0]                  \n",
            "__________________________________________________________________________________________________\n",
            "mf_bundle_embedding (Embedding) (None, 1, 8)         22720       bundle_input[0][0]               \n",
            "__________________________________________________________________________________________________\n",
            "mf_item_embedding (Embedding)   (None, 1, 8)         22384       item_input[0][0]                 \n",
            "__________________________________________________________________________________________________\n",
            "layer1 (Dense)                  (None, 32)           2080        concatenate[0][0]                \n",
            "__________________________________________________________________________________________________\n",
            "flatten (Flatten)               (None, 8)            0           mf_bundle_embedding[0][0]        \n",
            "__________________________________________________________________________________________________\n",
            "flatten_1 (Flatten)             (None, 8)            0           mf_item_embedding[0][0]          \n",
            "__________________________________________________________________________________________________\n",
            "layer2 (Dense)                  (None, 16)           528         layer1[0][0]                     \n",
            "__________________________________________________________________________________________________\n",
            "multiply (Multiply)             (None, 8)            0           flatten[0][0]                    \n",
            "                                                                 flatten_1[0][0]                  \n",
            "__________________________________________________________________________________________________\n",
            "layer3 (Dense)                  (None, 8)            136         layer2[0][0]                     \n",
            "__________________________________________________________________________________________________\n",
            "concatenate_1 (Concatenate)     (None, 16)           0           multiply[0][0]                   \n",
            "                                                                 layer3[0][0]                     \n",
            "__________________________________________________________________________________________________\n",
            "result (Dense)                  (None, 1)            17          concatenate_1[0][0]              \n",
            "==================================================================================================\n",
            "Total params: 228,281\n",
            "Trainable params: 228,281\n",
            "Non-trainable params: 0\n",
            "__________________________________________________________________________________________________\n",
            "None\n"
          ],
          "name": "stdout"
        }
      ]
    },
    {
      "cell_type": "markdown",
      "metadata": {
        "id": "73gz273vwHuy",
        "colab_type": "text"
      },
      "source": [
        "#Training"
      ]
    },
    {
      "cell_type": "code",
      "metadata": {
        "id": "h8jPJnSBwDzJ",
        "colab_type": "code",
        "colab": {
          "base_uri": "https://localhost:8080/",
          "height": 581
        },
        "outputId": "cc4aa21c-cd22-4917-94b4-c0240a682ec1"
      },
      "source": [
        "\n",
        "bundle_input, item_input, labels = get_train_samples(train_mat, num_negatives)\n",
        "\n",
        "# training\n",
        "hist = model.fit([np.array(bundle_input), np.array(item_input)], np.array(labels), \n",
        "                 batch_size=batch_size, epochs=epochs, verbose=verbose, shuffle=True)"
      ],
      "execution_count": 30,
      "outputs": [
        {
          "output_type": "stream",
          "text": [
            "Epoch 1/15\n"
          ],
          "name": "stdout"
        },
        {
          "output_type": "stream",
          "text": [
            "/usr/local/lib/python3.6/dist-packages/tensorflow/python/framework/indexed_slices.py:432: UserWarning: Converting sparse IndexedSlices to a dense Tensor of unknown shape. This may consume a large amount of memory.\n",
            "  \"Converting sparse IndexedSlices to a dense Tensor of unknown shape. \"\n"
          ],
          "name": "stderr"
        },
        {
          "output_type": "stream",
          "text": [
            "56/56 [==============================] - 0s 4ms/step - loss: 0.6861 - accuracy: 0.7174\n",
            "Epoch 2/15\n",
            "56/56 [==============================] - 0s 4ms/step - loss: 0.6693 - accuracy: 0.8000\n",
            "Epoch 3/15\n",
            "56/56 [==============================] - 0s 4ms/step - loss: 0.6544 - accuracy: 0.8000\n",
            "Epoch 4/15\n",
            "56/56 [==============================] - 0s 4ms/step - loss: 0.6401 - accuracy: 0.8000\n",
            "Epoch 5/15\n",
            "56/56 [==============================] - 0s 4ms/step - loss: 0.6260 - accuracy: 0.8000\n",
            "Epoch 6/15\n",
            "56/56 [==============================] - 0s 4ms/step - loss: 0.6113 - accuracy: 0.8000\n",
            "Epoch 7/15\n",
            "56/56 [==============================] - 0s 4ms/step - loss: 0.5951 - accuracy: 0.8000\n",
            "Epoch 8/15\n",
            "56/56 [==============================] - 0s 4ms/step - loss: 0.5766 - accuracy: 0.8000\n",
            "Epoch 9/15\n",
            "56/56 [==============================] - 0s 4ms/step - loss: 0.5550 - accuracy: 0.8007\n",
            "Epoch 10/15\n",
            "56/56 [==============================] - 0s 4ms/step - loss: 0.5291 - accuracy: 0.8078\n",
            "Epoch 11/15\n",
            "56/56 [==============================] - 0s 4ms/step - loss: 0.4974 - accuracy: 0.8276\n",
            "Epoch 12/15\n",
            "56/56 [==============================] - 0s 4ms/step - loss: 0.4599 - accuracy: 0.8567\n",
            "Epoch 13/15\n",
            "56/56 [==============================] - 0s 4ms/step - loss: 0.4188 - accuracy: 0.8806\n",
            "Epoch 14/15\n",
            "56/56 [==============================] - 0s 4ms/step - loss: 0.3797 - accuracy: 0.8994\n",
            "Epoch 15/15\n",
            "56/56 [==============================] - 0s 4ms/step - loss: 0.3445 - accuracy: 0.9143\n"
          ],
          "name": "stdout"
        }
      ]
    },
    {
      "cell_type": "code",
      "metadata": {
        "id": "SVtiyPYrQjhz",
        "colab_type": "code",
        "colab": {}
      },
      "source": [
        "model_file = '%s_NCF_%d_%s.h5' % (dataset, latent_dim, str(dense_layers))\n",
        "model.save(model_file, overwrite=True)"
      ],
      "execution_count": 31,
      "outputs": []
    },
    {
      "cell_type": "markdown",
      "metadata": {
        "id": "QVl_QisPxnjk",
        "colab_type": "text"
      },
      "source": [
        "#Evaluation\n"
      ]
    },
    {
      "cell_type": "code",
      "metadata": {
        "id": "p5nrzYA-QoFB",
        "colab_type": "code",
        "colab": {
          "base_uri": "https://localhost:8080/",
          "height": 1000
        },
        "outputId": "bdc2215e-9a7e-4cb8-8e87-081ce8c6e476"
      },
      "source": [
        "from keras.models import load_model\n",
        "from sklearn.cluster import KMeans\n",
        "from sklearn.cluster import MiniBatchKMeans\n",
        "\n",
        "# this is a sample bundleid to predict\n",
        "desired_bundle_id = 568\n",
        "model_path = 'steam_video_NCF_8_[64, 32, 16, 8].h5'\n",
        "print('using model: %s' % model_path)\n",
        "model = load_model(model_path)\n",
        "print('Loaded model!')\n",
        "\n",
        "mlp_bundle_embedding_weights = (next(iter(filter(lambda x: x.name == 'mlp_bundle_embedding', model.layers))).get_weights())\n",
        "\n",
        "# get the latent embedding for your desired bundle\n",
        "bundle_latent_matrix = mlp_bundle_embedding_weights[0]\n",
        "one_bundle_vector = bundle_latent_matrix[desired_bundle_id,:]\n",
        "one_bundle_vector = np.reshape(one_bundle_vector, (1,32))\n",
        "\n",
        "print('\\nPerforming kmeans to find the nearest bundles...')\n",
        "# get 50 similar bundles\n",
        "kmeans = MiniBatchKMeans(n_clusters=50, random_state=0, verbose=1).fit(bundle_latent_matrix)\n",
        "desired_bundle_label = kmeans.predict(one_bundle_vector)\n",
        "bundle_label = kmeans.labels_\n",
        "neighbors = []\n",
        "for bundle_id, bundle_label in enumerate(bundle_label):\n",
        "    if bundle_label == desired_bundle_label:\n",
        "        neighbors.append(bundle_id)\n",
        "print('Found {0} neighbor bundles/games.'.format(len(neighbors))) "
      ],
      "execution_count": 88,
      "outputs": [
        {
          "output_type": "stream",
          "text": [
            "using model: steam_video_NCF_8_[64, 32, 16, 8].h5\n",
            "Loaded model!\n",
            "\n",
            "Performing kmeans to find the nearest bundles...\n",
            "Init 1/3 with method: k-means++\n",
            "Inertia for init 1/3: 20.312521\n",
            "Init 2/3 with method: k-means++\n",
            "Inertia for init 2/3: 20.073416\n",
            "Init 3/3 with method: k-means++\n",
            "Inertia for init 3/3: 20.587894\n",
            "Minibatch iteration 1/2900: mean batch inertia: 0.085470, ewa inertia: 0.085470 \n",
            "Minibatch iteration 2/2900: mean batch inertia: 0.082207, ewa inertia: 0.085240 \n",
            "Minibatch iteration 3/2900: mean batch inertia: 0.080680, ewa inertia: 0.084919 \n",
            "Minibatch iteration 4/2900: mean batch inertia: 0.081418, ewa inertia: 0.084673 \n",
            "Minibatch iteration 5/2900: mean batch inertia: 0.080506, ewa inertia: 0.084379 \n",
            "Minibatch iteration 6/2900: mean batch inertia: 0.079951, ewa inertia: 0.084068 \n",
            "Minibatch iteration 7/2900: mean batch inertia: 0.083143, ewa inertia: 0.084003 \n",
            "Minibatch iteration 8/2900: mean batch inertia: 0.077871, ewa inertia: 0.083571 \n",
            "Minibatch iteration 9/2900: mean batch inertia: 0.078116, ewa inertia: 0.083187 \n",
            "[MiniBatchKMeans] Reassigning 9 cluster centers.\n",
            "Minibatch iteration 10/2900: mean batch inertia: 0.079620, ewa inertia: 0.082936 \n",
            "Minibatch iteration 11/2900: mean batch inertia: 0.081877, ewa inertia: 0.082861 \n",
            "Minibatch iteration 12/2900: mean batch inertia: 0.081728, ewa inertia: 0.082781 \n",
            "Minibatch iteration 13/2900: mean batch inertia: 0.077905, ewa inertia: 0.082438 \n",
            "Minibatch iteration 14/2900: mean batch inertia: 0.077588, ewa inertia: 0.082097 \n",
            "Minibatch iteration 15/2900: mean batch inertia: 0.078433, ewa inertia: 0.081839 \n",
            "Minibatch iteration 16/2900: mean batch inertia: 0.082558, ewa inertia: 0.081889 \n",
            "Minibatch iteration 17/2900: mean batch inertia: 0.079103, ewa inertia: 0.081693 \n",
            "Minibatch iteration 18/2900: mean batch inertia: 0.080585, ewa inertia: 0.081615 \n",
            "Minibatch iteration 19/2900: mean batch inertia: 0.077741, ewa inertia: 0.081342 \n",
            "Minibatch iteration 20/2900: mean batch inertia: 0.075943, ewa inertia: 0.080962 \n",
            "Minibatch iteration 21/2900: mean batch inertia: 0.072812, ewa inertia: 0.080389 \n",
            "Minibatch iteration 22/2900: mean batch inertia: 0.071853, ewa inertia: 0.079788 \n",
            "Minibatch iteration 23/2900: mean batch inertia: 0.077291, ewa inertia: 0.079612 \n",
            "Minibatch iteration 24/2900: mean batch inertia: 0.074728, ewa inertia: 0.079268 \n",
            "Minibatch iteration 25/2900: mean batch inertia: 0.079860, ewa inertia: 0.079310 \n",
            "Minibatch iteration 26/2900: mean batch inertia: 0.071685, ewa inertia: 0.078773 \n",
            "Minibatch iteration 27/2900: mean batch inertia: 0.075220, ewa inertia: 0.078523 \n",
            "Minibatch iteration 28/2900: mean batch inertia: 0.083423, ewa inertia: 0.078868 \n",
            "Minibatch iteration 29/2900: mean batch inertia: 0.079280, ewa inertia: 0.078897 \n",
            "Minibatch iteration 30/2900: mean batch inertia: 0.080944, ewa inertia: 0.079041 \n",
            "Minibatch iteration 31/2900: mean batch inertia: 0.077138, ewa inertia: 0.078907 \n",
            "Minibatch iteration 32/2900: mean batch inertia: 0.077766, ewa inertia: 0.078827 \n",
            "Minibatch iteration 33/2900: mean batch inertia: 0.072786, ewa inertia: 0.078401 \n",
            "Minibatch iteration 34/2900: mean batch inertia: 0.075239, ewa inertia: 0.078179 \n",
            "Minibatch iteration 35/2900: mean batch inertia: 0.080153, ewa inertia: 0.078318 \n",
            "[MiniBatchKMeans] Reassigning 1 cluster centers.\n",
            "Minibatch iteration 36/2900: mean batch inertia: 0.076582, ewa inertia: 0.078196 \n",
            "Minibatch iteration 37/2900: mean batch inertia: 0.077981, ewa inertia: 0.078180 \n",
            "Minibatch iteration 38/2900: mean batch inertia: 0.077354, ewa inertia: 0.078122 \n",
            "Minibatch iteration 39/2900: mean batch inertia: 0.074798, ewa inertia: 0.077888 \n",
            "Minibatch iteration 40/2900: mean batch inertia: 0.077329, ewa inertia: 0.077849 \n",
            "Minibatch iteration 41/2900: mean batch inertia: 0.075783, ewa inertia: 0.077703 \n",
            "Minibatch iteration 42/2900: mean batch inertia: 0.077872, ewa inertia: 0.077715 \n",
            "Minibatch iteration 43/2900: mean batch inertia: 0.078816, ewa inertia: 0.077793 \n",
            "Minibatch iteration 44/2900: mean batch inertia: 0.071662, ewa inertia: 0.077361 \n",
            "Minibatch iteration 45/2900: mean batch inertia: 0.074548, ewa inertia: 0.077163 \n",
            "Minibatch iteration 46/2900: mean batch inertia: 0.078427, ewa inertia: 0.077252 \n",
            "Minibatch iteration 47/2900: mean batch inertia: 0.086587, ewa inertia: 0.077909 \n",
            "Minibatch iteration 48/2900: mean batch inertia: 0.074862, ewa inertia: 0.077695 \n",
            "Minibatch iteration 49/2900: mean batch inertia: 0.073355, ewa inertia: 0.077389 \n",
            "Minibatch iteration 50/2900: mean batch inertia: 0.075497, ewa inertia: 0.077256 \n",
            "Minibatch iteration 51/2900: mean batch inertia: 0.079375, ewa inertia: 0.077405 \n",
            "Minibatch iteration 52/2900: mean batch inertia: 0.077438, ewa inertia: 0.077408 \n",
            "Minibatch iteration 53/2900: mean batch inertia: 0.071796, ewa inertia: 0.077012 \n",
            "Minibatch iteration 54/2900: mean batch inertia: 0.073416, ewa inertia: 0.076759 \n",
            "Minibatch iteration 55/2900: mean batch inertia: 0.076380, ewa inertia: 0.076733 \n",
            "Minibatch iteration 56/2900: mean batch inertia: 0.073837, ewa inertia: 0.076529 \n",
            "Minibatch iteration 57/2900: mean batch inertia: 0.075731, ewa inertia: 0.076473 \n",
            "Minibatch iteration 58/2900: mean batch inertia: 0.074160, ewa inertia: 0.076310 \n",
            "Minibatch iteration 59/2900: mean batch inertia: 0.073180, ewa inertia: 0.076089 \n",
            "Minibatch iteration 60/2900: mean batch inertia: 0.078067, ewa inertia: 0.076229 \n",
            "Minibatch iteration 61/2900: mean batch inertia: 0.074015, ewa inertia: 0.076073 \n",
            "Minibatch iteration 62/2900: mean batch inertia: 0.072367, ewa inertia: 0.075812 \n",
            "Minibatch iteration 63/2900: mean batch inertia: 0.071039, ewa inertia: 0.075476 \n",
            "Minibatch iteration 64/2900: mean batch inertia: 0.081300, ewa inertia: 0.075886 \n",
            "Minibatch iteration 65/2900: mean batch inertia: 0.077980, ewa inertia: 0.076033 \n",
            "Minibatch iteration 66/2900: mean batch inertia: 0.078076, ewa inertia: 0.076177 \n",
            "Minibatch iteration 67/2900: mean batch inertia: 0.066878, ewa inertia: 0.075522 \n",
            "Minibatch iteration 68/2900: mean batch inertia: 0.073566, ewa inertia: 0.075385 \n",
            "Minibatch iteration 69/2900: mean batch inertia: 0.077464, ewa inertia: 0.075531 \n",
            "Minibatch iteration 70/2900: mean batch inertia: 0.074809, ewa inertia: 0.075480 \n",
            "Minibatch iteration 71/2900: mean batch inertia: 0.075675, ewa inertia: 0.075494 \n",
            "Minibatch iteration 72/2900: mean batch inertia: 0.083052, ewa inertia: 0.076026 \n",
            "Minibatch iteration 73/2900: mean batch inertia: 0.075444, ewa inertia: 0.075985 \n",
            "Minibatch iteration 74/2900: mean batch inertia: 0.082806, ewa inertia: 0.076465 \n",
            "Minibatch iteration 75/2900: mean batch inertia: 0.071927, ewa inertia: 0.076146 \n",
            "Minibatch iteration 76/2900: mean batch inertia: 0.075850, ewa inertia: 0.076125 \n",
            "Minibatch iteration 77/2900: mean batch inertia: 0.075990, ewa inertia: 0.076115 \n",
            "Minibatch iteration 78/2900: mean batch inertia: 0.073779, ewa inertia: 0.075951 \n",
            "Converged (lack of improvement in inertia) at iteration 78/2900\n",
            "Computing label assignment and total inertia\n",
            "Computing label assignment and total inertia\n",
            "Found 79 neighbor bundles/games.\n"
          ],
          "name": "stdout"
        }
      ]
    },
    {
      "cell_type": "code",
      "metadata": {
        "id": "HWmB1X-aQvao",
        "colab_type": "code",
        "colab": {
          "base_uri": "https://localhost:8080/",
          "height": 122
        },
        "outputId": "77e1b3e5-90e7-4e78-de1b-a54e6b61cabb"
      },
      "source": [
        "# get the games in similar bundles' items\n",
        "games = []\n",
        "for bundle_id in neighbors:\n",
        "    games += list(df[df['bundleId'] == int(bundle_id)]['itemId'])\n",
        "print('Found {0} neighbor items from these games.'.format(len(games))) \n",
        "\n",
        "games_arr = np.full(len(games), desired_bundle_id, dtype='int32')\n",
        "bundles = np.array(games, dtype='int32')\n",
        "\n",
        "print('\\nRanking most likely games using the NeuMF model...')\n",
        "# and predict games for bundle\n",
        "results = model.predict([games_arr,bundles],batch_size=100, verbose=0) \n",
        "results = results.tolist()\n",
        "print('Ranked the games!')"
      ],
      "execution_count": 89,
      "outputs": [
        {
          "output_type": "stream",
          "text": [
            "Found 55 neighbor items from these games.\n",
            "\n",
            "Ranking most likely games using the NeuMF model...\n",
            "WARNING:tensorflow:6 out of the last 11 calls to <function Model.make_predict_function.<locals>.predict_function at 0x7f6754fc51e0> triggered tf.function retracing. Tracing is expensive and the excessive number of tracings could be due to (1) creating @tf.function repeatedly in a loop, (2) passing tensors with different shapes, (3) passing Python objects instead of tensors. For (1), please define your @tf.function outside of the loop. For (2), @tf.function has experimental_relax_shapes=True option that relaxes argument shapes that can avoid unnecessary retracing. For (3), please refer to https://www.tensorflow.org/tutorials/customization/performance#python_or_tensor_args and https://www.tensorflow.org/api_docs/python/tf/function for  more details.\n",
            "Ranked the games!\n"
          ],
          "name": "stdout"
        }
      ]
    },
    {
      "cell_type": "code",
      "metadata": {
        "id": "a4z5g5EsRUTP",
        "colab_type": "code",
        "colab": {
          "base_uri": "https://localhost:8080/",
          "height": 159
        },
        "outputId": "b8790bf6-d526-49ab-b6f2-ce2eca172b8e"
      },
      "source": [
        "results_df = pd.DataFrame(np.nan, index=range(len(results)), columns=['probability','item_name', 'genre'])\n",
        "print(results_df.shape)\n",
        "\n",
        "# loop through and get the probability (of being in the bundle according to my model), the game, and the genre  \n",
        "for i, prob in enumerate(results):\n",
        "    # print('i: {0} prob: {1}'.format(i,prob))\n",
        "    results_df.loc[i] = [prob[0], df[df['itemId'] == i].iloc[0]['item_name'], df[df['itemId'] == i].iloc[0]['genre']]\n",
        "results_df = results_df.sort_values(by=['probability'], ascending=False)\n",
        "\n",
        "results_df.head(3)"
      ],
      "execution_count": 90,
      "outputs": [
        {
          "output_type": "stream",
          "text": [
            "(55, 3)\n"
          ],
          "name": "stdout"
        },
        {
          "output_type": "execute_result",
          "data": {
            "text/html": [
              "<div>\n",
              "<style scoped>\n",
              "    .dataframe tbody tr th:only-of-type {\n",
              "        vertical-align: middle;\n",
              "    }\n",
              "\n",
              "    .dataframe tbody tr th {\n",
              "        vertical-align: top;\n",
              "    }\n",
              "\n",
              "    .dataframe thead th {\n",
              "        text-align: right;\n",
              "    }\n",
              "</style>\n",
              "<table border=\"1\" class=\"dataframe\">\n",
              "  <thead>\n",
              "    <tr style=\"text-align: right;\">\n",
              "      <th></th>\n",
              "      <th>probability</th>\n",
              "      <th>item_name</th>\n",
              "      <th>genre</th>\n",
              "    </tr>\n",
              "  </thead>\n",
              "  <tbody>\n",
              "    <tr>\n",
              "      <th>35</th>\n",
              "      <td>0.572029</td>\n",
              "      <td>Naruto Shippuden Uncut: The Burden</td>\n",
              "      <td>Others</td>\n",
              "    </tr>\n",
              "    <tr>\n",
              "      <th>40</th>\n",
              "      <td>0.567164</td>\n",
              "      <td>Pixel Puzzles Ultimate - Puzzle Pack: Dinosaurs</td>\n",
              "      <td>Casual, Free to Play, Indie, Simulation, Sport...</td>\n",
              "    </tr>\n",
              "    <tr>\n",
              "      <th>38</th>\n",
              "      <td>0.525115</td>\n",
              "      <td>Naruto Shippuden Uncut: Infiltrator</td>\n",
              "      <td>Others</td>\n",
              "    </tr>\n",
              "  </tbody>\n",
              "</table>\n",
              "</div>"
            ],
            "text/plain": [
              "    probability  ...                                              genre\n",
              "35     0.572029  ...                                             Others\n",
              "40     0.567164  ...  Casual, Free to Play, Indie, Simulation, Sport...\n",
              "38     0.525115  ...                                             Others\n",
              "\n",
              "[3 rows x 3 columns]"
            ]
          },
          "metadata": {
            "tags": []
          },
          "execution_count": 90
        }
      ]
    },
    {
      "cell_type": "code",
      "metadata": {
        "id": "XAZRD09ZRq0K",
        "colab_type": "code",
        "colab": {
          "base_uri": "https://localhost:8080/",
          "height": 142
        },
        "outputId": "9235bd60-fd31-4207-dfd2-94b52f97f072"
      },
      "source": [
        "df[df['bundleId'] == 568].head(5)"
      ],
      "execution_count": 91,
      "outputs": [
        {
          "output_type": "execute_result",
          "data": {
            "text/html": [
              "<div>\n",
              "<style scoped>\n",
              "    .dataframe tbody tr th:only-of-type {\n",
              "        vertical-align: middle;\n",
              "    }\n",
              "\n",
              "    .dataframe tbody tr th {\n",
              "        vertical-align: top;\n",
              "    }\n",
              "\n",
              "    .dataframe thead th {\n",
              "        text-align: right;\n",
              "    }\n",
              "</style>\n",
              "<table border=\"1\" class=\"dataframe\">\n",
              "  <thead>\n",
              "    <tr style=\"text-align: right;\">\n",
              "      <th></th>\n",
              "      <th>item_id</th>\n",
              "      <th>item_name</th>\n",
              "      <th>genre</th>\n",
              "      <th>bundle_id</th>\n",
              "      <th>itemId</th>\n",
              "      <th>bundleId</th>\n",
              "    </tr>\n",
              "  </thead>\n",
              "  <tbody>\n",
              "    <tr>\n",
              "      <th>3295</th>\n",
              "      <td>317480</td>\n",
              "      <td>SpeedRunners - Youtuber Pack 1</td>\n",
              "      <td>Action, Casual, Indie, Racing, Sports</td>\n",
              "      <td>435</td>\n",
              "      <td>2626</td>\n",
              "      <td>568</td>\n",
              "    </tr>\n",
              "    <tr>\n",
              "      <th>3296</th>\n",
              "      <td>317490</td>\n",
              "      <td>SpeedRunners - Youtuber Pack 2</td>\n",
              "      <td>Action, Casual, Indie, Racing, Sports</td>\n",
              "      <td>435</td>\n",
              "      <td>2627</td>\n",
              "      <td>568</td>\n",
              "    </tr>\n",
              "    <tr>\n",
              "      <th>3297</th>\n",
              "      <td>207140</td>\n",
              "      <td>SpeedRunners</td>\n",
              "      <td>Action, Casual, Indie, Racing, Sports</td>\n",
              "      <td>435</td>\n",
              "      <td>1511</td>\n",
              "      <td>568</td>\n",
              "    </tr>\n",
              "  </tbody>\n",
              "</table>\n",
              "</div>"
            ],
            "text/plain": [
              "     item_id                       item_name  ... itemId  bundleId\n",
              "3295  317480  SpeedRunners - Youtuber Pack 1  ...   2626       568\n",
              "3296  317490  SpeedRunners - Youtuber Pack 2  ...   2627       568\n",
              "3297  207140                    SpeedRunners  ...   1511       568\n",
              "\n",
              "[3 rows x 6 columns]"
            ]
          },
          "metadata": {
            "tags": []
          },
          "execution_count": 91
        }
      ]
    },
    {
      "cell_type": "code",
      "metadata": {
        "id": "wmL3nn3yS1AC",
        "colab_type": "code",
        "colab": {}
      },
      "source": [
        "#save df to json for inference\n",
        "df.to_json(r'/content/origin_steam_video_df.json')"
      ],
      "execution_count": 36,
      "outputs": []
    },
    {
      "cell_type": "code",
      "metadata": {
        "id": "V5am_Oq2WDsA",
        "colab_type": "code",
        "colab": {
          "base_uri": "https://localhost:8080/",
          "height": 204
        },
        "outputId": "e77e2e1d-9280-4fa0-9af1-8c45ff8ca111"
      },
      "source": [
        "load_df = pd.read_json('/content/origin_steam_video_df.json')\n",
        "load_df.head()"
      ],
      "execution_count": 37,
      "outputs": [
        {
          "output_type": "execute_result",
          "data": {
            "text/html": [
              "<div>\n",
              "<style scoped>\n",
              "    .dataframe tbody tr th:only-of-type {\n",
              "        vertical-align: middle;\n",
              "    }\n",
              "\n",
              "    .dataframe tbody tr th {\n",
              "        vertical-align: top;\n",
              "    }\n",
              "\n",
              "    .dataframe thead th {\n",
              "        text-align: right;\n",
              "    }\n",
              "</style>\n",
              "<table border=\"1\" class=\"dataframe\">\n",
              "  <thead>\n",
              "    <tr style=\"text-align: right;\">\n",
              "      <th></th>\n",
              "      <th>item_id</th>\n",
              "      <th>item_name</th>\n",
              "      <th>genre</th>\n",
              "      <th>bundle_id</th>\n",
              "      <th>itemId</th>\n",
              "      <th>bundleId</th>\n",
              "    </tr>\n",
              "  </thead>\n",
              "  <tbody>\n",
              "    <tr>\n",
              "      <th>0</th>\n",
              "      <td>326950</td>\n",
              "      <td>Sword of Asumi</td>\n",
              "      <td>Adventure, Indie, RPG</td>\n",
              "      <td>450</td>\n",
              "      <td>0</td>\n",
              "      <td>0</td>\n",
              "    </tr>\n",
              "    <tr>\n",
              "      <th>1</th>\n",
              "      <td>331490</td>\n",
              "      <td>Sword of Asumi - Soundtrack</td>\n",
              "      <td>Adventure, Indie, RPG</td>\n",
              "      <td>450</td>\n",
              "      <td>1</td>\n",
              "      <td>0</td>\n",
              "    </tr>\n",
              "    <tr>\n",
              "      <th>2</th>\n",
              "      <td>331491</td>\n",
              "      <td>Sword of Asumi - Graphic Novel</td>\n",
              "      <td>Adventure, Indie, RPG</td>\n",
              "      <td>450</td>\n",
              "      <td>2</td>\n",
              "      <td>0</td>\n",
              "    </tr>\n",
              "    <tr>\n",
              "      <th>3</th>\n",
              "      <td>331492</td>\n",
              "      <td>Sword of Asumi - Character Creator</td>\n",
              "      <td>Adventure, Indie, RPG</td>\n",
              "      <td>450</td>\n",
              "      <td>3</td>\n",
              "      <td>0</td>\n",
              "    </tr>\n",
              "    <tr>\n",
              "      <th>4</th>\n",
              "      <td>348540</td>\n",
              "      <td>Divine Slice of Life</td>\n",
              "      <td>Adventure, Casual, Indie</td>\n",
              "      <td>450</td>\n",
              "      <td>4</td>\n",
              "      <td>0</td>\n",
              "    </tr>\n",
              "  </tbody>\n",
              "</table>\n",
              "</div>"
            ],
            "text/plain": [
              "  item_id                           item_name  ... itemId  bundleId\n",
              "0  326950                      Sword of Asumi  ...      0         0\n",
              "1  331490         Sword of Asumi - Soundtrack  ...      1         0\n",
              "2  331491      Sword of Asumi - Graphic Novel  ...      2         0\n",
              "3  331492  Sword of Asumi - Character Creator  ...      3         0\n",
              "4  348540                Divine Slice of Life  ...      4         0\n",
              "\n",
              "[5 rows x 6 columns]"
            ]
          },
          "metadata": {
            "tags": []
          },
          "execution_count": 37
        }
      ]
    },
    {
      "cell_type": "code",
      "metadata": {
        "id": "UMKKCsakZXrJ",
        "colab_type": "code",
        "colab": {
          "base_uri": "https://localhost:8080/",
          "height": 17
        },
        "outputId": "d32ad664-17e4-49d7-bf4f-2d81c8b87eae"
      },
      "source": [
        "from google.colab import files\n",
        "files.download('/content/steam_video_NCF_8_[64, 32, 16, 8].h5') "
      ],
      "execution_count": 38,
      "outputs": [
        {
          "output_type": "display_data",
          "data": {
            "application/javascript": [
              "\n",
              "    async function download(id, filename, size) {\n",
              "      if (!google.colab.kernel.accessAllowed) {\n",
              "        return;\n",
              "      }\n",
              "      const div = document.createElement('div');\n",
              "      const label = document.createElement('label');\n",
              "      label.textContent = `Downloading \"${filename}\": `;\n",
              "      div.appendChild(label);\n",
              "      const progress = document.createElement('progress');\n",
              "      progress.max = size;\n",
              "      div.appendChild(progress);\n",
              "      document.body.appendChild(div);\n",
              "\n",
              "      const buffers = [];\n",
              "      let downloaded = 0;\n",
              "\n",
              "      const channel = await google.colab.kernel.comms.open(id);\n",
              "      // Send a message to notify the kernel that we're ready.\n",
              "      channel.send({})\n",
              "\n",
              "      for await (const message of channel.messages) {\n",
              "        // Send a message to notify the kernel that we're ready.\n",
              "        channel.send({})\n",
              "        if (message.buffers) {\n",
              "          for (const buffer of message.buffers) {\n",
              "            buffers.push(buffer);\n",
              "            downloaded += buffer.byteLength;\n",
              "            progress.value = downloaded;\n",
              "          }\n",
              "        }\n",
              "      }\n",
              "      const blob = new Blob(buffers, {type: 'application/binary'});\n",
              "      const a = document.createElement('a');\n",
              "      a.href = window.URL.createObjectURL(blob);\n",
              "      a.download = filename;\n",
              "      div.appendChild(a);\n",
              "      a.click();\n",
              "      div.remove();\n",
              "    }\n",
              "  "
            ],
            "text/plain": [
              "<IPython.core.display.Javascript object>"
            ]
          },
          "metadata": {
            "tags": []
          }
        },
        {
          "output_type": "display_data",
          "data": {
            "application/javascript": [
              "download(\"download_646aeb84-bcc0-4199-af6b-b4e305996909\", \"steam_video_NCF_8_[64, 32, 16, 8].h5\", 2812784)"
            ],
            "text/plain": [
              "<IPython.core.display.Javascript object>"
            ]
          },
          "metadata": {
            "tags": []
          }
        }
      ]
    },
    {
      "cell_type": "code",
      "metadata": {
        "id": "3_Tav_y8SN1P",
        "colab_type": "code",
        "colab": {
          "base_uri": "https://localhost:8080/",
          "height": 17
        },
        "outputId": "3c94cc5c-e19c-47af-8b0c-4f39cf5a0670"
      },
      "source": [
        "files.download('/content/origin_steam_video_df.json')"
      ],
      "execution_count": 39,
      "outputs": [
        {
          "output_type": "display_data",
          "data": {
            "application/javascript": [
              "\n",
              "    async function download(id, filename, size) {\n",
              "      if (!google.colab.kernel.accessAllowed) {\n",
              "        return;\n",
              "      }\n",
              "      const div = document.createElement('div');\n",
              "      const label = document.createElement('label');\n",
              "      label.textContent = `Downloading \"${filename}\": `;\n",
              "      div.appendChild(label);\n",
              "      const progress = document.createElement('progress');\n",
              "      progress.max = size;\n",
              "      div.appendChild(progress);\n",
              "      document.body.appendChild(div);\n",
              "\n",
              "      const buffers = [];\n",
              "      let downloaded = 0;\n",
              "\n",
              "      const channel = await google.colab.kernel.comms.open(id);\n",
              "      // Send a message to notify the kernel that we're ready.\n",
              "      channel.send({})\n",
              "\n",
              "      for await (const message of channel.messages) {\n",
              "        // Send a message to notify the kernel that we're ready.\n",
              "        channel.send({})\n",
              "        if (message.buffers) {\n",
              "          for (const buffer of message.buffers) {\n",
              "            buffers.push(buffer);\n",
              "            downloaded += buffer.byteLength;\n",
              "            progress.value = downloaded;\n",
              "          }\n",
              "        }\n",
              "      }\n",
              "      const blob = new Blob(buffers, {type: 'application/binary'});\n",
              "      const a = document.createElement('a');\n",
              "      a.href = window.URL.createObjectURL(blob);\n",
              "      a.download = filename;\n",
              "      div.appendChild(a);\n",
              "      a.click();\n",
              "      div.remove();\n",
              "    }\n",
              "  "
            ],
            "text/plain": [
              "<IPython.core.display.Javascript object>"
            ]
          },
          "metadata": {
            "tags": []
          }
        },
        {
          "output_type": "display_data",
          "data": {
            "application/javascript": [
              "download(\"download_8c2a257c-fe57-4272-b3b1-3b59eb4bccfe\", \"origin_steam_video_df.json\", 406271)"
            ],
            "text/plain": [
              "<IPython.core.display.Javascript object>"
            ]
          },
          "metadata": {
            "tags": []
          }
        }
      ]
    }
  ]
}