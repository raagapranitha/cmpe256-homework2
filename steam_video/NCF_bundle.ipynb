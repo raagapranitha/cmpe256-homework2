{
  "nbformat": 4,
  "nbformat_minor": 0,
  "metadata": {
    "colab": {
      "name": "NCF-bundle.ipynb",
      "provenance": [],
      "collapsed_sections": [],
      "machine_shape": "hm"
    },
    "kernelspec": {
      "name": "python3",
      "display_name": "Python 3"
    },
    "accelerator": "GPU"
  },
  "cells": [
    {
      "cell_type": "code",
      "metadata": {
        "id": "NI4SXizOFfAc",
        "colab_type": "code",
        "colab": {
          "base_uri": "https://localhost:8080/",
          "height": 122
        },
        "outputId": "065253b8-1917-4b9e-c18c-ad2b6f0388cc"
      },
      "source": [
        "from google.colab import drive\n",
        "drive.mount('/content/gdrive/')"
      ],
      "execution_count": 1,
      "outputs": [
        {
          "output_type": "stream",
          "text": [
            "Go to this URL in a browser: https://accounts.google.com/o/oauth2/auth?client_id=947318989803-6bn6qk8qdgf4n4g3pfee6491hc0brc4i.apps.googleusercontent.com&redirect_uri=urn%3aietf%3awg%3aoauth%3a2.0%3aoob&response_type=code&scope=email%20https%3a%2f%2fwww.googleapis.com%2fauth%2fdocs.test%20https%3a%2f%2fwww.googleapis.com%2fauth%2fdrive%20https%3a%2f%2fwww.googleapis.com%2fauth%2fdrive.photos.readonly%20https%3a%2f%2fwww.googleapis.com%2fauth%2fpeopleapi.readonly\n",
            "\n",
            "Enter your authorization code:\n",
            "··········\n",
            "Mounted at /content/gdrive/\n"
          ],
          "name": "stdout"
        }
      ]
    },
    {
      "cell_type": "code",
      "metadata": {
        "id": "W7zUjH2QGS9J",
        "colab_type": "code",
        "colab": {
          "base_uri": "https://localhost:8080/",
          "height": 34
        },
        "outputId": "0ab427f0-cf69-4643-8405-4e0a8845b32d"
      },
      "source": [
        "import numpy as np\n",
        "import scipy.sparse as sp\n",
        "import tensorflow as tf\n",
        "from tensorflow import keras\n",
        "from keras import backend as K\n",
        "from keras import initializers\n",
        "from keras.models import Sequential, Model, load_model, save_model\n",
        "from keras.layers.core import Dense, Lambda, Activation\n",
        "from keras.layers import Embedding, Input, Dense, Multiply, Reshape, Flatten, Concatenate\n",
        "from keras.optimizers import Adam\n",
        "from keras.regularizers import l2\n",
        "import pandas as pd\n",
        "\n",
        "import json, sys, random, os, datetime, math\n",
        "print(tf.__version__)\n",
        "\n"
      ],
      "execution_count": 2,
      "outputs": [
        {
          "output_type": "stream",
          "text": [
            "2.3.0\n"
          ],
          "name": "stdout"
        }
      ]
    },
    {
      "cell_type": "code",
      "metadata": {
        "id": "Vs7GNwODJlJG",
        "colab_type": "code",
        "colab": {}
      },
      "source": [
        "from_json_df = pd.read_json('/content/gdrive/My Drive/NCF_video_bundle/video_bundle_data2.json')"
      ],
      "execution_count": 3,
      "outputs": []
    },
    {
      "cell_type": "code",
      "metadata": {
        "id": "z4Yq4dgrJyL1",
        "colab_type": "code",
        "colab": {
          "base_uri": "https://localhost:8080/",
          "height": 513
        },
        "outputId": "8475e30e-e472-4af6-f745-f49c7a594ade"
      },
      "source": [
        "from_json_df.head(5)"
      ],
      "execution_count": 4,
      "outputs": [
        {
          "output_type": "execute_result",
          "data": {
            "text/html": [
              "<div>\n",
              "<style scoped>\n",
              "    .dataframe tbody tr th:only-of-type {\n",
              "        vertical-align: middle;\n",
              "    }\n",
              "\n",
              "    .dataframe tbody tr th {\n",
              "        vertical-align: top;\n",
              "    }\n",
              "\n",
              "    .dataframe thead th {\n",
              "        text-align: right;\n",
              "    }\n",
              "</style>\n",
              "<table border=\"1\" class=\"dataframe\">\n",
              "  <thead>\n",
              "    <tr style=\"text-align: right;\">\n",
              "      <th></th>\n",
              "      <th>bundle_final_price</th>\n",
              "      <th>bundle_url</th>\n",
              "      <th>bundle_price</th>\n",
              "      <th>bundle_name</th>\n",
              "      <th>bundle_id</th>\n",
              "      <th>items</th>\n",
              "      <th>bundle_discount</th>\n",
              "    </tr>\n",
              "  </thead>\n",
              "  <tbody>\n",
              "    <tr>\n",
              "      <th>0</th>\n",
              "      <td>$66.46</td>\n",
              "      <td>http://store.steampowered.com/bundle/450/?utm_...</td>\n",
              "      <td>$73.86</td>\n",
              "      <td>Dharker Studio 2015 Complete</td>\n",
              "      <td>450</td>\n",
              "      <td>[{'genre': 'Adventure, Indie, RPG', 'item_id':...</td>\n",
              "      <td>10%</td>\n",
              "    </tr>\n",
              "    <tr>\n",
              "      <th>1</th>\n",
              "      <td>$20.15</td>\n",
              "      <td>http://store.steampowered.com/bundle/1473/?utm...</td>\n",
              "      <td>$25.87</td>\n",
              "      <td>Naruto Shippuden Uncut Season 4, Vol. 3</td>\n",
              "      <td>1473</td>\n",
              "      <td>[{'genre': '', 'item_id': '528360', 'discounte...</td>\n",
              "      <td>22%</td>\n",
              "    </tr>\n",
              "    <tr>\n",
              "      <th>2</th>\n",
              "      <td>$20.15</td>\n",
              "      <td>http://store.steampowered.com/bundle/1474/?utm...</td>\n",
              "      <td>$25.87</td>\n",
              "      <td>Naruto Shippuden Uncut Season 4, Vol. 4</td>\n",
              "      <td>1474</td>\n",
              "      <td>[{'genre': '', 'item_id': '528380', 'discounte...</td>\n",
              "      <td>22%</td>\n",
              "    </tr>\n",
              "    <tr>\n",
              "      <th>3</th>\n",
              "      <td>$15.17</td>\n",
              "      <td>http://store.steampowered.com/bundle/1437/?utm...</td>\n",
              "      <td>$25.35</td>\n",
              "      <td>Pixel Puzzles Ultimate: Starter Kit</td>\n",
              "      <td>1437</td>\n",
              "      <td>[{'genre': 'Casual, Free to Play, Indie, Simul...</td>\n",
              "      <td>40%</td>\n",
              "    </tr>\n",
              "    <tr>\n",
              "      <th>4</th>\n",
              "      <td>$20.15</td>\n",
              "      <td>http://store.steampowered.com/bundle/1466/?utm...</td>\n",
              "      <td>$25.87</td>\n",
              "      <td>Naruto Shippuden Uncut Season 4, Vol. 1</td>\n",
              "      <td>1466</td>\n",
              "      <td>[{'genre': '', 'item_id': '527830', 'discounte...</td>\n",
              "      <td>22%</td>\n",
              "    </tr>\n",
              "  </tbody>\n",
              "</table>\n",
              "</div>"
            ],
            "text/plain": [
              "  bundle_final_price  ... bundle_discount\n",
              "0             $66.46  ...             10%\n",
              "1             $20.15  ...             22%\n",
              "2             $20.15  ...             22%\n",
              "3             $15.17  ...             40%\n",
              "4             $20.15  ...             22%\n",
              "\n",
              "[5 rows x 7 columns]"
            ]
          },
          "metadata": {
            "tags": []
          },
          "execution_count": 4
        }
      ]
    },
    {
      "cell_type": "code",
      "metadata": {
        "id": "eI3l8rMPGYL1",
        "colab_type": "code",
        "colab": {}
      },
      "source": [
        "# traindata = pd.read_csv(\"/content/gdrive/My Drive/NCF_video_bundle/video_bundle_data.csv\") \n",
        "traindata = from_json_df[['bundle_name','bundle_id','items']]"
      ],
      "execution_count": 5,
      "outputs": []
    },
    {
      "cell_type": "code",
      "metadata": {
        "id": "PFXC1EOTKHpp",
        "colab_type": "code",
        "colab": {
          "base_uri": "https://localhost:8080/",
          "height": 204
        },
        "outputId": "98ad66e4-ee48-4069-aa87-eba81b77ca03"
      },
      "source": [
        "traindata.head()"
      ],
      "execution_count": 6,
      "outputs": [
        {
          "output_type": "execute_result",
          "data": {
            "text/html": [
              "<div>\n",
              "<style scoped>\n",
              "    .dataframe tbody tr th:only-of-type {\n",
              "        vertical-align: middle;\n",
              "    }\n",
              "\n",
              "    .dataframe tbody tr th {\n",
              "        vertical-align: top;\n",
              "    }\n",
              "\n",
              "    .dataframe thead th {\n",
              "        text-align: right;\n",
              "    }\n",
              "</style>\n",
              "<table border=\"1\" class=\"dataframe\">\n",
              "  <thead>\n",
              "    <tr style=\"text-align: right;\">\n",
              "      <th></th>\n",
              "      <th>bundle_name</th>\n",
              "      <th>bundle_id</th>\n",
              "      <th>items</th>\n",
              "    </tr>\n",
              "  </thead>\n",
              "  <tbody>\n",
              "    <tr>\n",
              "      <th>0</th>\n",
              "      <td>Dharker Studio 2015 Complete</td>\n",
              "      <td>450</td>\n",
              "      <td>[{'genre': 'Adventure, Indie, RPG', 'item_id':...</td>\n",
              "    </tr>\n",
              "    <tr>\n",
              "      <th>1</th>\n",
              "      <td>Naruto Shippuden Uncut Season 4, Vol. 3</td>\n",
              "      <td>1473</td>\n",
              "      <td>[{'genre': '', 'item_id': '528360', 'discounte...</td>\n",
              "    </tr>\n",
              "    <tr>\n",
              "      <th>2</th>\n",
              "      <td>Naruto Shippuden Uncut Season 4, Vol. 4</td>\n",
              "      <td>1474</td>\n",
              "      <td>[{'genre': '', 'item_id': '528380', 'discounte...</td>\n",
              "    </tr>\n",
              "    <tr>\n",
              "      <th>3</th>\n",
              "      <td>Pixel Puzzles Ultimate: Starter Kit</td>\n",
              "      <td>1437</td>\n",
              "      <td>[{'genre': 'Casual, Free to Play, Indie, Simul...</td>\n",
              "    </tr>\n",
              "    <tr>\n",
              "      <th>4</th>\n",
              "      <td>Naruto Shippuden Uncut Season 4, Vol. 1</td>\n",
              "      <td>1466</td>\n",
              "      <td>[{'genre': '', 'item_id': '527830', 'discounte...</td>\n",
              "    </tr>\n",
              "  </tbody>\n",
              "</table>\n",
              "</div>"
            ],
            "text/plain": [
              "                               bundle_name  ...                                              items\n",
              "0             Dharker Studio 2015 Complete  ...  [{'genre': 'Adventure, Indie, RPG', 'item_id':...\n",
              "1  Naruto Shippuden Uncut Season 4, Vol. 3  ...  [{'genre': '', 'item_id': '528360', 'discounte...\n",
              "2  Naruto Shippuden Uncut Season 4, Vol. 4  ...  [{'genre': '', 'item_id': '528380', 'discounte...\n",
              "3      Pixel Puzzles Ultimate: Starter Kit  ...  [{'genre': 'Casual, Free to Play, Indie, Simul...\n",
              "4  Naruto Shippuden Uncut Season 4, Vol. 1  ...  [{'genre': '', 'item_id': '527830', 'discounte...\n",
              "\n",
              "[5 rows x 3 columns]"
            ]
          },
          "metadata": {
            "tags": []
          },
          "execution_count": 6
        }
      ]
    },
    {
      "cell_type": "code",
      "metadata": {
        "id": "GosOt4xT9urQ",
        "colab_type": "code",
        "colab": {
          "base_uri": "https://localhost:8080/",
          "height": 221
        },
        "outputId": "6d1ae950-e5ee-4275-d737-ed9207a1c3ac"
      },
      "source": [
        "items_split_array = []\n",
        "for index, row in traindata.iterrows():\n",
        "  for item in row['items']:\n",
        "    items_split_array.append([item['item_id'], item['item_name'], item['genre'], row['bundle_id']])\n",
        "df = pd.DataFrame(items_split_array, columns=['item_id', 'item_name', 'genre', 'bundle_id'])\n",
        "print(df.shape)\n",
        "df.head()"
      ],
      "execution_count": 7,
      "outputs": [
        {
          "output_type": "stream",
          "text": [
            "(3525, 4)\n"
          ],
          "name": "stdout"
        },
        {
          "output_type": "execute_result",
          "data": {
            "text/html": [
              "<div>\n",
              "<style scoped>\n",
              "    .dataframe tbody tr th:only-of-type {\n",
              "        vertical-align: middle;\n",
              "    }\n",
              "\n",
              "    .dataframe tbody tr th {\n",
              "        vertical-align: top;\n",
              "    }\n",
              "\n",
              "    .dataframe thead th {\n",
              "        text-align: right;\n",
              "    }\n",
              "</style>\n",
              "<table border=\"1\" class=\"dataframe\">\n",
              "  <thead>\n",
              "    <tr style=\"text-align: right;\">\n",
              "      <th></th>\n",
              "      <th>item_id</th>\n",
              "      <th>item_name</th>\n",
              "      <th>genre</th>\n",
              "      <th>bundle_id</th>\n",
              "    </tr>\n",
              "  </thead>\n",
              "  <tbody>\n",
              "    <tr>\n",
              "      <th>0</th>\n",
              "      <td>326950</td>\n",
              "      <td>Sword of Asumi</td>\n",
              "      <td>Adventure, Indie, RPG</td>\n",
              "      <td>450</td>\n",
              "    </tr>\n",
              "    <tr>\n",
              "      <th>1</th>\n",
              "      <td>331490</td>\n",
              "      <td>Sword of Asumi - Soundtrack</td>\n",
              "      <td>Adventure, Indie, RPG</td>\n",
              "      <td>450</td>\n",
              "    </tr>\n",
              "    <tr>\n",
              "      <th>2</th>\n",
              "      <td>331491</td>\n",
              "      <td>Sword of Asumi - Graphic Novel</td>\n",
              "      <td>Adventure, Indie, RPG</td>\n",
              "      <td>450</td>\n",
              "    </tr>\n",
              "    <tr>\n",
              "      <th>3</th>\n",
              "      <td>331492</td>\n",
              "      <td>Sword of Asumi - Character Creator</td>\n",
              "      <td>Adventure, Indie, RPG</td>\n",
              "      <td>450</td>\n",
              "    </tr>\n",
              "    <tr>\n",
              "      <th>4</th>\n",
              "      <td>348540</td>\n",
              "      <td>Divine Slice of Life</td>\n",
              "      <td>Adventure, Casual, Indie</td>\n",
              "      <td>450</td>\n",
              "    </tr>\n",
              "  </tbody>\n",
              "</table>\n",
              "</div>"
            ],
            "text/plain": [
              "  item_id  ... bundle_id\n",
              "0  326950  ...       450\n",
              "1  331490  ...       450\n",
              "2  331491  ...       450\n",
              "3  331492  ...       450\n",
              "4  348540  ...       450\n",
              "\n",
              "[5 rows x 4 columns]"
            ]
          },
          "metadata": {
            "tags": []
          },
          "execution_count": 7
        }
      ]
    },
    {
      "cell_type": "code",
      "metadata": {
        "id": "QKoCHKxD74-S",
        "colab_type": "code",
        "colab": {
          "base_uri": "https://localhost:8080/",
          "height": 204
        },
        "outputId": "6c165b68-066d-405b-fef6-38779e228e43"
      },
      "source": [
        "df.info()"
      ],
      "execution_count": 10,
      "outputs": [
        {
          "output_type": "stream",
          "text": [
            "<class 'pandas.core.frame.DataFrame'>\n",
            "RangeIndex: 3525 entries, 0 to 3524\n",
            "Data columns (total 4 columns):\n",
            " #   Column     Non-Null Count  Dtype \n",
            "---  ------     --------------  ----- \n",
            " 0   item_id    3525 non-null   object\n",
            " 1   item_name  3525 non-null   object\n",
            " 2   genre      3525 non-null   object\n",
            " 3   bundle_id  3525 non-null   int64 \n",
            "dtypes: int64(1), object(3)\n",
            "memory usage: 110.3+ KB\n"
          ],
          "name": "stdout"
        }
      ]
    },
    {
      "cell_type": "code",
      "metadata": {
        "id": "jZbETRoX_ICh",
        "colab_type": "code",
        "colab": {
          "base_uri": "https://localhost:8080/",
          "height": 297
        },
        "outputId": "b120988e-a9d6-4a73-ced3-28f859ccd855"
      },
      "source": [
        "df.describe()z"
      ],
      "execution_count": 22,
      "outputs": [
        {
          "output_type": "execute_result",
          "data": {
            "text/html": [
              "<div>\n",
              "<style scoped>\n",
              "    .dataframe tbody tr th:only-of-type {\n",
              "        vertical-align: middle;\n",
              "    }\n",
              "\n",
              "    .dataframe tbody tr th {\n",
              "        vertical-align: top;\n",
              "    }\n",
              "\n",
              "    .dataframe thead th {\n",
              "        text-align: right;\n",
              "    }\n",
              "</style>\n",
              "<table border=\"1\" class=\"dataframe\">\n",
              "  <thead>\n",
              "    <tr style=\"text-align: right;\">\n",
              "      <th></th>\n",
              "      <th>bundle_id</th>\n",
              "    </tr>\n",
              "  </thead>\n",
              "  <tbody>\n",
              "    <tr>\n",
              "      <th>count</th>\n",
              "      <td>3525.000000</td>\n",
              "    </tr>\n",
              "    <tr>\n",
              "      <th>mean</th>\n",
              "      <td>715.415603</td>\n",
              "    </tr>\n",
              "    <tr>\n",
              "      <th>std</th>\n",
              "      <td>396.726058</td>\n",
              "    </tr>\n",
              "    <tr>\n",
              "      <th>min</th>\n",
              "      <td>15.000000</td>\n",
              "    </tr>\n",
              "    <tr>\n",
              "      <th>25%</th>\n",
              "      <td>362.000000</td>\n",
              "    </tr>\n",
              "    <tr>\n",
              "      <th>50%</th>\n",
              "      <td>634.000000</td>\n",
              "    </tr>\n",
              "    <tr>\n",
              "      <th>75%</th>\n",
              "      <td>1028.000000</td>\n",
              "    </tr>\n",
              "    <tr>\n",
              "      <th>max</th>\n",
              "      <td>1482.000000</td>\n",
              "    </tr>\n",
              "  </tbody>\n",
              "</table>\n",
              "</div>"
            ],
            "text/plain": [
              "         bundle_id\n",
              "count  3525.000000\n",
              "mean    715.415603\n",
              "std     396.726058\n",
              "min      15.000000\n",
              "25%     362.000000\n",
              "50%     634.000000\n",
              "75%    1028.000000\n",
              "max    1482.000000"
            ]
          },
          "metadata": {
            "tags": []
          },
          "execution_count": 22
        }
      ]
    },
    {
      "cell_type": "code",
      "metadata": {
        "id": "XP-7PR8y8JiF",
        "colab_type": "code",
        "colab": {
          "base_uri": "https://localhost:8080/",
          "height": 34
        },
        "outputId": "873cef54-defe-4c22-9e3c-b7a9e961516c"
      },
      "source": [
        "df[df.genre == ''].shape[0]"
      ],
      "execution_count": 23,
      "outputs": [
        {
          "output_type": "execute_result",
          "data": {
            "text/plain": [
              "345"
            ]
          },
          "metadata": {
            "tags": []
          },
          "execution_count": 23
        }
      ]
    },
    {
      "cell_type": "code",
      "metadata": {
        "id": "bzUFTqw2-XHJ",
        "colab_type": "code",
        "colab": {
          "base_uri": "https://localhost:8080/",
          "height": 34
        },
        "outputId": "c489996a-b6f7-4f14-b29a-2b0857437a58"
      },
      "source": [
        "df['genre'].isin(['Action']).sum(axis=0)"
      ],
      "execution_count": 21,
      "outputs": [
        {
          "output_type": "execute_result",
          "data": {
            "text/plain": [
              "261"
            ]
          },
          "metadata": {
            "tags": []
          },
          "execution_count": 21
        }
      ]
    },
    {
      "cell_type": "code",
      "metadata": {
        "id": "xJJ730p9-EJx",
        "colab_type": "code",
        "colab": {
          "base_uri": "https://localhost:8080/",
          "height": 221
        },
        "outputId": "a5a2148c-8d3f-4228-b3f9-6d0b89e26c02"
      },
      "source": [
        "df.genre.value_counts()"
      ],
      "execution_count": 18,
      "outputs": [
        {
          "output_type": "execute_result",
          "data": {
            "text/plain": [
              "                                                   345\n",
              "Action                                             261\n",
              "Action, Adventure                                  192\n",
              "Action, Indie                                      134\n",
              "Strategy                                           121\n",
              "                                                  ... \n",
              "Adventure, Indie, Racing                             1\n",
              "Strategy, Indie, Action                              1\n",
              "Action, Casual, Simulation, Strategy                 1\n",
              "Indie, Racing, Simulation, Sports, Early Access      1\n",
              "Action, Casual, Indie, RPG                           1\n",
              "Name: genre, Length: 197, dtype: int64"
            ]
          },
          "metadata": {
            "tags": []
          },
          "execution_count": 18
        }
      ]
    },
    {
      "cell_type": "code",
      "metadata": {
        "id": "UtRWeocqBsVW",
        "colab_type": "code",
        "colab": {}
      },
      "source": [
        "df[\"genre\"].replace([\"\"], \"Others\", inplace=True)"
      ],
      "execution_count": 30,
      "outputs": []
    },
    {
      "cell_type": "code",
      "metadata": {
        "id": "hpq4sOkfLW-l",
        "colab_type": "code",
        "colab": {
          "base_uri": "https://localhost:8080/",
          "height": 221
        },
        "outputId": "60f776dc-0678-4035-e80d-009622c68dc5"
      },
      "source": [
        "df.genre.value_counts()"
      ],
      "execution_count": 31,
      "outputs": [
        {
          "output_type": "execute_result",
          "data": {
            "text/plain": [
              "Others                                                  345\n",
              "Action                                                  261\n",
              "Action, Adventure                                       192\n",
              "Action, Indie                                           134\n",
              "Strategy                                                121\n",
              "                                                       ... \n",
              "Action, Casual, Indie, RPG, Simulation, Strategy          1\n",
              "Action, Indie, Strategy, Early Access                     1\n",
              "Action, Adventure, RPG, Simulation, Strategy              1\n",
              "Action, Adventure, Simulation                             1\n",
              "Adventure, Indie, Simulation, Strategy, Early Access      1\n",
              "Name: genre, Length: 197, dtype: int64"
            ]
          },
          "metadata": {
            "tags": []
          },
          "execution_count": 31
        }
      ]
    },
    {
      "cell_type": "code",
      "metadata": {
        "id": "PADltShWN7CR",
        "colab_type": "code",
        "colab": {
          "base_uri": "https://localhost:8080/",
          "height": 204
        },
        "outputId": "78874bcd-0709-41c4-f4df-222274709626"
      },
      "source": [
        "item_ids = df[\"item_id\"].unique().tolist()\n",
        "len(item_ids)\n",
        "item2item_encoded = {x: i for i, x in enumerate(item_ids)}\n",
        "item_encoded2item = {i: x for i, x in enumerate(item_ids)}\n",
        "df['itemId'] = df[\"item_id\"].map(item2item_encoded)\n",
        "\n",
        "df.head()"
      ],
      "execution_count": 32,
      "outputs": [
        {
          "output_type": "execute_result",
          "data": {
            "text/html": [
              "<div>\n",
              "<style scoped>\n",
              "    .dataframe tbody tr th:only-of-type {\n",
              "        vertical-align: middle;\n",
              "    }\n",
              "\n",
              "    .dataframe tbody tr th {\n",
              "        vertical-align: top;\n",
              "    }\n",
              "\n",
              "    .dataframe thead th {\n",
              "        text-align: right;\n",
              "    }\n",
              "</style>\n",
              "<table border=\"1\" class=\"dataframe\">\n",
              "  <thead>\n",
              "    <tr style=\"text-align: right;\">\n",
              "      <th></th>\n",
              "      <th>item_id</th>\n",
              "      <th>item_name</th>\n",
              "      <th>genre</th>\n",
              "      <th>bundle_id</th>\n",
              "      <th>itemId</th>\n",
              "    </tr>\n",
              "  </thead>\n",
              "  <tbody>\n",
              "    <tr>\n",
              "      <th>0</th>\n",
              "      <td>326950</td>\n",
              "      <td>Sword of Asumi</td>\n",
              "      <td>Adventure, Indie, RPG</td>\n",
              "      <td>450</td>\n",
              "      <td>0</td>\n",
              "    </tr>\n",
              "    <tr>\n",
              "      <th>1</th>\n",
              "      <td>331490</td>\n",
              "      <td>Sword of Asumi - Soundtrack</td>\n",
              "      <td>Adventure, Indie, RPG</td>\n",
              "      <td>450</td>\n",
              "      <td>1</td>\n",
              "    </tr>\n",
              "    <tr>\n",
              "      <th>2</th>\n",
              "      <td>331491</td>\n",
              "      <td>Sword of Asumi - Graphic Novel</td>\n",
              "      <td>Adventure, Indie, RPG</td>\n",
              "      <td>450</td>\n",
              "      <td>2</td>\n",
              "    </tr>\n",
              "    <tr>\n",
              "      <th>3</th>\n",
              "      <td>331492</td>\n",
              "      <td>Sword of Asumi - Character Creator</td>\n",
              "      <td>Adventure, Indie, RPG</td>\n",
              "      <td>450</td>\n",
              "      <td>3</td>\n",
              "    </tr>\n",
              "    <tr>\n",
              "      <th>4</th>\n",
              "      <td>348540</td>\n",
              "      <td>Divine Slice of Life</td>\n",
              "      <td>Adventure, Casual, Indie</td>\n",
              "      <td>450</td>\n",
              "      <td>4</td>\n",
              "    </tr>\n",
              "  </tbody>\n",
              "</table>\n",
              "</div>"
            ],
            "text/plain": [
              "  item_id                           item_name  ... bundle_id  itemId\n",
              "0  326950                      Sword of Asumi  ...       450       0\n",
              "1  331490         Sword of Asumi - Soundtrack  ...       450       1\n",
              "2  331491      Sword of Asumi - Graphic Novel  ...       450       2\n",
              "3  331492  Sword of Asumi - Character Creator  ...       450       3\n",
              "4  348540                Divine Slice of Life  ...       450       4\n",
              "\n",
              "[5 rows x 5 columns]"
            ]
          },
          "metadata": {
            "tags": []
          },
          "execution_count": 32
        }
      ]
    },
    {
      "cell_type": "code",
      "metadata": {
        "id": "3jJwL4pqPYeI",
        "colab_type": "code",
        "colab": {
          "base_uri": "https://localhost:8080/",
          "height": 204
        },
        "outputId": "1fefd9cf-08ac-4798-c35d-23195c134d61"
      },
      "source": [
        "bundle_ids = df[\"bundle_id\"].unique().tolist()\n",
        "bundle2bundle_encoded = {x: i for i, x in enumerate(bundle_ids)}\n",
        "bundle_encoded2bundle = {i: x for i, x in enumerate(bundle_ids)}\n",
        "df[\"bundleId\"] = df[\"bundle_id\"].map(bundle2bundle_encoded)\n",
        "df.head()"
      ],
      "execution_count": 33,
      "outputs": [
        {
          "output_type": "execute_result",
          "data": {
            "text/html": [
              "<div>\n",
              "<style scoped>\n",
              "    .dataframe tbody tr th:only-of-type {\n",
              "        vertical-align: middle;\n",
              "    }\n",
              "\n",
              "    .dataframe tbody tr th {\n",
              "        vertical-align: top;\n",
              "    }\n",
              "\n",
              "    .dataframe thead th {\n",
              "        text-align: right;\n",
              "    }\n",
              "</style>\n",
              "<table border=\"1\" class=\"dataframe\">\n",
              "  <thead>\n",
              "    <tr style=\"text-align: right;\">\n",
              "      <th></th>\n",
              "      <th>item_id</th>\n",
              "      <th>item_name</th>\n",
              "      <th>genre</th>\n",
              "      <th>bundle_id</th>\n",
              "      <th>itemId</th>\n",
              "      <th>bundleId</th>\n",
              "    </tr>\n",
              "  </thead>\n",
              "  <tbody>\n",
              "    <tr>\n",
              "      <th>0</th>\n",
              "      <td>326950</td>\n",
              "      <td>Sword of Asumi</td>\n",
              "      <td>Adventure, Indie, RPG</td>\n",
              "      <td>450</td>\n",
              "      <td>0</td>\n",
              "      <td>0</td>\n",
              "    </tr>\n",
              "    <tr>\n",
              "      <th>1</th>\n",
              "      <td>331490</td>\n",
              "      <td>Sword of Asumi - Soundtrack</td>\n",
              "      <td>Adventure, Indie, RPG</td>\n",
              "      <td>450</td>\n",
              "      <td>1</td>\n",
              "      <td>0</td>\n",
              "    </tr>\n",
              "    <tr>\n",
              "      <th>2</th>\n",
              "      <td>331491</td>\n",
              "      <td>Sword of Asumi - Graphic Novel</td>\n",
              "      <td>Adventure, Indie, RPG</td>\n",
              "      <td>450</td>\n",
              "      <td>2</td>\n",
              "      <td>0</td>\n",
              "    </tr>\n",
              "    <tr>\n",
              "      <th>3</th>\n",
              "      <td>331492</td>\n",
              "      <td>Sword of Asumi - Character Creator</td>\n",
              "      <td>Adventure, Indie, RPG</td>\n",
              "      <td>450</td>\n",
              "      <td>3</td>\n",
              "      <td>0</td>\n",
              "    </tr>\n",
              "    <tr>\n",
              "      <th>4</th>\n",
              "      <td>348540</td>\n",
              "      <td>Divine Slice of Life</td>\n",
              "      <td>Adventure, Casual, Indie</td>\n",
              "      <td>450</td>\n",
              "      <td>4</td>\n",
              "      <td>0</td>\n",
              "    </tr>\n",
              "  </tbody>\n",
              "</table>\n",
              "</div>"
            ],
            "text/plain": [
              "  item_id                           item_name  ... itemId  bundleId\n",
              "0  326950                      Sword of Asumi  ...      0         0\n",
              "1  331490         Sword of Asumi - Soundtrack  ...      1         0\n",
              "2  331491      Sword of Asumi - Graphic Novel  ...      2         0\n",
              "3  331492  Sword of Asumi - Character Creator  ...      3         0\n",
              "4  348540                Divine Slice of Life  ...      4         0\n",
              "\n",
              "[5 rows x 6 columns]"
            ]
          },
          "metadata": {
            "tags": []
          },
          "execution_count": 33
        }
      ]
    },
    {
      "cell_type": "code",
      "metadata": {
        "id": "i2uYgDNfLrm2",
        "colab_type": "code",
        "colab": {
          "base_uri": "https://localhost:8080/",
          "height": 204
        },
        "outputId": "2197b3a6-ba41-410a-de21-c6cc81c3ccad"
      },
      "source": [
        "# split training and validation data\n",
        "split = np.random.rand(len(df)) < 0.8\n",
        "train = df[split]\n",
        "validate = df[~split]\n",
        "train.head()"
      ],
      "execution_count": 34,
      "outputs": [
        {
          "output_type": "execute_result",
          "data": {
            "text/html": [
              "<div>\n",
              "<style scoped>\n",
              "    .dataframe tbody tr th:only-of-type {\n",
              "        vertical-align: middle;\n",
              "    }\n",
              "\n",
              "    .dataframe tbody tr th {\n",
              "        vertical-align: top;\n",
              "    }\n",
              "\n",
              "    .dataframe thead th {\n",
              "        text-align: right;\n",
              "    }\n",
              "</style>\n",
              "<table border=\"1\" class=\"dataframe\">\n",
              "  <thead>\n",
              "    <tr style=\"text-align: right;\">\n",
              "      <th></th>\n",
              "      <th>item_id</th>\n",
              "      <th>item_name</th>\n",
              "      <th>genre</th>\n",
              "      <th>bundle_id</th>\n",
              "      <th>itemId</th>\n",
              "      <th>bundleId</th>\n",
              "    </tr>\n",
              "  </thead>\n",
              "  <tbody>\n",
              "    <tr>\n",
              "      <th>0</th>\n",
              "      <td>326950</td>\n",
              "      <td>Sword of Asumi</td>\n",
              "      <td>Adventure, Indie, RPG</td>\n",
              "      <td>450</td>\n",
              "      <td>0</td>\n",
              "      <td>0</td>\n",
              "    </tr>\n",
              "    <tr>\n",
              "      <th>3</th>\n",
              "      <td>331492</td>\n",
              "      <td>Sword of Asumi - Character Creator</td>\n",
              "      <td>Adventure, Indie, RPG</td>\n",
              "      <td>450</td>\n",
              "      <td>3</td>\n",
              "      <td>0</td>\n",
              "    </tr>\n",
              "    <tr>\n",
              "      <th>4</th>\n",
              "      <td>348540</td>\n",
              "      <td>Divine Slice of Life</td>\n",
              "      <td>Adventure, Casual, Indie</td>\n",
              "      <td>450</td>\n",
              "      <td>4</td>\n",
              "      <td>0</td>\n",
              "    </tr>\n",
              "    <tr>\n",
              "      <th>6</th>\n",
              "      <td>390470</td>\n",
              "      <td>Divine Slice of Life - Soundtrack</td>\n",
              "      <td>Adventure, Casual, Indie</td>\n",
              "      <td>450</td>\n",
              "      <td>6</td>\n",
              "      <td>0</td>\n",
              "    </tr>\n",
              "    <tr>\n",
              "      <th>7</th>\n",
              "      <td>394050</td>\n",
              "      <td>Beach Bounce - Soundtrack</td>\n",
              "      <td>Adventure, Casual, Indie</td>\n",
              "      <td>450</td>\n",
              "      <td>7</td>\n",
              "      <td>0</td>\n",
              "    </tr>\n",
              "  </tbody>\n",
              "</table>\n",
              "</div>"
            ],
            "text/plain": [
              "  item_id                           item_name  ... itemId  bundleId\n",
              "0  326950                      Sword of Asumi  ...      0         0\n",
              "3  331492  Sword of Asumi - Character Creator  ...      3         0\n",
              "4  348540                Divine Slice of Life  ...      4         0\n",
              "6  390470   Divine Slice of Life - Soundtrack  ...      6         0\n",
              "7  394050           Beach Bounce - Soundtrack  ...      7         0\n",
              "\n",
              "[5 rows x 6 columns]"
            ]
          },
          "metadata": {
            "tags": []
          },
          "execution_count": 34
        }
      ]
    },
    {
      "cell_type": "code",
      "metadata": {
        "id": "0UKiaG5TMBiz",
        "colab_type": "code",
        "colab": {
          "base_uri": "https://localhost:8080/",
          "height": 204
        },
        "outputId": "80570432-d551-44bf-b448-50c4470bd2a9"
      },
      "source": [
        "validate.head()"
      ],
      "execution_count": 35,
      "outputs": [
        {
          "output_type": "execute_result",
          "data": {
            "text/html": [
              "<div>\n",
              "<style scoped>\n",
              "    .dataframe tbody tr th:only-of-type {\n",
              "        vertical-align: middle;\n",
              "    }\n",
              "\n",
              "    .dataframe tbody tr th {\n",
              "        vertical-align: top;\n",
              "    }\n",
              "\n",
              "    .dataframe thead th {\n",
              "        text-align: right;\n",
              "    }\n",
              "</style>\n",
              "<table border=\"1\" class=\"dataframe\">\n",
              "  <thead>\n",
              "    <tr style=\"text-align: right;\">\n",
              "      <th></th>\n",
              "      <th>item_id</th>\n",
              "      <th>item_name</th>\n",
              "      <th>genre</th>\n",
              "      <th>bundle_id</th>\n",
              "      <th>itemId</th>\n",
              "      <th>bundleId</th>\n",
              "    </tr>\n",
              "  </thead>\n",
              "  <tbody>\n",
              "    <tr>\n",
              "      <th>1</th>\n",
              "      <td>331490</td>\n",
              "      <td>Sword of Asumi - Soundtrack</td>\n",
              "      <td>Adventure, Indie, RPG</td>\n",
              "      <td>450</td>\n",
              "      <td>1</td>\n",
              "      <td>0</td>\n",
              "    </tr>\n",
              "    <tr>\n",
              "      <th>2</th>\n",
              "      <td>331491</td>\n",
              "      <td>Sword of Asumi - Graphic Novel</td>\n",
              "      <td>Adventure, Indie, RPG</td>\n",
              "      <td>450</td>\n",
              "      <td>2</td>\n",
              "      <td>0</td>\n",
              "    </tr>\n",
              "    <tr>\n",
              "      <th>5</th>\n",
              "      <td>352010</td>\n",
              "      <td>Beach Bounce</td>\n",
              "      <td>Adventure, Casual, Indie</td>\n",
              "      <td>450</td>\n",
              "      <td>5</td>\n",
              "      <td>0</td>\n",
              "    </tr>\n",
              "    <tr>\n",
              "      <th>16</th>\n",
              "      <td>528362</td>\n",
              "      <td>Naruto Shippuden Uncut: Team 10's Teamwork</td>\n",
              "      <td>Others</td>\n",
              "      <td>1473</td>\n",
              "      <td>16</td>\n",
              "      <td>1</td>\n",
              "    </tr>\n",
              "    <tr>\n",
              "      <th>17</th>\n",
              "      <td>528363</td>\n",
              "      <td>Naruto Shippuden Uncut: Drive Towards Darkness</td>\n",
              "      <td>Others</td>\n",
              "      <td>1473</td>\n",
              "      <td>17</td>\n",
              "      <td>1</td>\n",
              "    </tr>\n",
              "  </tbody>\n",
              "</table>\n",
              "</div>"
            ],
            "text/plain": [
              "   item_id                                       item_name  ... itemId  bundleId\n",
              "1   331490                     Sword of Asumi - Soundtrack  ...      1         0\n",
              "2   331491                  Sword of Asumi - Graphic Novel  ...      2         0\n",
              "5   352010                                    Beach Bounce  ...      5         0\n",
              "16  528362      Naruto Shippuden Uncut: Team 10's Teamwork  ...     16         1\n",
              "17  528363  Naruto Shippuden Uncut: Drive Towards Darkness  ...     17         1\n",
              "\n",
              "[5 rows x 6 columns]"
            ]
          },
          "metadata": {
            "tags": []
          },
          "execution_count": 35
        }
      ]
    },
    {
      "cell_type": "code",
      "metadata": {
        "id": "NHTRdA_wMHGZ",
        "colab_type": "code",
        "colab": {}
      },
      "source": [
        "# save data in dok matrix (optimized sparse matrix object)\n",
        "# create a sparse bundleId x itemId matrix\n",
        "# if a BundleId i has item j, mat[i,j]=1\n",
        "mat = sp.dok_matrix((train.shape[0], len(df['itemId'].unique())), dtype=np.float32)\n",
        "for bundle_id, item_id in zip(train['bundleId'], train['itemId']):\n",
        "    # print(f'{bundle_id}, {item_id}')\n",
        "    # print(mat.shape)\n",
        "    mat[bundle_id, item_id] = 1.0\n",
        "# sp.save_npz('steam_train_matrix.npz', mat)"
      ],
      "execution_count": 36,
      "outputs": []
    },
    {
      "cell_type": "code",
      "metadata": {
        "id": "gbGa0vA3P6RQ",
        "colab_type": "code",
        "colab": {
          "base_uri": "https://localhost:8080/",
          "height": 34
        },
        "outputId": "5ccb0991-c7b7-4e62-d658-f731b1ccd999"
      },
      "source": [
        "def get_model(num_bunldes, num_items, latent_dim=8, dense_layers=[64, 32, 16, 8],\n",
        "              reg_layers=[0, 0, 0, 0], reg_mf=0):\n",
        "\n",
        "    # input layer\n",
        "    input_bundle = Input(shape=(1,), dtype='int32', name='bundle_input')\n",
        "    input_item = Input(shape=(1,), dtype='int32', name='item_input')\n",
        "\n",
        "    print(reg_mf)\n",
        "    \n",
        "    # embedding layer\n",
        "    mf_bundle_embedding = Embedding(input_dim=num_bundles, output_dim=latent_dim,\n",
        "                        name='mf_bundle_embedding',\n",
        "                        embeddings_initializer='RandomNormal',\n",
        "                        embeddings_regularizer=l2(reg_mf), input_length=1)\n",
        "    mf_item_embedding = Embedding(input_dim=num_items, output_dim=latent_dim,\n",
        "                        name='mf_item_embedding',\n",
        "                        embeddings_initializer='RandomNormal',\n",
        "                        embeddings_regularizer=l2(reg_mf), input_length=1)\n",
        "    mlp_bundle_embedding = Embedding(input_dim=num_bundles, output_dim=int(dense_layers[0]/2),\n",
        "                         name='mlp_bundle_embedding',\n",
        "                         embeddings_initializer='RandomNormal',\n",
        "                         embeddings_regularizer=l2(reg_layers[0]), \n",
        "                         input_length=1)\n",
        "    mlp_item_embedding = Embedding(input_dim=num_items, output_dim=int(dense_layers[0]/2),\n",
        "                         name='mlp_item_embedding',\n",
        "                         embeddings_initializer='RandomNormal',\n",
        "                         embeddings_regularizer=l2(reg_layers[0]), \n",
        "                         input_length=1)\n",
        "\n",
        "    # MF latent vector\n",
        "    mf_bundle_latent = Flatten()(mf_bundle_embedding(input_bundle))\n",
        "    mf_item_latent = Flatten()(mf_item_embedding(input_item))\n",
        "    mf_cat_latent = Multiply()([mf_bundle_latent, mf_item_latent])\n",
        "\n",
        "    # MLP latent vector\n",
        "    mlp_bundle_latent = Flatten()(mlp_bundle_embedding(input_bundle))\n",
        "    mlp_item_latent = Flatten()(mlp_item_embedding(input_item))\n",
        "    mlp_cat_latent = Concatenate()([mlp_bundle_latent, mlp_item_latent])\n",
        "    \n",
        "    mlp_vector = mlp_cat_latent\n",
        "    \n",
        "    # build dense layer for model\n",
        "    for i in range(1,len(dense_layers)):\n",
        "        layer = Dense(dense_layers[i],\n",
        "                      activity_regularizer=l2(reg_layers[i]),\n",
        "                      activation='relu',\n",
        "                      name='layer%d' % i)\n",
        "        mlp_vector = layer(mlp_vector)\n",
        "\n",
        "    predict_layer = Concatenate()([mf_cat_latent, mlp_vector])\n",
        "    result = Dense(1, activation='sigmoid', \n",
        "                   kernel_initializer='lecun_uniform',name='result')\n",
        "\n",
        "    model = Model(inputs=[input_bundle,input_item], outputs=result(predict_layer))\n",
        "\n",
        "    return model\n",
        "\n",
        "# get the training samples\n",
        "def get_train_samples(train_mat, num_negatives):\n",
        "    bundle_input, item_input, labels = [], [], []\n",
        "    num_bundle, num_item = train_mat.shape\n",
        "    for (u, i) in train_mat.keys():\n",
        "        bundle_input.append(u)\n",
        "        item_input.append(i)\n",
        "        labels.append(1)\n",
        "        # negative instances\n",
        "        for t in range(num_negatives):\n",
        "            j = np.random.randint(num_item)\n",
        "            while (u, j) in train_mat.keys():\n",
        "                j = np.random.randint(num_item)\n",
        "            bundle_input.append(u)\n",
        "            item_input.append(j)\n",
        "            labels.append(0)\n",
        "    return bundle_input, item_input, labels\n",
        "\n",
        "# hyperparameters\n",
        "loaded = True\n",
        "verbose = 1\n",
        "epochs = 15   \n",
        "batch_size = 256\n",
        "latent_dim = 8\n",
        "dense_layers = [64, 32, 16, 8]\n",
        "reg_layers = [0, 0, 0, 0]\n",
        "reg_mf = [0]\n",
        "num_negatives = 4\n",
        "learning_rate = 0.001\n",
        "learner = 'adam'\n",
        "dataset = 'steam_video'\n",
        "\n",
        "# loading data\n",
        "if loaded:\n",
        "    train_mat = mat\n",
        "else:\n",
        "    train_mat = sp.load_npz('steam_train_matrix.npz')\n",
        "    \n",
        "num_bundles, num_items = train_mat.shape\n",
        "print('Done loading data!')"
      ],
      "execution_count": 45,
      "outputs": [
        {
          "output_type": "stream",
          "text": [
            "Done loading data!\n"
          ],
          "name": "stdout"
        }
      ]
    },
    {
      "cell_type": "code",
      "metadata": {
        "id": "Tp5eYsQGQU4e",
        "colab_type": "code",
        "colab": {
          "base_uri": "https://localhost:8080/",
          "height": 1000
        },
        "outputId": "84ba2916-2e14-4998-f810-eab1af06b9be"
      },
      "source": [
        "\n",
        "# get model\n",
        "model = get_model(num_bundles, num_items, latent_dim, dense_layers, reg_layers)\n",
        "model.compile(optimizer=Adam(lr=learning_rate), loss='binary_crossentropy', metrics=['accuracy'])\n",
        "print(model.summary())\n",
        "    \n",
        "# train model\n",
        "# generate training instances\n",
        "bundle_input, item_input, labels = get_train_samples(train_mat, num_negatives)\n",
        "\n",
        "# training\n",
        "hist = model.fit([np.array(bundle_input), np.array(item_input)], np.array(labels), \n",
        "                 batch_size=batch_size, epochs=epochs, verbose=verbose, shuffle=True)"
      ],
      "execution_count": 46,
      "outputs": [
        {
          "output_type": "stream",
          "text": [
            "0\n",
            "Model: \"functional_5\"\n",
            "__________________________________________________________________________________________________\n",
            "Layer (type)                    Output Shape         Param #     Connected to                     \n",
            "==================================================================================================\n",
            "bundle_input (InputLayer)       [(None, 1)]          0                                            \n",
            "__________________________________________________________________________________________________\n",
            "item_input (InputLayer)         [(None, 1)]          0                                            \n",
            "__________________________________________________________________________________________________\n",
            "mlp_bundle_embedding (Embedding (None, 1, 32)        89984       bundle_input[0][0]               \n",
            "__________________________________________________________________________________________________\n",
            "mlp_item_embedding (Embedding)  (None, 1, 32)        89536       item_input[0][0]                 \n",
            "__________________________________________________________________________________________________\n",
            "flatten_12 (Flatten)            (None, 32)           0           mlp_bundle_embedding[0][0]       \n",
            "__________________________________________________________________________________________________\n",
            "flatten_13 (Flatten)            (None, 32)           0           mlp_item_embedding[0][0]         \n",
            "__________________________________________________________________________________________________\n",
            "concatenate_4 (Concatenate)     (None, 64)           0           flatten_12[0][0]                 \n",
            "                                                                 flatten_13[0][0]                 \n",
            "__________________________________________________________________________________________________\n",
            "mf_bundle_embedding (Embedding) (None, 1, 8)         22496       bundle_input[0][0]               \n",
            "__________________________________________________________________________________________________\n",
            "mf_item_embedding (Embedding)   (None, 1, 8)         22384       item_input[0][0]                 \n",
            "__________________________________________________________________________________________________\n",
            "layer1 (Dense)                  (None, 32)           2080        concatenate_4[0][0]              \n",
            "__________________________________________________________________________________________________\n",
            "flatten_10 (Flatten)            (None, 8)            0           mf_bundle_embedding[0][0]        \n",
            "__________________________________________________________________________________________________\n",
            "flatten_11 (Flatten)            (None, 8)            0           mf_item_embedding[0][0]          \n",
            "__________________________________________________________________________________________________\n",
            "layer2 (Dense)                  (None, 16)           528         layer1[0][0]                     \n",
            "__________________________________________________________________________________________________\n",
            "multiply_2 (Multiply)           (None, 8)            0           flatten_10[0][0]                 \n",
            "                                                                 flatten_11[0][0]                 \n",
            "__________________________________________________________________________________________________\n",
            "layer3 (Dense)                  (None, 8)            136         layer2[0][0]                     \n",
            "__________________________________________________________________________________________________\n",
            "concatenate_5 (Concatenate)     (None, 16)           0           multiply_2[0][0]                 \n",
            "                                                                 layer3[0][0]                     \n",
            "__________________________________________________________________________________________________\n",
            "result (Dense)                  (None, 1)            17          concatenate_5[0][0]              \n",
            "==================================================================================================\n",
            "Total params: 227,161\n",
            "Trainable params: 227,161\n",
            "Non-trainable params: 0\n",
            "__________________________________________________________________________________________________\n",
            "None\n",
            "Epoch 1/15\n"
          ],
          "name": "stdout"
        },
        {
          "output_type": "stream",
          "text": [
            "/usr/local/lib/python3.6/dist-packages/tensorflow/python/framework/indexed_slices.py:432: UserWarning: Converting sparse IndexedSlices to a dense Tensor of unknown shape. This may consume a large amount of memory.\n",
            "  \"Converting sparse IndexedSlices to a dense Tensor of unknown shape. \"\n"
          ],
          "name": "stderr"
        },
        {
          "output_type": "stream",
          "text": [
            "55/55 [==============================] - 0s 4ms/step - loss: 0.6615 - accuracy: 0.7682\n",
            "Epoch 2/15\n",
            "55/55 [==============================] - 0s 4ms/step - loss: 0.5341 - accuracy: 0.8000\n",
            "Epoch 3/15\n",
            "55/55 [==============================] - 0s 4ms/step - loss: 0.4940 - accuracy: 0.8000\n",
            "Epoch 4/15\n",
            "55/55 [==============================] - 0s 4ms/step - loss: 0.4788 - accuracy: 0.8000\n",
            "Epoch 5/15\n",
            "55/55 [==============================] - 0s 4ms/step - loss: 0.4658 - accuracy: 0.8000\n",
            "Epoch 6/15\n",
            "55/55 [==============================] - 0s 4ms/step - loss: 0.4560 - accuracy: 0.8000\n",
            "Epoch 7/15\n",
            "55/55 [==============================] - 0s 4ms/step - loss: 0.4455 - accuracy: 0.8000\n",
            "Epoch 8/15\n",
            "55/55 [==============================] - 0s 4ms/step - loss: 0.4341 - accuracy: 0.8073\n",
            "Epoch 9/15\n",
            "55/55 [==============================] - 0s 4ms/step - loss: 0.4153 - accuracy: 0.8208\n",
            "Epoch 10/15\n",
            "55/55 [==============================] - 0s 4ms/step - loss: 0.3870 - accuracy: 0.8307\n",
            "Epoch 11/15\n",
            "55/55 [==============================] - 0s 4ms/step - loss: 0.3422 - accuracy: 0.8438\n",
            "Epoch 12/15\n",
            "55/55 [==============================] - 0s 4ms/step - loss: 0.2777 - accuracy: 0.8791\n",
            "Epoch 13/15\n",
            "55/55 [==============================] - 0s 4ms/step - loss: 0.2000 - accuracy: 0.9325\n",
            "Epoch 14/15\n",
            "55/55 [==============================] - 0s 4ms/step - loss: 0.1268 - accuracy: 0.9665\n",
            "Epoch 15/15\n",
            "55/55 [==============================] - 0s 4ms/step - loss: 0.0741 - accuracy: 0.9846\n"
          ],
          "name": "stdout"
        }
      ]
    },
    {
      "cell_type": "code",
      "metadata": {
        "id": "SVtiyPYrQjhz",
        "colab_type": "code",
        "colab": {}
      },
      "source": [
        "model_file = '%s_NCF_%d_%s.h5' % (dataset, latent_dim, str(dense_layers))\n",
        "model.save(model_file, overwrite=True)"
      ],
      "execution_count": 47,
      "outputs": []
    },
    {
      "cell_type": "code",
      "metadata": {
        "id": "p5nrzYA-QoFB",
        "colab_type": "code",
        "colab": {
          "base_uri": "https://localhost:8080/",
          "height": 1000
        },
        "outputId": "e483111b-9e47-4d52-b0e6-f728fcb9a838"
      },
      "source": [
        "from keras.models import load_model\n",
        "from sklearn.cluster import KMeans\n",
        "from sklearn.cluster import MiniBatchKMeans\n",
        "\n",
        "# this is a sample bundle to evaluate\n",
        "desired_bundle_id = 200\n",
        "model_path = 'steam_video_NCF_8_[64, 32, 16, 8].h5'\n",
        "print('using model: %s' % model_path)\n",
        "model = load_model(model_path)\n",
        "print('Loaded model!')\n",
        "\n",
        "mlp_bundle_embedding_weights = (next(iter(filter(lambda x: x.name == 'mlp_bundle_embedding', model.layers))).get_weights())\n",
        "\n",
        "# get the latent embedding for your desired bundle\n",
        "bundle_latent_matrix = mlp_bundle_embedding_weights[0]\n",
        "one_bundle_vector = bundle_latent_matrix[desired_bundle_id,:]\n",
        "one_bundle_vector = np.reshape(one_bundle_vector, (1,32))\n",
        "\n",
        "print('\\nPerforming kmeans to find the nearest bundles...')\n",
        "# get 50 similar bundles\n",
        "# kmeans = KMeans(n_clusters=50, random_state=0, verbose=1).fit(bundle_latent_matrix)\n",
        "kmeans = MiniBatchKMeans(n_clusters=50, random_state=0, verbose=1).fit(bundle_latent_matrix)\n",
        "desired_bundle_label = kmeans.predict(one_bundle_vector)\n",
        "bundle_label = kmeans.labels_\n",
        "neighbors = []\n",
        "for bundle_id, bundle_label in enumerate(bundle_label):\n",
        "    # print('bundle_id:{0} bundle_label:{1}'.format(bundle_id, bundle_label))\n",
        "    if bundle_label == desired_bundle_label:\n",
        "        neighbors.append(bundle_id)\n",
        "print('Found {0} neighbor bundles/games.'.format(len(neighbors))) "
      ],
      "execution_count": 58,
      "outputs": [
        {
          "output_type": "stream",
          "text": [
            "using model: steam_video_NCF_8_[64, 32, 16, 8].h5\n",
            "Loaded model!\n",
            "\n",
            "Performing kmeans to find the nearest bundles...\n",
            "Init 1/3 with method: k-means++\n",
            "Inertia for init 1/3: 19.882723\n",
            "Init 2/3 with method: k-means++\n",
            "Inertia for init 2/3: 20.409859\n",
            "Init 3/3 with method: k-means++\n",
            "Inertia for init 3/3: 20.917950\n",
            "Minibatch iteration 1/2900: mean batch inertia: 0.088504, ewa inertia: 0.088504 \n",
            "Minibatch iteration 2/2900: mean batch inertia: 0.085985, ewa inertia: 0.088325 \n",
            "Minibatch iteration 3/2900: mean batch inertia: 0.084241, ewa inertia: 0.088034 \n",
            "Minibatch iteration 4/2900: mean batch inertia: 0.085097, ewa inertia: 0.087826 \n",
            "Minibatch iteration 5/2900: mean batch inertia: 0.082324, ewa inertia: 0.087434 \n",
            "Minibatch iteration 6/2900: mean batch inertia: 0.081536, ewa inertia: 0.087015 \n",
            "Minibatch iteration 7/2900: mean batch inertia: 0.088207, ewa inertia: 0.087100 \n",
            "Minibatch iteration 8/2900: mean batch inertia: 0.082052, ewa inertia: 0.086741 \n",
            "Minibatch iteration 9/2900: mean batch inertia: 0.079400, ewa inertia: 0.086219 \n",
            "[MiniBatchKMeans] Reassigning 8 cluster centers.\n",
            "Minibatch iteration 10/2900: mean batch inertia: 0.087860, ewa inertia: 0.086336 \n",
            "Minibatch iteration 11/2900: mean batch inertia: 0.079616, ewa inertia: 0.085858 \n",
            "Minibatch iteration 12/2900: mean batch inertia: 0.080911, ewa inertia: 0.085506 \n",
            "Minibatch iteration 13/2900: mean batch inertia: 0.080001, ewa inertia: 0.085115 \n",
            "Minibatch iteration 14/2900: mean batch inertia: 0.080638, ewa inertia: 0.084797 \n",
            "Minibatch iteration 15/2900: mean batch inertia: 0.075223, ewa inertia: 0.084116 \n",
            "Minibatch iteration 16/2900: mean batch inertia: 0.083142, ewa inertia: 0.084047 \n",
            "Minibatch iteration 17/2900: mean batch inertia: 0.081302, ewa inertia: 0.083852 \n",
            "Minibatch iteration 18/2900: mean batch inertia: 0.085674, ewa inertia: 0.083981 \n",
            "Minibatch iteration 19/2900: mean batch inertia: 0.072804, ewa inertia: 0.083186 \n",
            "Minibatch iteration 20/2900: mean batch inertia: 0.078833, ewa inertia: 0.082877 \n",
            "Minibatch iteration 21/2900: mean batch inertia: 0.077551, ewa inertia: 0.082498 \n",
            "Minibatch iteration 22/2900: mean batch inertia: 0.077839, ewa inertia: 0.082167 \n",
            "Minibatch iteration 23/2900: mean batch inertia: 0.079034, ewa inertia: 0.081944 \n",
            "[MiniBatchKMeans] Reassigning 7 cluster centers.\n",
            "Minibatch iteration 24/2900: mean batch inertia: 0.081462, ewa inertia: 0.081910 \n",
            "Minibatch iteration 25/2900: mean batch inertia: 0.082822, ewa inertia: 0.081975 \n",
            "Minibatch iteration 26/2900: mean batch inertia: 0.079024, ewa inertia: 0.081765 \n",
            "Minibatch iteration 27/2900: mean batch inertia: 0.084638, ewa inertia: 0.081969 \n",
            "Minibatch iteration 28/2900: mean batch inertia: 0.086237, ewa inertia: 0.082273 \n",
            "Minibatch iteration 29/2900: mean batch inertia: 0.082233, ewa inertia: 0.082270 \n",
            "Minibatch iteration 30/2900: mean batch inertia: 0.072951, ewa inertia: 0.081607 \n",
            "Minibatch iteration 31/2900: mean batch inertia: 0.082051, ewa inertia: 0.081639 \n",
            "Minibatch iteration 32/2900: mean batch inertia: 0.078781, ewa inertia: 0.081436 \n",
            "Minibatch iteration 33/2900: mean batch inertia: 0.082032, ewa inertia: 0.081478 \n",
            "Minibatch iteration 34/2900: mean batch inertia: 0.079909, ewa inertia: 0.081367 \n",
            "Minibatch iteration 35/2900: mean batch inertia: 0.084142, ewa inertia: 0.081564 \n",
            "Minibatch iteration 36/2900: mean batch inertia: 0.081831, ewa inertia: 0.081583 \n",
            "Minibatch iteration 37/2900: mean batch inertia: 0.082157, ewa inertia: 0.081624 \n",
            "Minibatch iteration 38/2900: mean batch inertia: 0.077097, ewa inertia: 0.081302 \n",
            "[MiniBatchKMeans] Reassigning 3 cluster centers.\n",
            "Minibatch iteration 39/2900: mean batch inertia: 0.080119, ewa inertia: 0.081218 \n",
            "Minibatch iteration 40/2900: mean batch inertia: 0.079191, ewa inertia: 0.081074 \n",
            "Minibatch iteration 41/2900: mean batch inertia: 0.084175, ewa inertia: 0.081294 \n",
            "Minibatch iteration 42/2900: mean batch inertia: 0.081044, ewa inertia: 0.081276 \n",
            "Minibatch iteration 43/2900: mean batch inertia: 0.084388, ewa inertia: 0.081498 \n",
            "Minibatch iteration 44/2900: mean batch inertia: 0.078156, ewa inertia: 0.081260 \n",
            "Minibatch iteration 45/2900: mean batch inertia: 0.084081, ewa inertia: 0.081461 \n",
            "Minibatch iteration 46/2900: mean batch inertia: 0.088098, ewa inertia: 0.081933 \n",
            "Minibatch iteration 47/2900: mean batch inertia: 0.075052, ewa inertia: 0.081443 \n",
            "Minibatch iteration 48/2900: mean batch inertia: 0.079547, ewa inertia: 0.081309 \n",
            "Minibatch iteration 49/2900: mean batch inertia: 0.082210, ewa inertia: 0.081373 \n",
            "Minibatch iteration 50/2900: mean batch inertia: 0.078912, ewa inertia: 0.081198 \n",
            "Converged (lack of improvement in inertia) at iteration 50/2900\n",
            "Computing label assignment and total inertia\n",
            "Computing label assignment and total inertia\n",
            "Found 87 neighbor bundles/games.\n"
          ],
          "name": "stdout"
        }
      ]
    },
    {
      "cell_type": "code",
      "metadata": {
        "id": "HWmB1X-aQvao",
        "colab_type": "code",
        "colab": {
          "base_uri": "https://localhost:8080/",
          "height": 85
        },
        "outputId": "4200a9ea-5d54-486a-8b72-9af86dfa4dda"
      },
      "source": [
        "# get the games in similar bundles' items\n",
        "games = []\n",
        "for bundle_id in neighbors:\n",
        "    games += list(df[df['bundleId'] == int(bundle_id)]['itemId'])\n",
        "print('Found {0} neighbor items from these games.'.format(len(games))) \n",
        "\n",
        "games_arr = np.full(len(games), desired_bundle_id, dtype='int32')\n",
        "bundles = np.array(games, dtype='int32')\n",
        "\n",
        "print('\\nRanking most likely games using the NeuMF model...')\n",
        "# and predict games for bundle\n",
        "results = model.predict([games_arr,bundles],batch_size=100, verbose=0) \n",
        "results = results.tolist()\n",
        "print('Ranked the games!')"
      ],
      "execution_count": 59,
      "outputs": [
        {
          "output_type": "stream",
          "text": [
            "Found 428 neighbor items from these games.\n",
            "\n",
            "Ranking most likely games using the NeuMF model...\n",
            "Ranked the games!\n"
          ],
          "name": "stdout"
        }
      ]
    },
    {
      "cell_type": "code",
      "metadata": {
        "id": "a4z5g5EsRUTP",
        "colab_type": "code",
        "colab": {
          "base_uri": "https://localhost:8080/",
          "height": 159
        },
        "outputId": "7f3d5e41-ae97-4dd3-e486-5990d25360f1"
      },
      "source": [
        "results_df = pd.DataFrame(np.nan, index=range(len(results)), columns=['probability','item_name', 'genre'])\n",
        "print(results_df.shape)\n",
        "\n",
        "# loop through and get the probability (of being in the bundle according to my model), the game, and the genre  \n",
        "for i, prob in enumerate(results):\n",
        "    # print('i: {0} prob: {1}'.format(i,prob))\n",
        "    results_df.loc[i] = [prob[0], df[df['itemId'] == i].iloc[0]['item_name'], df[df['itemId'] == i].iloc[0]['genre']]\n",
        "results_df = results_df.sort_values(by=['probability'], ascending=False)\n",
        "\n",
        "results_df.head(3)"
      ],
      "execution_count": 62,
      "outputs": [
        {
          "output_type": "stream",
          "text": [
            "(428, 3)\n"
          ],
          "name": "stdout"
        },
        {
          "output_type": "execute_result",
          "data": {
            "text/html": [
              "<div>\n",
              "<style scoped>\n",
              "    .dataframe tbody tr th:only-of-type {\n",
              "        vertical-align: middle;\n",
              "    }\n",
              "\n",
              "    .dataframe tbody tr th {\n",
              "        vertical-align: top;\n",
              "    }\n",
              "\n",
              "    .dataframe thead th {\n",
              "        text-align: right;\n",
              "    }\n",
              "</style>\n",
              "<table border=\"1\" class=\"dataframe\">\n",
              "  <thead>\n",
              "    <tr style=\"text-align: right;\">\n",
              "      <th></th>\n",
              "      <th>probability</th>\n",
              "      <th>item_name</th>\n",
              "      <th>genre</th>\n",
              "    </tr>\n",
              "  </thead>\n",
              "  <tbody>\n",
              "    <tr>\n",
              "      <th>186</th>\n",
              "      <td>0.995564</td>\n",
              "      <td>Naruto Shippuden Uncut: Separation</td>\n",
              "      <td>Others</td>\n",
              "    </tr>\n",
              "    <tr>\n",
              "      <th>347</th>\n",
              "      <td>0.994129</td>\n",
              "      <td>Fiends of Imprisonment</td>\n",
              "      <td>Casual, Indie</td>\n",
              "    </tr>\n",
              "    <tr>\n",
              "      <th>332</th>\n",
              "      <td>0.994129</td>\n",
              "      <td>SUPERFIGHT</td>\n",
              "      <td>Casual, Indie, Strategy</td>\n",
              "    </tr>\n",
              "  </tbody>\n",
              "</table>\n",
              "</div>"
            ],
            "text/plain": [
              "     probability                           item_name                    genre\n",
              "186     0.995564  Naruto Shippuden Uncut: Separation                   Others\n",
              "347     0.994129              Fiends of Imprisonment            Casual, Indie\n",
              "332     0.994129                          SUPERFIGHT  Casual, Indie, Strategy"
            ]
          },
          "metadata": {
            "tags": []
          },
          "execution_count": 62
        }
      ]
    },
    {
      "cell_type": "code",
      "metadata": {
        "id": "XAZRD09ZRq0K",
        "colab_type": "code",
        "colab": {
          "base_uri": "https://localhost:8080/",
          "height": 142
        },
        "outputId": "a371d58f-2d80-4481-e399-49c0b4b943de"
      },
      "source": [
        "df[df['bundleId'] == 200].head(5)"
      ],
      "execution_count": 61,
      "outputs": [
        {
          "output_type": "execute_result",
          "data": {
            "text/html": [
              "<div>\n",
              "<style scoped>\n",
              "    .dataframe tbody tr th:only-of-type {\n",
              "        vertical-align: middle;\n",
              "    }\n",
              "\n",
              "    .dataframe tbody tr th {\n",
              "        vertical-align: top;\n",
              "    }\n",
              "\n",
              "    .dataframe thead th {\n",
              "        text-align: right;\n",
              "    }\n",
              "</style>\n",
              "<table border=\"1\" class=\"dataframe\">\n",
              "  <thead>\n",
              "    <tr style=\"text-align: right;\">\n",
              "      <th></th>\n",
              "      <th>item_id</th>\n",
              "      <th>item_name</th>\n",
              "      <th>genre</th>\n",
              "      <th>bundle_id</th>\n",
              "      <th>itemId</th>\n",
              "      <th>bundleId</th>\n",
              "    </tr>\n",
              "  </thead>\n",
              "  <tbody>\n",
              "    <tr>\n",
              "      <th>1021</th>\n",
              "      <td>495780</td>\n",
              "      <td>Hexoscope</td>\n",
              "      <td>Casual, Indie</td>\n",
              "      <td>1233</td>\n",
              "      <td>931</td>\n",
              "      <td>200</td>\n",
              "    </tr>\n",
              "    <tr>\n",
              "      <th>1022</th>\n",
              "      <td>511300</td>\n",
              "      <td>Hexoscope OST</td>\n",
              "      <td>Casual, Indie</td>\n",
              "      <td>1233</td>\n",
              "      <td>932</td>\n",
              "      <td>200</td>\n",
              "    </tr>\n",
              "    <tr>\n",
              "      <th>1023</th>\n",
              "      <td>511301</td>\n",
              "      <td>Hexoscope Collector's Edition Content</td>\n",
              "      <td>Casual, Indie</td>\n",
              "      <td>1233</td>\n",
              "      <td>933</td>\n",
              "      <td>200</td>\n",
              "    </tr>\n",
              "  </tbody>\n",
              "</table>\n",
              "</div>"
            ],
            "text/plain": [
              "     item_id                              item_name  ... itemId  bundleId\n",
              "1021  495780                              Hexoscope  ...    931       200\n",
              "1022  511300                          Hexoscope OST  ...    932       200\n",
              "1023  511301  Hexoscope Collector's Edition Content  ...    933       200\n",
              "\n",
              "[3 rows x 6 columns]"
            ]
          },
          "metadata": {
            "tags": []
          },
          "execution_count": 61
        }
      ]
    },
    {
      "cell_type": "code",
      "metadata": {
        "id": "wmL3nn3yS1AC",
        "colab_type": "code",
        "colab": {}
      },
      "source": [
        "#save df to json for inference\n",
        "df.to_json(r'/content/origin_steam_video_df.json')"
      ],
      "execution_count": 64,
      "outputs": []
    },
    {
      "cell_type": "code",
      "metadata": {
        "id": "V5am_Oq2WDsA",
        "colab_type": "code",
        "colab": {}
      },
      "source": [
        "load_df = pd.read_json('/content/origin_steam_video_df.json')\n",
        "load_df.head()"
      ],
      "execution_count": null,
      "outputs": []
    },
    {
      "cell_type": "code",
      "metadata": {
        "id": "UMKKCsakZXrJ",
        "colab_type": "code",
        "colab": {
          "base_uri": "https://localhost:8080/",
          "height": 17
        },
        "outputId": "56cacce9-aaf9-4909-963c-8d9208bac588"
      },
      "source": [
        "from google.colab import files\n",
        "files.download('/content/steam_video_NCF_8_[64, 32, 16, 8].h5') "
      ],
      "execution_count": 63,
      "outputs": [
        {
          "output_type": "display_data",
          "data": {
            "application/javascript": [
              "\n",
              "    async function download(id, filename, size) {\n",
              "      if (!google.colab.kernel.accessAllowed) {\n",
              "        return;\n",
              "      }\n",
              "      const div = document.createElement('div');\n",
              "      const label = document.createElement('label');\n",
              "      label.textContent = `Downloading \"${filename}\": `;\n",
              "      div.appendChild(label);\n",
              "      const progress = document.createElement('progress');\n",
              "      progress.max = size;\n",
              "      div.appendChild(progress);\n",
              "      document.body.appendChild(div);\n",
              "\n",
              "      const buffers = [];\n",
              "      let downloaded = 0;\n",
              "\n",
              "      const channel = await google.colab.kernel.comms.open(id);\n",
              "      // Send a message to notify the kernel that we're ready.\n",
              "      channel.send({})\n",
              "\n",
              "      for await (const message of channel.messages) {\n",
              "        // Send a message to notify the kernel that we're ready.\n",
              "        channel.send({})\n",
              "        if (message.buffers) {\n",
              "          for (const buffer of message.buffers) {\n",
              "            buffers.push(buffer);\n",
              "            downloaded += buffer.byteLength;\n",
              "            progress.value = downloaded;\n",
              "          }\n",
              "        }\n",
              "      }\n",
              "      const blob = new Blob(buffers, {type: 'application/binary'});\n",
              "      const a = document.createElement('a');\n",
              "      a.href = window.URL.createObjectURL(blob);\n",
              "      a.download = filename;\n",
              "      div.appendChild(a);\n",
              "      a.click();\n",
              "      div.remove();\n",
              "    }\n",
              "  "
            ],
            "text/plain": [
              "<IPython.core.display.Javascript object>"
            ]
          },
          "metadata": {
            "tags": []
          }
        },
        {
          "output_type": "display_data",
          "data": {
            "application/javascript": [
              "download(\"download_96364252-194a-4e3a-a531-c74b399e902b\", \"steam_video_NCF_8_[64, 32, 16, 8].h5\", 2799344)"
            ],
            "text/plain": [
              "<IPython.core.display.Javascript object>"
            ]
          },
          "metadata": {
            "tags": []
          }
        }
      ]
    },
    {
      "cell_type": "code",
      "metadata": {
        "id": "3_Tav_y8SN1P",
        "colab_type": "code",
        "colab": {
          "base_uri": "https://localhost:8080/",
          "height": 17
        },
        "outputId": "7a23f9da-75b2-4583-a692-6c5a7c758ffd"
      },
      "source": [
        "files.download('/content/origin_steam_video_df.json')"
      ],
      "execution_count": 65,
      "outputs": [
        {
          "output_type": "display_data",
          "data": {
            "application/javascript": [
              "\n",
              "    async function download(id, filename, size) {\n",
              "      if (!google.colab.kernel.accessAllowed) {\n",
              "        return;\n",
              "      }\n",
              "      const div = document.createElement('div');\n",
              "      const label = document.createElement('label');\n",
              "      label.textContent = `Downloading \"${filename}\": `;\n",
              "      div.appendChild(label);\n",
              "      const progress = document.createElement('progress');\n",
              "      progress.max = size;\n",
              "      div.appendChild(progress);\n",
              "      document.body.appendChild(div);\n",
              "\n",
              "      const buffers = [];\n",
              "      let downloaded = 0;\n",
              "\n",
              "      const channel = await google.colab.kernel.comms.open(id);\n",
              "      // Send a message to notify the kernel that we're ready.\n",
              "      channel.send({})\n",
              "\n",
              "      for await (const message of channel.messages) {\n",
              "        // Send a message to notify the kernel that we're ready.\n",
              "        channel.send({})\n",
              "        if (message.buffers) {\n",
              "          for (const buffer of message.buffers) {\n",
              "            buffers.push(buffer);\n",
              "            downloaded += buffer.byteLength;\n",
              "            progress.value = downloaded;\n",
              "          }\n",
              "        }\n",
              "      }\n",
              "      const blob = new Blob(buffers, {type: 'application/binary'});\n",
              "      const a = document.createElement('a');\n",
              "      a.href = window.URL.createObjectURL(blob);\n",
              "      a.download = filename;\n",
              "      div.appendChild(a);\n",
              "      a.click();\n",
              "      div.remove();\n",
              "    }\n",
              "  "
            ],
            "text/plain": [
              "<IPython.core.display.Javascript object>"
            ]
          },
          "metadata": {
            "tags": []
          }
        },
        {
          "output_type": "display_data",
          "data": {
            "application/javascript": [
              "download(\"download_e86ec458-e670-4700-a5ea-fcd162e52adf\", \"origin_steam_video_df.json\", 406271)"
            ],
            "text/plain": [
              "<IPython.core.display.Javascript object>"
            ]
          },
          "metadata": {
            "tags": []
          }
        }
      ]
    }
  ]
}